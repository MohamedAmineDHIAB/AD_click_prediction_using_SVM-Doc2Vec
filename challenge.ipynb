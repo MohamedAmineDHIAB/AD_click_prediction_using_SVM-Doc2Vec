{
 "cells": [
  {
   "cell_type": "markdown",
   "source": [
    "# Data Science Challenge"
   ],
   "metadata": {
    "colab_type": "text",
    "id": "x_BkOtqBIKQz"
   }
  },
  {
   "cell_type": "code",
   "execution_count": 1,
   "source": [
    "# If you'd like to install packages that aren't installed by default, uncomment the last two lines of this cell and replace <package list> with a list of your packages.\n",
    "# This will ensure your notebook has all the dependencies and works everywhere\n",
    "\n",
    "#import sys\n",
    "#!{sys.executable} -m pip install <package list>"
   ],
   "outputs": [],
   "metadata": {
    "colab": {},
    "colab_type": "code",
    "id": "U_VthdACIKQ6"
   }
  },
  {
   "cell_type": "code",
   "execution_count": 1,
   "source": [
    "#Libraries\n",
    "import pandas as pd, numpy as np\n",
    "pd.set_option(\"display.max_columns\", 101)"
   ],
   "outputs": [],
   "metadata": {
    "colab": {},
    "colab_type": "code",
    "id": "VzGFUCCVIKRL"
   }
  },
  {
   "cell_type": "markdown",
   "source": [
    "## Data Description"
   ],
   "metadata": {
    "colab_type": "text",
    "id": "TZ23KNY8IKRT"
   }
  },
  {
   "cell_type": "markdown",
   "source": [
    "Column | Description\n",
    ":---|:---\n",
    "`id` | Unique id\n",
    "`Daily Time Spent on Site` | Consumer time spent on site (in minutes)\n",
    "`Age` | Consumer age (in years)\n",
    "`Area Income` | Avg. Income of geographical area of consumer (in US $$)\n",
    "`Daily Internet Usage` | Avg. minutes a day consumer is on the internet\n",
    "`Ad Topic Line` | Headline of the advertisement\n",
    "`gender` | Gender of the consumer\n",
    "`Country` | Country of consumer\n",
    "`Timestamp` | Timestamp at which consumer clicked on Ad or closed window (YYYY-MM-DD HH:MM:SS)\n",
    "`Clicked` | Whether a consumer clicked on the advert or not (0: No ,1: Yes)"
   ],
   "metadata": {
    "colab_type": "text",
    "id": "jWSkqquEIKRW"
   }
  },
  {
   "cell_type": "markdown",
   "source": [
    "## Data Wrangling & Visualization"
   ],
   "metadata": {
    "colab_type": "text",
    "id": "BWQqx7cSIKRX"
   }
  },
  {
   "cell_type": "code",
   "execution_count": 2,
   "source": [
    "# Dataset is already loaded below\n",
    "data = pd.read_csv(\"train.csv\")"
   ],
   "outputs": [],
   "metadata": {
    "colab": {},
    "colab_type": "code",
    "id": "SsjL7tf7IKRc"
   }
  },
  {
   "cell_type": "code",
   "execution_count": 3,
   "source": [
    "data.head()"
   ],
   "outputs": [
    {
     "output_type": "execute_result",
     "data": {
      "text/plain": [
       "     id            Timestamp  Daily Time Spent on Site  Age  Area Income  \\\n",
       "0  1200  2016-01-01 02:52:10                     80.67   34     58909.36   \n",
       "1  1201  2016-01-01 03:35:35                     68.01   25     68357.96   \n",
       "2  1202  2016-01-01 05:31:22                     80.94   36     60803.00   \n",
       "3  1203  2016-01-01 08:27:06                     78.77   28     63497.62   \n",
       "4  1204  2016-01-01 15:14:24                     36.56   29     42838.29   \n",
       "\n",
       "   Daily Internet Usage                                   Ad Topic Line  \\\n",
       "0                239.76               Seamless impactful info-mediaries   \n",
       "1                188.32                 Ameliorated actuating workforce   \n",
       "2                239.94                    Self-enabling local strategy   \n",
       "3                211.83  Public-key intangible Graphical User Interface   \n",
       "4                195.89       Team-oriented bi-directional secured line   \n",
       "\n",
       "   gender      Country  Clicked  \n",
       "0       0     Portugal        0  \n",
       "1       1  Afghanistan        0  \n",
       "2       0      Bermuda        0  \n",
       "3       0         Guam        0  \n",
       "4       0       Uganda        1  "
      ],
      "text/html": [
       "<div>\n",
       "<style scoped>\n",
       "    .dataframe tbody tr th:only-of-type {\n",
       "        vertical-align: middle;\n",
       "    }\n",
       "\n",
       "    .dataframe tbody tr th {\n",
       "        vertical-align: top;\n",
       "    }\n",
       "\n",
       "    .dataframe thead th {\n",
       "        text-align: right;\n",
       "    }\n",
       "</style>\n",
       "<table border=\"1\" class=\"dataframe\">\n",
       "  <thead>\n",
       "    <tr style=\"text-align: right;\">\n",
       "      <th></th>\n",
       "      <th>id</th>\n",
       "      <th>Timestamp</th>\n",
       "      <th>Daily Time Spent on Site</th>\n",
       "      <th>Age</th>\n",
       "      <th>Area Income</th>\n",
       "      <th>Daily Internet Usage</th>\n",
       "      <th>Ad Topic Line</th>\n",
       "      <th>gender</th>\n",
       "      <th>Country</th>\n",
       "      <th>Clicked</th>\n",
       "    </tr>\n",
       "  </thead>\n",
       "  <tbody>\n",
       "    <tr>\n",
       "      <th>0</th>\n",
       "      <td>1200</td>\n",
       "      <td>2016-01-01 02:52:10</td>\n",
       "      <td>80.67</td>\n",
       "      <td>34</td>\n",
       "      <td>58909.36</td>\n",
       "      <td>239.76</td>\n",
       "      <td>Seamless impactful info-mediaries</td>\n",
       "      <td>0</td>\n",
       "      <td>Portugal</td>\n",
       "      <td>0</td>\n",
       "    </tr>\n",
       "    <tr>\n",
       "      <th>1</th>\n",
       "      <td>1201</td>\n",
       "      <td>2016-01-01 03:35:35</td>\n",
       "      <td>68.01</td>\n",
       "      <td>25</td>\n",
       "      <td>68357.96</td>\n",
       "      <td>188.32</td>\n",
       "      <td>Ameliorated actuating workforce</td>\n",
       "      <td>1</td>\n",
       "      <td>Afghanistan</td>\n",
       "      <td>0</td>\n",
       "    </tr>\n",
       "    <tr>\n",
       "      <th>2</th>\n",
       "      <td>1202</td>\n",
       "      <td>2016-01-01 05:31:22</td>\n",
       "      <td>80.94</td>\n",
       "      <td>36</td>\n",
       "      <td>60803.00</td>\n",
       "      <td>239.94</td>\n",
       "      <td>Self-enabling local strategy</td>\n",
       "      <td>0</td>\n",
       "      <td>Bermuda</td>\n",
       "      <td>0</td>\n",
       "    </tr>\n",
       "    <tr>\n",
       "      <th>3</th>\n",
       "      <td>1203</td>\n",
       "      <td>2016-01-01 08:27:06</td>\n",
       "      <td>78.77</td>\n",
       "      <td>28</td>\n",
       "      <td>63497.62</td>\n",
       "      <td>211.83</td>\n",
       "      <td>Public-key intangible Graphical User Interface</td>\n",
       "      <td>0</td>\n",
       "      <td>Guam</td>\n",
       "      <td>0</td>\n",
       "    </tr>\n",
       "    <tr>\n",
       "      <th>4</th>\n",
       "      <td>1204</td>\n",
       "      <td>2016-01-01 15:14:24</td>\n",
       "      <td>36.56</td>\n",
       "      <td>29</td>\n",
       "      <td>42838.29</td>\n",
       "      <td>195.89</td>\n",
       "      <td>Team-oriented bi-directional secured line</td>\n",
       "      <td>0</td>\n",
       "      <td>Uganda</td>\n",
       "      <td>1</td>\n",
       "    </tr>\n",
       "  </tbody>\n",
       "</table>\n",
       "</div>"
      ]
     },
     "metadata": {},
     "execution_count": 3
    }
   ],
   "metadata": {
    "colab": {},
    "colab_type": "code",
    "id": "kzuHtZEkIKRh",
    "outputId": "9d14832c-2eda-48eb-df41-548113a94a73"
   }
  },
  {
   "cell_type": "code",
   "execution_count": 4,
   "source": [
    "#Explore columns\n",
    "data.columns"
   ],
   "outputs": [
    {
     "output_type": "execute_result",
     "data": {
      "text/plain": [
       "Index(['id', 'Timestamp', 'Daily Time Spent on Site', 'Age', 'Area Income',\n",
       "       'Daily Internet Usage', 'Ad Topic Line', 'gender', 'Country',\n",
       "       'Clicked'],\n",
       "      dtype='object')"
      ]
     },
     "metadata": {},
     "execution_count": 4
    }
   ],
   "metadata": {
    "colab": {},
    "colab_type": "code",
    "id": "0mhMZRlBIKRu",
    "outputId": "0a669059-5528-4ec0-d64b-8231f6aadf45"
   }
  },
  {
   "cell_type": "code",
   "execution_count": 5,
   "source": [
    "#Description\n",
    "data.describe()"
   ],
   "outputs": [
    {
     "output_type": "execute_result",
     "data": {
      "text/plain": [
       "                id  Daily Time Spent on Site          Age   Area Income  \\\n",
       "count  1000.000000               1000.000000  1000.000000    775.000000   \n",
       "mean   1699.500000                 65.120650    35.816000  55343.014555   \n",
       "std     288.819436                 15.781456     8.782669  13182.578667   \n",
       "min    1200.000000                 32.600000    19.000000  14548.060000   \n",
       "25%    1449.750000                 51.450000    29.000000  48270.620000   \n",
       "50%    1699.500000                 68.390000    35.000000  57737.510000   \n",
       "75%    1949.250000                 78.572500    41.250000  65207.185000   \n",
       "max    2199.000000                 91.370000    61.000000  79484.800000   \n",
       "\n",
       "       Daily Internet Usage       gender      Clicked  \n",
       "count           1000.000000  1000.000000  1000.000000  \n",
       "mean             179.592310     0.474000     0.503000  \n",
       "std               43.735785     0.499573     0.500241  \n",
       "min              105.000000     0.000000     0.000000  \n",
       "25%              137.885000     0.000000     0.000000  \n",
       "50%              182.425000     0.000000     1.000000  \n",
       "75%              217.707500     1.000000     1.000000  \n",
       "max              269.960000     1.000000     1.000000  "
      ],
      "text/html": [
       "<div>\n",
       "<style scoped>\n",
       "    .dataframe tbody tr th:only-of-type {\n",
       "        vertical-align: middle;\n",
       "    }\n",
       "\n",
       "    .dataframe tbody tr th {\n",
       "        vertical-align: top;\n",
       "    }\n",
       "\n",
       "    .dataframe thead th {\n",
       "        text-align: right;\n",
       "    }\n",
       "</style>\n",
       "<table border=\"1\" class=\"dataframe\">\n",
       "  <thead>\n",
       "    <tr style=\"text-align: right;\">\n",
       "      <th></th>\n",
       "      <th>id</th>\n",
       "      <th>Daily Time Spent on Site</th>\n",
       "      <th>Age</th>\n",
       "      <th>Area Income</th>\n",
       "      <th>Daily Internet Usage</th>\n",
       "      <th>gender</th>\n",
       "      <th>Clicked</th>\n",
       "    </tr>\n",
       "  </thead>\n",
       "  <tbody>\n",
       "    <tr>\n",
       "      <th>count</th>\n",
       "      <td>1000.000000</td>\n",
       "      <td>1000.000000</td>\n",
       "      <td>1000.000000</td>\n",
       "      <td>775.000000</td>\n",
       "      <td>1000.000000</td>\n",
       "      <td>1000.000000</td>\n",
       "      <td>1000.000000</td>\n",
       "    </tr>\n",
       "    <tr>\n",
       "      <th>mean</th>\n",
       "      <td>1699.500000</td>\n",
       "      <td>65.120650</td>\n",
       "      <td>35.816000</td>\n",
       "      <td>55343.014555</td>\n",
       "      <td>179.592310</td>\n",
       "      <td>0.474000</td>\n",
       "      <td>0.503000</td>\n",
       "    </tr>\n",
       "    <tr>\n",
       "      <th>std</th>\n",
       "      <td>288.819436</td>\n",
       "      <td>15.781456</td>\n",
       "      <td>8.782669</td>\n",
       "      <td>13182.578667</td>\n",
       "      <td>43.735785</td>\n",
       "      <td>0.499573</td>\n",
       "      <td>0.500241</td>\n",
       "    </tr>\n",
       "    <tr>\n",
       "      <th>min</th>\n",
       "      <td>1200.000000</td>\n",
       "      <td>32.600000</td>\n",
       "      <td>19.000000</td>\n",
       "      <td>14548.060000</td>\n",
       "      <td>105.000000</td>\n",
       "      <td>0.000000</td>\n",
       "      <td>0.000000</td>\n",
       "    </tr>\n",
       "    <tr>\n",
       "      <th>25%</th>\n",
       "      <td>1449.750000</td>\n",
       "      <td>51.450000</td>\n",
       "      <td>29.000000</td>\n",
       "      <td>48270.620000</td>\n",
       "      <td>137.885000</td>\n",
       "      <td>0.000000</td>\n",
       "      <td>0.000000</td>\n",
       "    </tr>\n",
       "    <tr>\n",
       "      <th>50%</th>\n",
       "      <td>1699.500000</td>\n",
       "      <td>68.390000</td>\n",
       "      <td>35.000000</td>\n",
       "      <td>57737.510000</td>\n",
       "      <td>182.425000</td>\n",
       "      <td>0.000000</td>\n",
       "      <td>1.000000</td>\n",
       "    </tr>\n",
       "    <tr>\n",
       "      <th>75%</th>\n",
       "      <td>1949.250000</td>\n",
       "      <td>78.572500</td>\n",
       "      <td>41.250000</td>\n",
       "      <td>65207.185000</td>\n",
       "      <td>217.707500</td>\n",
       "      <td>1.000000</td>\n",
       "      <td>1.000000</td>\n",
       "    </tr>\n",
       "    <tr>\n",
       "      <th>max</th>\n",
       "      <td>2199.000000</td>\n",
       "      <td>91.370000</td>\n",
       "      <td>61.000000</td>\n",
       "      <td>79484.800000</td>\n",
       "      <td>269.960000</td>\n",
       "      <td>1.000000</td>\n",
       "      <td>1.000000</td>\n",
       "    </tr>\n",
       "  </tbody>\n",
       "</table>\n",
       "</div>"
      ]
     },
     "metadata": {},
     "execution_count": 5
    }
   ],
   "metadata": {
    "colab": {},
    "colab_type": "code",
    "id": "-SrTmyfJIKR1",
    "outputId": "12b270ca-8c3f-402b-d6c1-286c17e63fdd",
    "scrolled": true
   }
  },
  {
   "cell_type": "markdown",
   "source": [
    "## Visualization, Modeling, Machine Learning\n",
    "\n",
    "Predict which users might click a particular advertisement.\n",
    "Please explain the findings effectively to technical and non-technical audiences using comments and visualizations, if appropriate.\n",
    "- **Build an optimized model that effectively solves the business problem.**\n",
    "- **The model's performance will be evaluated on the basis of accuracy.**\n",
    "- **Read the test.csv file and prepare features for testing.**"
   ],
   "metadata": {
    "colab_type": "text",
    "id": "ymsdDaIPIKSX"
   }
  },
  {
   "cell_type": "code",
   "execution_count": 6,
   "source": [
    "#Loading Test data\n",
    "test_data=pd.read_csv('test.csv')\n",
    "test_data.head()"
   ],
   "outputs": [
    {
     "output_type": "execute_result",
     "data": {
      "text/plain": [
       "     id            Timestamp  Daily Time Spent on Site  Age  Area Income  \\\n",
       "0  2200  2016-06-04 17:24:07                     43.88   54     31523.09   \n",
       "1  2201  2016-06-05 00:29:13                     66.40   40     77567.85   \n",
       "2  2202  2016-06-05 00:29:13                     79.52   34          NaN   \n",
       "3  2203  2016-06-05 07:54:30                     52.35   25     33293.78   \n",
       "4  2204  2016-06-05 07:54:30                     81.51   36          NaN   \n",
       "\n",
       "   Daily Internet Usage                      Ad Topic Line  gender  \\\n",
       "0                166.85       Enhanced methodical database       1   \n",
       "1                214.42       Digitized heuristic solution       0   \n",
       "2                141.58      Customer-focused 24/7 concept       0   \n",
       "3                147.61  Mandatory 4thgeneration structure       1   \n",
       "4                195.93  Monitored local Internet solution       0   \n",
       "\n",
       "                    Country  \n",
       "0                   Somalia  \n",
       "1       Antigua and Barbuda  \n",
       "2  United States of America  \n",
       "3                      Mali  \n",
       "4                   Croatia  "
      ],
      "text/html": [
       "<div>\n",
       "<style scoped>\n",
       "    .dataframe tbody tr th:only-of-type {\n",
       "        vertical-align: middle;\n",
       "    }\n",
       "\n",
       "    .dataframe tbody tr th {\n",
       "        vertical-align: top;\n",
       "    }\n",
       "\n",
       "    .dataframe thead th {\n",
       "        text-align: right;\n",
       "    }\n",
       "</style>\n",
       "<table border=\"1\" class=\"dataframe\">\n",
       "  <thead>\n",
       "    <tr style=\"text-align: right;\">\n",
       "      <th></th>\n",
       "      <th>id</th>\n",
       "      <th>Timestamp</th>\n",
       "      <th>Daily Time Spent on Site</th>\n",
       "      <th>Age</th>\n",
       "      <th>Area Income</th>\n",
       "      <th>Daily Internet Usage</th>\n",
       "      <th>Ad Topic Line</th>\n",
       "      <th>gender</th>\n",
       "      <th>Country</th>\n",
       "    </tr>\n",
       "  </thead>\n",
       "  <tbody>\n",
       "    <tr>\n",
       "      <th>0</th>\n",
       "      <td>2200</td>\n",
       "      <td>2016-06-04 17:24:07</td>\n",
       "      <td>43.88</td>\n",
       "      <td>54</td>\n",
       "      <td>31523.09</td>\n",
       "      <td>166.85</td>\n",
       "      <td>Enhanced methodical database</td>\n",
       "      <td>1</td>\n",
       "      <td>Somalia</td>\n",
       "    </tr>\n",
       "    <tr>\n",
       "      <th>1</th>\n",
       "      <td>2201</td>\n",
       "      <td>2016-06-05 00:29:13</td>\n",
       "      <td>66.40</td>\n",
       "      <td>40</td>\n",
       "      <td>77567.85</td>\n",
       "      <td>214.42</td>\n",
       "      <td>Digitized heuristic solution</td>\n",
       "      <td>0</td>\n",
       "      <td>Antigua and Barbuda</td>\n",
       "    </tr>\n",
       "    <tr>\n",
       "      <th>2</th>\n",
       "      <td>2202</td>\n",
       "      <td>2016-06-05 00:29:13</td>\n",
       "      <td>79.52</td>\n",
       "      <td>34</td>\n",
       "      <td>NaN</td>\n",
       "      <td>141.58</td>\n",
       "      <td>Customer-focused 24/7 concept</td>\n",
       "      <td>0</td>\n",
       "      <td>United States of America</td>\n",
       "    </tr>\n",
       "    <tr>\n",
       "      <th>3</th>\n",
       "      <td>2203</td>\n",
       "      <td>2016-06-05 07:54:30</td>\n",
       "      <td>52.35</td>\n",
       "      <td>25</td>\n",
       "      <td>33293.78</td>\n",
       "      <td>147.61</td>\n",
       "      <td>Mandatory 4thgeneration structure</td>\n",
       "      <td>1</td>\n",
       "      <td>Mali</td>\n",
       "    </tr>\n",
       "    <tr>\n",
       "      <th>4</th>\n",
       "      <td>2204</td>\n",
       "      <td>2016-06-05 07:54:30</td>\n",
       "      <td>81.51</td>\n",
       "      <td>36</td>\n",
       "      <td>NaN</td>\n",
       "      <td>195.93</td>\n",
       "      <td>Monitored local Internet solution</td>\n",
       "      <td>0</td>\n",
       "      <td>Croatia</td>\n",
       "    </tr>\n",
       "  </tbody>\n",
       "</table>\n",
       "</div>"
      ]
     },
     "metadata": {},
     "execution_count": 6
    }
   ],
   "metadata": {
    "colab": {},
    "colab_type": "code",
    "id": "Hsxh3SMgIKSY",
    "outputId": "d98d0f00-f33f-407b-df59-a9915bb03fa1"
   }
  },
  {
   "cell_type": "markdown",
   "source": [
    "\n",
    "\n",
    "**Describe the most important features in the model to a management audience.**\n",
    "\n",
    "> #### Task:\n",
    "- **Visualize the top 10 features and their feature importance.**\n"
   ],
   "metadata": {
    "colab_type": "text",
    "id": "MK_rdXETIKS4"
   }
  },
  {
   "cell_type": "markdown",
   "source": [
    "# Data Analyse & Preprocessing :"
   ],
   "metadata": {
    "colab": {},
    "colab_type": "code",
    "id": "1XiIoLYLIKSj"
   }
  },
  {
   "cell_type": "code",
   "execution_count": 7,
   "source": [
    "global k\n",
    "global ctry_dict\n",
    "ctry_dict={}\n",
    "k=0\n",
    "def country_to_int(row):\n",
    "    global k\n",
    "    global ctry_dict\n",
    "    country=row['Country']\n",
    "    if country not in ctry_dict:\n",
    "        ctry_dict[country]=k\n",
    "        k+=1\n",
    "    return(ctry_dict[country])\n",
    "    \n",
    "     "
   ],
   "outputs": [],
   "metadata": {}
  },
  {
   "cell_type": "code",
   "execution_count": 8,
   "source": [
    "def df_country_int(df:pd.DataFrame):\n",
    "    global k\n",
    "    global ctry_dict\n",
    "    df['Country_int']=df.apply(country_to_int,axis=1)\n",
    "    return(df) "
   ],
   "outputs": [],
   "metadata": {}
  },
  {
   "cell_type": "code",
   "execution_count": 9,
   "source": [
    "%%time\n",
    "data_new=data.copy()\n",
    "df_country_int(data_new).head()"
   ],
   "outputs": [
    {
     "output_type": "stream",
     "name": "stdout",
     "text": [
      "CPU times: user 11 ms, sys: 0 ns, total: 11 ms\n",
      "Wall time: 11.3 ms\n"
     ]
    },
    {
     "output_type": "execute_result",
     "data": {
      "text/plain": [
       "     id            Timestamp  Daily Time Spent on Site  Age  Area Income  \\\n",
       "0  1200  2016-01-01 02:52:10                     80.67   34     58909.36   \n",
       "1  1201  2016-01-01 03:35:35                     68.01   25     68357.96   \n",
       "2  1202  2016-01-01 05:31:22                     80.94   36     60803.00   \n",
       "3  1203  2016-01-01 08:27:06                     78.77   28     63497.62   \n",
       "4  1204  2016-01-01 15:14:24                     36.56   29     42838.29   \n",
       "\n",
       "   Daily Internet Usage                                   Ad Topic Line  \\\n",
       "0                239.76               Seamless impactful info-mediaries   \n",
       "1                188.32                 Ameliorated actuating workforce   \n",
       "2                239.94                    Self-enabling local strategy   \n",
       "3                211.83  Public-key intangible Graphical User Interface   \n",
       "4                195.89       Team-oriented bi-directional secured line   \n",
       "\n",
       "   gender      Country  Clicked  Country_int  \n",
       "0       0     Portugal        0            0  \n",
       "1       1  Afghanistan        0            1  \n",
       "2       0      Bermuda        0            2  \n",
       "3       0         Guam        0            3  \n",
       "4       0       Uganda        1            4  "
      ],
      "text/html": [
       "<div>\n",
       "<style scoped>\n",
       "    .dataframe tbody tr th:only-of-type {\n",
       "        vertical-align: middle;\n",
       "    }\n",
       "\n",
       "    .dataframe tbody tr th {\n",
       "        vertical-align: top;\n",
       "    }\n",
       "\n",
       "    .dataframe thead th {\n",
       "        text-align: right;\n",
       "    }\n",
       "</style>\n",
       "<table border=\"1\" class=\"dataframe\">\n",
       "  <thead>\n",
       "    <tr style=\"text-align: right;\">\n",
       "      <th></th>\n",
       "      <th>id</th>\n",
       "      <th>Timestamp</th>\n",
       "      <th>Daily Time Spent on Site</th>\n",
       "      <th>Age</th>\n",
       "      <th>Area Income</th>\n",
       "      <th>Daily Internet Usage</th>\n",
       "      <th>Ad Topic Line</th>\n",
       "      <th>gender</th>\n",
       "      <th>Country</th>\n",
       "      <th>Clicked</th>\n",
       "      <th>Country_int</th>\n",
       "    </tr>\n",
       "  </thead>\n",
       "  <tbody>\n",
       "    <tr>\n",
       "      <th>0</th>\n",
       "      <td>1200</td>\n",
       "      <td>2016-01-01 02:52:10</td>\n",
       "      <td>80.67</td>\n",
       "      <td>34</td>\n",
       "      <td>58909.36</td>\n",
       "      <td>239.76</td>\n",
       "      <td>Seamless impactful info-mediaries</td>\n",
       "      <td>0</td>\n",
       "      <td>Portugal</td>\n",
       "      <td>0</td>\n",
       "      <td>0</td>\n",
       "    </tr>\n",
       "    <tr>\n",
       "      <th>1</th>\n",
       "      <td>1201</td>\n",
       "      <td>2016-01-01 03:35:35</td>\n",
       "      <td>68.01</td>\n",
       "      <td>25</td>\n",
       "      <td>68357.96</td>\n",
       "      <td>188.32</td>\n",
       "      <td>Ameliorated actuating workforce</td>\n",
       "      <td>1</td>\n",
       "      <td>Afghanistan</td>\n",
       "      <td>0</td>\n",
       "      <td>1</td>\n",
       "    </tr>\n",
       "    <tr>\n",
       "      <th>2</th>\n",
       "      <td>1202</td>\n",
       "      <td>2016-01-01 05:31:22</td>\n",
       "      <td>80.94</td>\n",
       "      <td>36</td>\n",
       "      <td>60803.00</td>\n",
       "      <td>239.94</td>\n",
       "      <td>Self-enabling local strategy</td>\n",
       "      <td>0</td>\n",
       "      <td>Bermuda</td>\n",
       "      <td>0</td>\n",
       "      <td>2</td>\n",
       "    </tr>\n",
       "    <tr>\n",
       "      <th>3</th>\n",
       "      <td>1203</td>\n",
       "      <td>2016-01-01 08:27:06</td>\n",
       "      <td>78.77</td>\n",
       "      <td>28</td>\n",
       "      <td>63497.62</td>\n",
       "      <td>211.83</td>\n",
       "      <td>Public-key intangible Graphical User Interface</td>\n",
       "      <td>0</td>\n",
       "      <td>Guam</td>\n",
       "      <td>0</td>\n",
       "      <td>3</td>\n",
       "    </tr>\n",
       "    <tr>\n",
       "      <th>4</th>\n",
       "      <td>1204</td>\n",
       "      <td>2016-01-01 15:14:24</td>\n",
       "      <td>36.56</td>\n",
       "      <td>29</td>\n",
       "      <td>42838.29</td>\n",
       "      <td>195.89</td>\n",
       "      <td>Team-oriented bi-directional secured line</td>\n",
       "      <td>0</td>\n",
       "      <td>Uganda</td>\n",
       "      <td>1</td>\n",
       "      <td>4</td>\n",
       "    </tr>\n",
       "  </tbody>\n",
       "</table>\n",
       "</div>"
      ]
     },
     "metadata": {},
     "execution_count": 9
    }
   ],
   "metadata": {}
  },
  {
   "cell_type": "code",
   "execution_count": 97,
   "source": [
    "\n",
    "#transform each timestamp to multiple columns of integers\n",
    "import numpy as np\n",
    "import re\n",
    "from matplotlib import pyplot as plt\n",
    "import matplotlib\n",
    "def timestamps_to_array(timestamp):\n",
    "    #timestamp=df['Timestamp']\n",
    "    time_list=re.split(r'\\D+',timestamp)\n",
    "    Year=int(time_list[0])\n",
    "    Month=int(time_list[1])\n",
    "    Day=int(time_list[2])\n",
    "    Hour=int(time_list[3])\n",
    "    return(Year,Month,Day,Hour)\n"
   ],
   "outputs": [],
   "metadata": {}
  },
  {
   "cell_type": "code",
   "execution_count": 14,
   "source": [
    "def df_timestamps(df:pd.DataFrame):\n",
    "    df['Year'],df['Month'],df['Day'],df['Hour']=zip(*df['Timestamp'].map(timestamps_to_array))\n",
    "    return(df)"
   ],
   "outputs": [],
   "metadata": {}
  },
  {
   "cell_type": "code",
   "execution_count": 15,
   "source": [
    "%%time\n",
    "data_new=df_timestamps(data_new)\n",
    "print(data_new[['Year', 'Month', 'Day', 'Hour']].head())"
   ],
   "outputs": [
    {
     "output_type": "stream",
     "name": "stdout",
     "text": [
      "   Year  Month  Day  Hour\n",
      "0  2016      1    1     2\n",
      "1  2016      1    1     3\n",
      "2  2016      1    1     5\n",
      "3  2016      1    1     8\n",
      "4  2016      1    1    15\n",
      "CPU times: user 9.14 ms, sys: 1.26 ms, total: 10.4 ms\n",
      "Wall time: 9.3 ms\n"
     ]
    }
   ],
   "metadata": {}
  },
  {
   "cell_type": "code",
   "execution_count": 62,
   "source": [
    "data_hist=data_new[data.Clicked!=0]"
   ],
   "outputs": [],
   "metadata": {}
  },
  {
   "cell_type": "code",
   "execution_count": 109,
   "source": [
    "%time\n",
    "params = {'axes.titlesize':'25',\n",
    "          'xtick.labelsize':'12',\n",
    "          'ytick.labelsize':'12',\n",
    "          'axes.titleweight':'50'}\n",
    "matplotlib.rcParams.update(params)\n",
    "fig, axes = plt.subplots(nrows = 2, ncols =2, figsize = (15, 10))\n",
    "colors = [\"#e24a33\", \"#348abd\", \"#988ed5\", \"#777777\"]\n",
    "\n",
    "for index, column in enumerate(['Year','Month','Day','Hour']):\n",
    "    \n",
    "    ax = axes.flatten()[index]\n",
    "    ax.hist(data_hist[column], color = colors[index], label = column,align = 'left',edgecolor = 'k')\n",
    "    ax.set_title('Clicks per '+column)\n",
    "    ax.legend(loc = \"best\")\n",
    "    \n",
    "plt.show()\n"
   ],
   "outputs": [
    {
     "output_type": "stream",
     "name": "stdout",
     "text": [
      "CPU times: user 4 µs, sys: 0 ns, total: 4 µs\n",
      "Wall time: 6.2 µs\n"
     ]
    },
    {
     "output_type": "display_data",
     "data": {
      "text/plain": [
       "<Figure size 1080x720 with 4 Axes>"
      ],
      "image/png": "[encoded data removed]"
     },
     "metadata": {
      "needs_background": "light"
     }
    }
   ],
   "metadata": {}
  },
  {
   "cell_type": "markdown",
   "source": [
    "**=>** We can remark that there is only one year in the dataset therefore the number of clicks per year is a single bar , and also the number of clicks per month is almost constant , however we have a drop for the last month \"6\" , we can conclude that this drop is due to the low number of data elements with a 'month==6'. Also we remark fluctuations of number of clicks when it comes to the feature of Days and hours.\n",
    "\n",
    "**As to conclude, we can only take the day as well as the hour in which the Ad is seen and drop the rest of the time stamp.**"
   ],
   "metadata": {}
  },
  {
   "cell_type": "code",
   "execution_count": 110,
   "source": [
    "params = {'axes.titlesize':'32',\n",
    "          'xtick.labelsize':'24',\n",
    "          'ytick.labelsize':'24',\n",
    "          'axes.titleweight':'50'}\n",
    "\n",
    "matplotlib.rcParams.update(params)\n",
    "data_hist.hist(column='gender',figsize=(7,5),grid=False,xlabelsize=15,ylabelsize=15,align=\"left\",color='#DAE87B',edgecolor='k')\n",
    "plt.title('Clicks per Gender')\n",
    "plt.show()"
   ],
   "outputs": [
    {
     "output_type": "display_data",
     "data": {
      "text/plain": [
       "<Figure size 504x360 with 1 Axes>"
      ],
      "image/png": "[encoded data removed]"
     },
     "metadata": {
      "needs_background": "light"
     }
    }
   ],
   "metadata": {}
  },
  {
   "cell_type": "code",
   "execution_count": 236,
   "source": [
    "#getting the clicks per gender dictionnary\n",
    "def clicks_per_gender(df:pd.DataFrame):\n",
    "    cl_p_g={0:0,1:0}\n",
    "    for _,row in df.iterrows():\n",
    "        cl_p_g[row['gender']]+=row['Clicked']\n",
    "    return(cl_p_g)\n",
    "    "
   ],
   "outputs": [],
   "metadata": {}
  },
  {
   "cell_type": "code",
   "execution_count": 237,
   "source": [
    "cl_p_g=clicks_per_gender(data)\n",
    "plt.rcParams[\"figure.figsize\"] = (10,7)\n",
    "plt.rcParams[\"font.size\"] = 20\n",
    "plt.bar(cl_p_g.keys(),cl_p_g.values(),align='center')\n",
    "plt.xlabel('Gender')\n",
    "plt.ylabel('Number of Clicks')\n",
    "plt.xticks([0,1])\n",
    "plt.show()"
   ],
   "outputs": [
    {
     "output_type": "display_data",
     "data": {
      "text/plain": [
       "<Figure size 720x504 with 1 Axes>"
      ],
      "image/png": "[encoded data removed]"
     },
     "metadata": {
      "needs_background": "light"
     }
    }
   ],
   "metadata": {}
  },
  {
   "cell_type": "markdown",
   "source": [
    "**We can remark that there is a small difference when it comes to the number of clicks between the genders , therefore we decide to create two models, one which keeps the Gender Feature and one which drops it**"
   ],
   "metadata": {}
  },
  {
   "cell_type": "markdown",
   "source": [
    "# Embedding the Ad Topic lines using Doc2Vec :"
   ],
   "metadata": {
    "colab": {},
    "colab_type": "code",
    "id": "1Vk1EEy9IKSv"
   }
  },
  {
   "cell_type": "markdown",
   "source": [
    "**Now using the Doc2Vec model from gensim we will try to embed the text in 'Ad Topic Line' feature into a vector of floats**"
   ],
   "metadata": {
    "colab": {},
    "colab_type": "code",
    "id": "nkQU41WSIKSz"
   }
  },
  {
   "cell_type": "code",
   "execution_count": 238,
   "source": [
    "#!pip install nltk\n",
    "#!pip install gensim"
   ],
   "outputs": [],
   "metadata": {}
  },
  {
   "cell_type": "code",
   "execution_count": 239,
   "source": [
    "import nltk\n",
    "nltk.download('punkt')\n",
    "from nltk.tokenize import word_tokenize\n",
    "import numpy as np"
   ],
   "outputs": [
    {
     "output_type": "stream",
     "name": "stderr",
     "text": [
      "[nltk_data] Downloading package punkt to /home/dhiab/nltk_data...\n",
      "[nltk_data]   Package punkt is already up-to-date!\n"
     ]
    }
   ],
   "metadata": {}
  },
  {
   "cell_type": "code",
   "execution_count": 240,
   "source": [
    "sentences=data['Ad Topic Line'].tolist()\n",
    "tok_sent = []\n",
    "for s in sentences:\n",
    "    tok_sent.append(word_tokenize(s.lower()))\n"
   ],
   "outputs": [],
   "metadata": {}
  },
  {
   "cell_type": "code",
   "execution_count": 241,
   "source": [
    "from gensim.models.doc2vec import Doc2Vec, TaggedDocument\n",
    "tagged_data = [TaggedDocument(d, [i]) for i, d in enumerate(tok_sent)]"
   ],
   "outputs": [],
   "metadata": {}
  },
  {
   "cell_type": "code",
   "execution_count": 242,
   "source": [
    "model = Doc2Vec(tagged_data, vector_size = 5, window = 2, min_count = 1, epochs = 1000)"
   ],
   "outputs": [],
   "metadata": {}
  },
  {
   "cell_type": "code",
   "execution_count": 25,
   "source": [
    "sentence_example=data['Ad Topic Line'][0]\n",
    "\n",
    "print('sentence example:')\n",
    "print(sentence_example)\n",
    "print('-'*100)\n",
    "test_doc = word_tokenize(sentence_example.lower())\n",
    "test_doc_vector = model.infer_vector(test_doc)\n",
    "\n",
    "\n",
    "\n",
    "print('Most similar title:')\n",
    "print(sentences[model.docvecs.most_similar(positive = [test_doc_vector])[2][0]])"
   ],
   "outputs": [
    {
     "output_type": "stream",
     "name": "stdout",
     "text": [
      "sentence example:\n",
      "Seamless impactful info-mediaries\n",
      "----------------------------------------------------------------------------------------------------\n",
      "Most similar title:\n",
      "Networked regional Local Area Network\n"
     ]
    },
    {
     "output_type": "stream",
     "name": "stderr",
     "text": [
      "<ipython-input-25-63ce96106884>:12: DeprecationWarning: Call to deprecated `docvecs` (The `docvecs` property has been renamed `dv`.).\n",
      "  print(sentences[model.docvecs.most_similar(positive = [test_doc_vector])[2][0]])\n"
     ]
    }
   ],
   "metadata": {
    "colab": {},
    "colab_type": "code",
    "id": "jabG4TJwIKS_"
   }
  },
  {
   "cell_type": "code",
   "execution_count": 26,
   "source": [
    "def topic_to_array(df: pd.DataFrame):\n",
    "    topic_list=[]\n",
    "    for _,row in df.iterrows():\n",
    "        topic_vector=model.infer_vector(word_tokenize(row['Ad Topic Line'].lower()))\n",
    "        topic_list.append(topic_vector)\n",
    "    return(np.array(topic_list))"
   ],
   "outputs": [],
   "metadata": {}
  },
  {
   "cell_type": "code",
   "execution_count": 27,
   "source": [
    "topic_array=topic_to_array(data)"
   ],
   "outputs": [],
   "metadata": {}
  },
  {
   "cell_type": "markdown",
   "source": [
    "**When it comes the Nan values in the 'Area Income' column , we decided to  replace the Nan value with the Average value of 'Area Income'**"
   ],
   "metadata": {}
  },
  {
   "cell_type": "code",
   "execution_count": 28,
   "source": [
    "m=np.mean(data.dropna()['Area Income'].to_numpy())\n",
    "data_avg=data[['Daily Time Spent on Site','Age','Area Income','Daily Internet Usage','gender']].fillna(m)\n",
    "print(data_avg)"
   ],
   "outputs": [
    {
     "output_type": "stream",
     "name": "stdout",
     "text": [
      "     Daily Time Spent on Site  Age   Area Income  Daily Internet Usage  gender\n",
      "0                       80.67   34  58909.360000                239.76       0\n",
      "1                       68.01   25  68357.960000                188.32       1\n",
      "2                       80.94   36  60803.000000                239.94       0\n",
      "3                       78.77   28  63497.620000                211.83       0\n",
      "4                       36.56   29  42838.290000                195.89       0\n",
      "..                        ...  ...           ...                   ...     ...\n",
      "995                     82.12   54  55343.014555                132.66       1\n",
      "996                     45.01   26  29875.800000                178.35       0\n",
      "997                     36.62   36  55343.014555                163.00       0\n",
      "998                     80.46   29  56909.300000                230.78       0\n",
      "999                     81.98   34  67432.490000                212.88       0\n",
      "\n",
      "[1000 rows x 5 columns]\n"
     ]
    }
   ],
   "metadata": {}
  },
  {
   "cell_type": "markdown",
   "source": [
    "# Getting the Features Vectors 'X' and the Target Vectors 'Y' :"
   ],
   "metadata": {}
  },
  {
   "cell_type": "code",
   "execution_count": 211,
   "source": [
    "X1=np.concatenate([data_avg.to_numpy(),topic_array,timestamp_array[:,2:4],ctry_array],axis=1)\n",
    "print(X1.shape)\n",
    "data_avg_no_gender=data_avg[['Daily Time Spent on Site','Age','Area Income','Daily Internet Usage']]\n",
    "X2=np.concatenate([data_avg_no_gender.to_numpy(),topic_array,timestamp_array[:,2:4],ctry_array],axis=1)\n",
    "print(X2.shape)\n",
    "Y=data['Clicked'].to_numpy()\n",
    "print(Y.shape)"
   ],
   "outputs": [
    {
     "output_type": "stream",
     "name": "stdout",
     "text": [
      "(1000, 13)\n",
      "(1000, 12)\n",
      "(1000,)\n"
     ]
    }
   ],
   "metadata": {}
  },
  {
   "cell_type": "markdown",
   "source": [
    "# Using SVM from sklearn and Hold-out validation for model Assesment :"
   ],
   "metadata": {}
  },
  {
   "cell_type": "code",
   "execution_count": 212,
   "source": [
    "def stand(X1,X):\n",
    "    \n",
    "    x_mean=np.mean(X1,axis=0)\n",
    "\n",
    "\n",
    "    x_std=np.std(X1,axis=0)\n",
    "\n",
    "    X_new=(X-x_mean)/x_std\n",
    "    return(X_new)"
   ],
   "outputs": [],
   "metadata": {}
  },
  {
   "cell_type": "code",
   "execution_count": 213,
   "source": [
    "X1_std=stand(X1,X1)\n",
    "X2_std=stand(X2,X2)"
   ],
   "outputs": [],
   "metadata": {}
  },
  {
   "cell_type": "code",
   "execution_count": 166,
   "source": [
    "#split first data to train and validation\n",
    "from sklearn.model_selection import train_test_split\n",
    "X_train1, X_val1, Y_train1, Y_val1 = train_test_split(X1_std, Y, test_size=0.33, random_state=40)"
   ],
   "outputs": [],
   "metadata": {}
  },
  {
   "cell_type": "code",
   "execution_count": 167,
   "source": [
    "#split second data to train and validation\n",
    "X_train2, X_val2, Y_train2, Y_val2 = train_test_split(X2_std, Y, test_size=0.33, random_state=40)"
   ],
   "outputs": [],
   "metadata": {}
  },
  {
   "cell_type": "code",
   "execution_count": 168,
   "source": [
    "from sklearn import svm\n",
    "model_click11 = svm.SVC(kernel='linear')\n",
    "model_click11.fit(X_train1, Y_train1)"
   ],
   "outputs": [
    {
     "output_type": "execute_result",
     "data": {
      "text/plain": [
       "SVC(kernel='linear')"
      ]
     },
     "metadata": {},
     "execution_count": 168
    }
   ],
   "metadata": {}
  },
  {
   "cell_type": "code",
   "execution_count": 169,
   "source": [
    "model_click12 = svm.SVC(C=19e-1,gamma=13e-2,kernel='rbf')\n",
    "model_click12.fit(X_train1, Y_train1)"
   ],
   "outputs": [
    {
     "output_type": "execute_result",
     "data": {
      "text/plain": [
       "SVC(C=1.9, gamma=0.13)"
      ]
     },
     "metadata": {},
     "execution_count": 169
    }
   ],
   "metadata": {}
  },
  {
   "cell_type": "code",
   "execution_count": 170,
   "source": [
    "model_click21 = svm.SVC(kernel='linear')\n",
    "model_click21.fit(X_train2, Y_train2)"
   ],
   "outputs": [
    {
     "output_type": "execute_result",
     "data": {
      "text/plain": [
       "SVC(kernel='linear')"
      ]
     },
     "metadata": {},
     "execution_count": 170
    }
   ],
   "metadata": {}
  },
  {
   "cell_type": "code",
   "execution_count": 171,
   "source": [
    "from sklearn.neighbors import KNeighborsClassifier\n",
    "model_click22 =  KNeighborsClassifier(n_neighbors=5)\n",
    "model_click22.fit(X_train2, Y_train2)"
   ],
   "outputs": [
    {
     "output_type": "execute_result",
     "data": {
      "text/plain": [
       "KNeighborsClassifier()"
      ]
     },
     "metadata": {},
     "execution_count": 171
    }
   ],
   "metadata": {}
  },
  {
   "cell_type": "code",
   "execution_count": 172,
   "source": [
    "def accuracy(model,X_val,Y_val):\n",
    "    acc=(model.predict(X_val)==Y_val).mean()\n",
    "    \n",
    "    return(acc)"
   ],
   "outputs": [],
   "metadata": {}
  },
  {
   "cell_type": "code",
   "execution_count": 173,
   "source": [
    "print(f'first model with SVM linear kernel accuracy on train set : {accuracy(model_click11,X_train1,Y_train1):.2f}')\n",
    "print('-'*100)\n",
    "print(f'first model with SVM linear kernel accuracy on validation set : {accuracy(model_click11,X_val1,Y_val1):.2f}')"
   ],
   "outputs": [
    {
     "output_type": "stream",
     "name": "stdout",
     "text": [
      "first model with SVM linear kernel accuracy on train set : 0.86\n",
      "----------------------------------------------------------------------------------------------------\n",
      "first model with SVM linear kernel accuracy on validation set : 0.85\n"
     ]
    }
   ],
   "metadata": {}
  },
  {
   "cell_type": "code",
   "execution_count": 174,
   "source": [
    "print(f'second model with SVM linear kernel accuracy on train set : {accuracy(model_click21,X_train2,Y_train2):.2f}')\n",
    "print('-'*100)\n",
    "print(f'second model with SVM linear kernel accuracy on validation set : {accuracy(model_click21,X_val2,Y_val2):.2f}')"
   ],
   "outputs": [
    {
     "output_type": "stream",
     "name": "stdout",
     "text": [
      "second model with SVM linear kernel accuracy on train set : 0.87\n",
      "----------------------------------------------------------------------------------------------------\n",
      "second model with SVM linear kernel accuracy on validation set : 0.85\n"
     ]
    }
   ],
   "metadata": {}
  },
  {
   "cell_type": "code",
   "execution_count": 175,
   "source": [
    "print(f'first model with SVM rbf kernel accuracy on train set : {accuracy(model_click12,X_train1,Y_train1):.2f}')\n",
    "print('-'*100)\n",
    "print(f'first model with SVM rbf kernel accuracy on validation set : {accuracy(model_click12,X_val1,Y_val1):.2f}')"
   ],
   "outputs": [
    {
     "output_type": "stream",
     "name": "stdout",
     "text": [
      "first model with SVM rbf kernel accuracy on train set : 0.96\n",
      "----------------------------------------------------------------------------------------------------\n",
      "first model with SVM rbf kernel accuracy on validation set : 0.85\n"
     ]
    }
   ],
   "metadata": {}
  },
  {
   "cell_type": "code",
   "execution_count": 176,
   "source": [
    "print(f'second model with KNN method accuracy on train set : {accuracy(model_click22,X_train2,Y_train2):.2f}')\n",
    "print('-'*100)\n",
    "print(f'second model with KNN method accuracy on validation set : {accuracy(model_click22,X_val2,Y_val2):.2f}')"
   ],
   "outputs": [
    {
     "output_type": "stream",
     "name": "stdout",
     "text": [
      "second model with KNN method accuracy on train set : 0.88\n",
      "----------------------------------------------------------------------------------------------------\n",
      "second model with KNN method accuracy on validation set : 0.84\n"
     ]
    }
   ],
   "metadata": {}
  },
  {
   "cell_type": "markdown",
   "source": [
    "**the first model with SVM rbf kernel performs best on validation set therefore we will train it on the whole dataset and test it on the test set**"
   ],
   "metadata": {}
  },
  {
   "cell_type": "code",
   "execution_count": 195,
   "source": [
    "model_final = svm.SVC(C=19e-1,gamma=13e-2,kernel='rbf')\n",
    "model_final.fit(X1_std, Y)"
   ],
   "outputs": [
    {
     "output_type": "execute_result",
     "data": {
      "text/plain": [
       "SVC(C=1.9, gamma=0.13)"
      ]
     },
     "metadata": {},
     "execution_count": 195
    }
   ],
   "metadata": {}
  },
  {
   "cell_type": "markdown",
   "source": [
    "> #### Task:\n",
    "- **Submit the predictions on the test dataset using your optimized model** <br/>\n",
    "    For each record in the test set (`test.csv`), predict whether a consumer clicked on an ad or not. Submit a CSV file with a header row and one row per test entry. \n",
    "    \n",
    "The file (`submissions.csv`) should have exactly 2 columns:\n",
    "   - **id**\n",
    "   - **Clicked**"
   ],
   "metadata": {
    "colab_type": "text",
    "id": "UFogmgYZIKTE"
   }
  },
  {
   "cell_type": "code",
   "execution_count": 197,
   "source": [
    "ctry_array_test=country_to_array(test_data)\n",
    "ctry_array_test=ctry_array_test.reshape((ctry_array_test.shape[0],1))\n",
    "print(ctry_array_test.shape)"
   ],
   "outputs": [
    {
     "output_type": "stream",
     "name": "stdout",
     "text": [
      "(300, 1)\n"
     ]
    }
   ],
   "metadata": {
    "colab": {},
    "colab_type": "code",
    "id": "7xgNg25MIKTG"
   }
  },
  {
   "cell_type": "code",
   "execution_count": 198,
   "source": [
    "topic_array_test=topic_to_array(test_data)\n",
    "print(topic_array_test.shape)"
   ],
   "outputs": [
    {
     "output_type": "stream",
     "name": "stdout",
     "text": [
      "(300, 5)\n"
     ]
    }
   ],
   "metadata": {
    "colab": {},
    "colab_type": "code",
    "id": "OaxN7BjwIKTL"
   }
  },
  {
   "cell_type": "code",
   "execution_count": 181,
   "source": [
    "timestamp_array_test=timestamp_to_array(test_data)\n",
    "timestamp_array_test.shape"
   ],
   "outputs": [
    {
     "output_type": "execute_result",
     "data": {
      "text/plain": [
       "(300, 6)"
      ]
     },
     "metadata": {},
     "execution_count": 181
    }
   ],
   "metadata": {}
  },
  {
   "cell_type": "code",
   "execution_count": 199,
   "source": [
    "m=np.mean(test_data.dropna()['Area Income'].to_numpy())\n",
    "data_avg_test=test_data[['Daily Time Spent on Site','Age','Area Income','Daily Internet Usage','gender']].fillna(m)\n",
    "print(data_avg_test)"
   ],
   "outputs": [
    {
     "output_type": "stream",
     "name": "stdout",
     "text": [
      "     Daily Time Spent on Site  Age   Area Income  Daily Internet Usage  gender\n",
      "0                       43.88   54  31523.090000                166.85       1\n",
      "1                       66.40   40  77567.850000                214.42       0\n",
      "2                       79.52   34  53818.505778                141.58       0\n",
      "3                       52.35   25  33293.780000                147.61       1\n",
      "4                       81.51   36  53818.505778                195.93       0\n",
      "..                        ...  ...           ...                   ...     ...\n",
      "295                     74.06   23  40345.490000                225.99       0\n",
      "296                     61.88   42  60223.520000                112.19       1\n",
      "297                     80.03   44  24030.060000                150.84       0\n",
      "298                     86.38   33  53818.505778                233.60       0\n",
      "299                     69.15   46  36424.940000                112.72       0\n",
      "\n",
      "[300 rows x 5 columns]\n"
     ]
    }
   ],
   "metadata": {}
  },
  {
   "cell_type": "code",
   "execution_count": 217,
   "source": [
    "X_test=np.concatenate([data_avg_test.to_numpy(),topic_array_test,timestamp_array_test[:,2:4],ctry_array_test],axis=1)\n",
    "X_test_std=stand(X1,X_test)\n",
    "print(X_test_std.shape)"
   ],
   "outputs": [
    {
     "output_type": "stream",
     "name": "stdout",
     "text": [
      "(300, 13)\n"
     ]
    }
   ],
   "metadata": {}
  },
  {
   "cell_type": "code",
   "execution_count": 218,
   "source": [
    "Y_test=model_final.predict(X_test_std)"
   ],
   "outputs": [],
   "metadata": {}
  },
  {
   "cell_type": "code",
   "execution_count": 219,
   "source": [
    "dict_test['id']=test_data['id'].to_list()\n",
    "dict_test['Clicked']=list(Y_test)"
   ],
   "outputs": [],
   "metadata": {}
  },
  {
   "cell_type": "code",
   "execution_count": 220,
   "source": [
    "submission_df=pd.DataFrame.from_dict(dict_test)\n",
    "print(submission_df)"
   ],
   "outputs": [
    {
     "output_type": "stream",
     "name": "stdout",
     "text": [
      "       id  Clicked\n",
      "0    2200        1\n",
      "1    2201        0\n",
      "2    2202        0\n",
      "3    2203        1\n",
      "4    2204        0\n",
      "..    ...      ...\n",
      "295  2495        0\n",
      "296  2496        1\n",
      "297  2497        1\n",
      "298  2498        0\n",
      "299  2499        1\n",
      "\n",
      "[300 rows x 2 columns]\n"
     ]
    }
   ],
   "metadata": {}
  },
  {
   "cell_type": "code",
   "execution_count": 221,
   "source": [
    "#Submission\n",
    "submission_df.to_csv('submissions_v2.csv',index=False)"
   ],
   "outputs": [],
   "metadata": {
    "colab": {},
    "colab_type": "code",
    "id": "nBRVPrYbIKTQ"
   }
  },
  {
   "cell_type": "markdown",
   "source": [
    "---"
   ],
   "metadata": {
    "colab_type": "text",
    "id": "H_pB8zTcIKTW"
   }
  }
 ],
 "metadata": {
  "colab": {
   "collapsed_sections": [],
   "name": "ads_questions_updated.ipynb",
   "provenance": [],
   "toc_visible": true
  },
  "kernelspec": {
   "name": "python3",
   "display_name": "Python 3.8.8 64-bit ('base': conda)"
  },
  "language_info": {
   "codemirror_mode": {
    "name": "ipython",
    "version": 3
   },
   "file_extension": ".py",
   "mimetype": "text/x-python",
   "name": "python",
   "nbconvert_exporter": "python",
   "pygments_lexer": "ipython3",
   "version": "3.8.8"
  },
  "toc": {
   "base_numbering": 1,
   "nav_menu": {},
   "number_sections": true,
   "sideBar": true,
   "skip_h1_title": false,
   "title_cell": "Table of Contents",
   "title_sidebar": "Contents",
   "toc_cell": false,
   "toc_position": {},
   "toc_section_display": true,
   "toc_window_display": false
  },
  "interpreter": {
   "hash": "74ec93bccee811c650cabd8a679f27f24530bd23ec50915e0d76c126ae7ffac5"
  }
 },
 "nbformat": 4,
 "nbformat_minor": 4
}