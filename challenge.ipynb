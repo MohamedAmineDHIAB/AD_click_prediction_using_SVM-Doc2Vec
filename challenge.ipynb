{
 "cells": [
  {
   "cell_type": "markdown",
   "metadata": {
    "colab_type": "text",
    "id": "x_BkOtqBIKQz"
   },
   "source": [
    "# Data Science Challenge"
   ]
  },
  {
   "cell_type": "code",
   "execution_count": 1,
   "metadata": {
    "colab": {},
    "colab_type": "code",
    "id": "U_VthdACIKQ6"
   },
   "outputs": [],
   "source": [
    "# If you'd like to install packages that aren't installed by default, uncomment the last two lines of this cell and replace <package list> with a list of your packages.\n",
    "# This will ensure your notebook has all the dependencies and works everywhere\n",
    "\n",
    "#import sys\n",
    "#!{sys.executable} -m pip install <package list>"
   ]
  },
  {
   "cell_type": "code",
   "execution_count": 2,
   "metadata": {
    "colab": {},
    "colab_type": "code",
    "id": "VzGFUCCVIKRL"
   },
   "outputs": [],
   "source": [
    "#Libraries\n",
    "import pandas as pd, numpy as np\n",
    "pd.set_option(\"display.max_columns\", 101)"
   ]
  },
  {
   "cell_type": "markdown",
   "metadata": {
    "colab_type": "text",
    "id": "TZ23KNY8IKRT"
   },
   "source": [
    "## Data Description"
   ]
  },
  {
   "cell_type": "markdown",
   "metadata": {
    "colab_type": "text",
    "id": "jWSkqquEIKRW"
   },
   "source": [
    "Column | Description\n",
    ":---|:---\n",
    "`id` | Unique id\n",
    "`Daily Time Spent on Site` | Consumer time spent on site (in minutes)\n",
    "`Age` | Consumer age (in years)\n",
    "`Area Income` | Avg. Income of geographical area of consumer (in US $$)\n",
    "`Daily Internet Usage` | Avg. minutes a day consumer is on the internet\n",
    "`Ad Topic Line` | Headline of the advertisement\n",
    "`gender` | Gender of the consumer\n",
    "`Country` | Country of consumer\n",
    "`Timestamp` | Timestamp at which consumer clicked on Ad or closed window (YYYY-MM-DD HH:MM:SS)\n",
    "`Clicked` | Whether a consumer clicked on the advert or not (0: No ,1: Yes)"
   ]
  },
  {
   "cell_type": "markdown",
   "metadata": {
    "colab_type": "text",
    "id": "BWQqx7cSIKRX"
   },
   "source": [
    "## Data Wrangling & Visualization"
   ]
  },
  {
   "cell_type": "code",
   "execution_count": 3,
   "metadata": {
    "colab": {},
    "colab_type": "code",
    "id": "SsjL7tf7IKRc"
   },
   "outputs": [],
   "source": [
    "# Dataset is already loaded below\n",
    "data = pd.read_csv(\"train.csv\")"
   ]
  },
  {
   "cell_type": "code",
   "execution_count": 4,
   "metadata": {
    "colab": {},
    "colab_type": "code",
    "id": "kzuHtZEkIKRh",
    "outputId": "9d14832c-2eda-48eb-df41-548113a94a73"
   },
   "outputs": [
    {
     "data": {
      "text/html": [
       "<div>\n",
       "<style scoped>\n",
       "    .dataframe tbody tr th:only-of-type {\n",
       "        vertical-align: middle;\n",
       "    }\n",
       "\n",
       "    .dataframe tbody tr th {\n",
       "        vertical-align: top;\n",
       "    }\n",
       "\n",
       "    .dataframe thead th {\n",
       "        text-align: right;\n",
       "    }\n",
       "</style>\n",
       "<table border=\"1\" class=\"dataframe\">\n",
       "  <thead>\n",
       "    <tr style=\"text-align: right;\">\n",
       "      <th></th>\n",
       "      <th>id</th>\n",
       "      <th>Timestamp</th>\n",
       "      <th>Daily Time Spent on Site</th>\n",
       "      <th>Age</th>\n",
       "      <th>Area Income</th>\n",
       "      <th>Daily Internet Usage</th>\n",
       "      <th>Ad Topic Line</th>\n",
       "      <th>gender</th>\n",
       "      <th>Country</th>\n",
       "      <th>Clicked</th>\n",
       "    </tr>\n",
       "  </thead>\n",
       "  <tbody>\n",
       "    <tr>\n",
       "      <th>0</th>\n",
       "      <td>1200</td>\n",
       "      <td>2016-01-01 02:52:10</td>\n",
       "      <td>80.67</td>\n",
       "      <td>34</td>\n",
       "      <td>58909.36</td>\n",
       "      <td>239.76</td>\n",
       "      <td>Seamless impactful info-mediaries</td>\n",
       "      <td>0</td>\n",
       "      <td>Portugal</td>\n",
       "      <td>0</td>\n",
       "    </tr>\n",
       "    <tr>\n",
       "      <th>1</th>\n",
       "      <td>1201</td>\n",
       "      <td>2016-01-01 03:35:35</td>\n",
       "      <td>68.01</td>\n",
       "      <td>25</td>\n",
       "      <td>68357.96</td>\n",
       "      <td>188.32</td>\n",
       "      <td>Ameliorated actuating workforce</td>\n",
       "      <td>1</td>\n",
       "      <td>Afghanistan</td>\n",
       "      <td>0</td>\n",
       "    </tr>\n",
       "    <tr>\n",
       "      <th>2</th>\n",
       "      <td>1202</td>\n",
       "      <td>2016-01-01 05:31:22</td>\n",
       "      <td>80.94</td>\n",
       "      <td>36</td>\n",
       "      <td>60803.00</td>\n",
       "      <td>239.94</td>\n",
       "      <td>Self-enabling local strategy</td>\n",
       "      <td>0</td>\n",
       "      <td>Bermuda</td>\n",
       "      <td>0</td>\n",
       "    </tr>\n",
       "    <tr>\n",
       "      <th>3</th>\n",
       "      <td>1203</td>\n",
       "      <td>2016-01-01 08:27:06</td>\n",
       "      <td>78.77</td>\n",
       "      <td>28</td>\n",
       "      <td>63497.62</td>\n",
       "      <td>211.83</td>\n",
       "      <td>Public-key intangible Graphical User Interface</td>\n",
       "      <td>0</td>\n",
       "      <td>Guam</td>\n",
       "      <td>0</td>\n",
       "    </tr>\n",
       "    <tr>\n",
       "      <th>4</th>\n",
       "      <td>1204</td>\n",
       "      <td>2016-01-01 15:14:24</td>\n",
       "      <td>36.56</td>\n",
       "      <td>29</td>\n",
       "      <td>42838.29</td>\n",
       "      <td>195.89</td>\n",
       "      <td>Team-oriented bi-directional secured line</td>\n",
       "      <td>0</td>\n",
       "      <td>Uganda</td>\n",
       "      <td>1</td>\n",
       "    </tr>\n",
       "  </tbody>\n",
       "</table>\n",
       "</div>"
      ],
      "text/plain": [
       "     id            Timestamp  Daily Time Spent on Site  Age  Area Income  \\\n",
       "0  1200  2016-01-01 02:52:10                     80.67   34     58909.36   \n",
       "1  1201  2016-01-01 03:35:35                     68.01   25     68357.96   \n",
       "2  1202  2016-01-01 05:31:22                     80.94   36     60803.00   \n",
       "3  1203  2016-01-01 08:27:06                     78.77   28     63497.62   \n",
       "4  1204  2016-01-01 15:14:24                     36.56   29     42838.29   \n",
       "\n",
       "   Daily Internet Usage                                   Ad Topic Line  \\\n",
       "0                239.76               Seamless impactful info-mediaries   \n",
       "1                188.32                 Ameliorated actuating workforce   \n",
       "2                239.94                    Self-enabling local strategy   \n",
       "3                211.83  Public-key intangible Graphical User Interface   \n",
       "4                195.89       Team-oriented bi-directional secured line   \n",
       "\n",
       "   gender      Country  Clicked  \n",
       "0       0     Portugal        0  \n",
       "1       1  Afghanistan        0  \n",
       "2       0      Bermuda        0  \n",
       "3       0         Guam        0  \n",
       "4       0       Uganda        1  "
      ]
     },
     "execution_count": 4,
     "metadata": {},
     "output_type": "execute_result"
    }
   ],
   "source": [
    "data.head()"
   ]
  },
  {
   "cell_type": "code",
   "execution_count": 5,
   "metadata": {
    "colab": {},
    "colab_type": "code",
    "id": "0mhMZRlBIKRu",
    "outputId": "0a669059-5528-4ec0-d64b-8231f6aadf45"
   },
   "outputs": [
    {
     "data": {
      "text/plain": [
       "Index(['id', 'Timestamp', 'Daily Time Spent on Site', 'Age', 'Area Income',\n",
       "       'Daily Internet Usage', 'Ad Topic Line', 'gender', 'Country',\n",
       "       'Clicked'],\n",
       "      dtype='object')"
      ]
     },
     "execution_count": 5,
     "metadata": {},
     "output_type": "execute_result"
    }
   ],
   "source": [
    "#Explore columns\n",
    "data.columns"
   ]
  },
  {
   "cell_type": "code",
   "execution_count": 6,
   "metadata": {
    "colab": {},
    "colab_type": "code",
    "id": "-SrTmyfJIKR1",
    "outputId": "12b270ca-8c3f-402b-d6c1-286c17e63fdd",
    "scrolled": true
   },
   "outputs": [
    {
     "data": {
      "text/html": [
       "<div>\n",
       "<style scoped>\n",
       "    .dataframe tbody tr th:only-of-type {\n",
       "        vertical-align: middle;\n",
       "    }\n",
       "\n",
       "    .dataframe tbody tr th {\n",
       "        vertical-align: top;\n",
       "    }\n",
       "\n",
       "    .dataframe thead th {\n",
       "        text-align: right;\n",
       "    }\n",
       "</style>\n",
       "<table border=\"1\" class=\"dataframe\">\n",
       "  <thead>\n",
       "    <tr style=\"text-align: right;\">\n",
       "      <th></th>\n",
       "      <th>id</th>\n",
       "      <th>Daily Time Spent on Site</th>\n",
       "      <th>Age</th>\n",
       "      <th>Area Income</th>\n",
       "      <th>Daily Internet Usage</th>\n",
       "      <th>gender</th>\n",
       "      <th>Clicked</th>\n",
       "    </tr>\n",
       "  </thead>\n",
       "  <tbody>\n",
       "    <tr>\n",
       "      <th>count</th>\n",
       "      <td>1000.000000</td>\n",
       "      <td>1000.000000</td>\n",
       "      <td>1000.000000</td>\n",
       "      <td>775.000000</td>\n",
       "      <td>1000.000000</td>\n",
       "      <td>1000.000000</td>\n",
       "      <td>1000.000000</td>\n",
       "    </tr>\n",
       "    <tr>\n",
       "      <th>mean</th>\n",
       "      <td>1699.500000</td>\n",
       "      <td>65.120650</td>\n",
       "      <td>35.816000</td>\n",
       "      <td>55343.014555</td>\n",
       "      <td>179.592310</td>\n",
       "      <td>0.474000</td>\n",
       "      <td>0.503000</td>\n",
       "    </tr>\n",
       "    <tr>\n",
       "      <th>std</th>\n",
       "      <td>288.819436</td>\n",
       "      <td>15.781456</td>\n",
       "      <td>8.782669</td>\n",
       "      <td>13182.578667</td>\n",
       "      <td>43.735785</td>\n",
       "      <td>0.499573</td>\n",
       "      <td>0.500241</td>\n",
       "    </tr>\n",
       "    <tr>\n",
       "      <th>min</th>\n",
       "      <td>1200.000000</td>\n",
       "      <td>32.600000</td>\n",
       "      <td>19.000000</td>\n",
       "      <td>14548.060000</td>\n",
       "      <td>105.000000</td>\n",
       "      <td>0.000000</td>\n",
       "      <td>0.000000</td>\n",
       "    </tr>\n",
       "    <tr>\n",
       "      <th>25%</th>\n",
       "      <td>1449.750000</td>\n",
       "      <td>51.450000</td>\n",
       "      <td>29.000000</td>\n",
       "      <td>48270.620000</td>\n",
       "      <td>137.885000</td>\n",
       "      <td>0.000000</td>\n",
       "      <td>0.000000</td>\n",
       "    </tr>\n",
       "    <tr>\n",
       "      <th>50%</th>\n",
       "      <td>1699.500000</td>\n",
       "      <td>68.390000</td>\n",
       "      <td>35.000000</td>\n",
       "      <td>57737.510000</td>\n",
       "      <td>182.425000</td>\n",
       "      <td>0.000000</td>\n",
       "      <td>1.000000</td>\n",
       "    </tr>\n",
       "    <tr>\n",
       "      <th>75%</th>\n",
       "      <td>1949.250000</td>\n",
       "      <td>78.572500</td>\n",
       "      <td>41.250000</td>\n",
       "      <td>65207.185000</td>\n",
       "      <td>217.707500</td>\n",
       "      <td>1.000000</td>\n",
       "      <td>1.000000</td>\n",
       "    </tr>\n",
       "    <tr>\n",
       "      <th>max</th>\n",
       "      <td>2199.000000</td>\n",
       "      <td>91.370000</td>\n",
       "      <td>61.000000</td>\n",
       "      <td>79484.800000</td>\n",
       "      <td>269.960000</td>\n",
       "      <td>1.000000</td>\n",
       "      <td>1.000000</td>\n",
       "    </tr>\n",
       "  </tbody>\n",
       "</table>\n",
       "</div>"
      ],
      "text/plain": [
       "                id  Daily Time Spent on Site          Age   Area Income  \\\n",
       "count  1000.000000               1000.000000  1000.000000    775.000000   \n",
       "mean   1699.500000                 65.120650    35.816000  55343.014555   \n",
       "std     288.819436                 15.781456     8.782669  13182.578667   \n",
       "min    1200.000000                 32.600000    19.000000  14548.060000   \n",
       "25%    1449.750000                 51.450000    29.000000  48270.620000   \n",
       "50%    1699.500000                 68.390000    35.000000  57737.510000   \n",
       "75%    1949.250000                 78.572500    41.250000  65207.185000   \n",
       "max    2199.000000                 91.370000    61.000000  79484.800000   \n",
       "\n",
       "       Daily Internet Usage       gender      Clicked  \n",
       "count           1000.000000  1000.000000  1000.000000  \n",
       "mean             179.592310     0.474000     0.503000  \n",
       "std               43.735785     0.499573     0.500241  \n",
       "min              105.000000     0.000000     0.000000  \n",
       "25%              137.885000     0.000000     0.000000  \n",
       "50%              182.425000     0.000000     1.000000  \n",
       "75%              217.707500     1.000000     1.000000  \n",
       "max              269.960000     1.000000     1.000000  "
      ]
     },
     "execution_count": 6,
     "metadata": {},
     "output_type": "execute_result"
    }
   ],
   "source": [
    "#Description\n",
    "data.describe()"
   ]
  },
  {
   "cell_type": "markdown",
   "metadata": {
    "colab_type": "text",
    "id": "ymsdDaIPIKSX"
   },
   "source": [
    "## Visualization, Modeling, Machine Learning\n",
    "\n",
    "Predict which users might click a particular advertisement.\n",
    "Please explain the findings effectively to technical and non-technical audiences using comments and visualizations, if appropriate.\n",
    "- **Build an optimized model that effectively solves the business problem.**\n",
    "- **The model's performance will be evaluated on the basis of accuracy.**\n",
    "- **Read the test.csv file and prepare features for testing.**"
   ]
  },
  {
   "cell_type": "code",
   "execution_count": 7,
   "metadata": {
    "colab": {},
    "colab_type": "code",
    "id": "Hsxh3SMgIKSY",
    "outputId": "d98d0f00-f33f-407b-df59-a9915bb03fa1"
   },
   "outputs": [
    {
     "data": {
      "text/html": [
       "<div>\n",
       "<style scoped>\n",
       "    .dataframe tbody tr th:only-of-type {\n",
       "        vertical-align: middle;\n",
       "    }\n",
       "\n",
       "    .dataframe tbody tr th {\n",
       "        vertical-align: top;\n",
       "    }\n",
       "\n",
       "    .dataframe thead th {\n",
       "        text-align: right;\n",
       "    }\n",
       "</style>\n",
       "<table border=\"1\" class=\"dataframe\">\n",
       "  <thead>\n",
       "    <tr style=\"text-align: right;\">\n",
       "      <th></th>\n",
       "      <th>id</th>\n",
       "      <th>Timestamp</th>\n",
       "      <th>Daily Time Spent on Site</th>\n",
       "      <th>Age</th>\n",
       "      <th>Area Income</th>\n",
       "      <th>Daily Internet Usage</th>\n",
       "      <th>Ad Topic Line</th>\n",
       "      <th>gender</th>\n",
       "      <th>Country</th>\n",
       "    </tr>\n",
       "  </thead>\n",
       "  <tbody>\n",
       "    <tr>\n",
       "      <th>0</th>\n",
       "      <td>2200</td>\n",
       "      <td>2016-06-04 17:24:07</td>\n",
       "      <td>43.88</td>\n",
       "      <td>54</td>\n",
       "      <td>31523.09</td>\n",
       "      <td>166.85</td>\n",
       "      <td>Enhanced methodical database</td>\n",
       "      <td>1</td>\n",
       "      <td>Somalia</td>\n",
       "    </tr>\n",
       "    <tr>\n",
       "      <th>1</th>\n",
       "      <td>2201</td>\n",
       "      <td>2016-06-05 00:29:13</td>\n",
       "      <td>66.40</td>\n",
       "      <td>40</td>\n",
       "      <td>77567.85</td>\n",
       "      <td>214.42</td>\n",
       "      <td>Digitized heuristic solution</td>\n",
       "      <td>0</td>\n",
       "      <td>Antigua and Barbuda</td>\n",
       "    </tr>\n",
       "    <tr>\n",
       "      <th>2</th>\n",
       "      <td>2202</td>\n",
       "      <td>2016-06-05 00:29:13</td>\n",
       "      <td>79.52</td>\n",
       "      <td>34</td>\n",
       "      <td>NaN</td>\n",
       "      <td>141.58</td>\n",
       "      <td>Customer-focused 24/7 concept</td>\n",
       "      <td>0</td>\n",
       "      <td>United States of America</td>\n",
       "    </tr>\n",
       "    <tr>\n",
       "      <th>3</th>\n",
       "      <td>2203</td>\n",
       "      <td>2016-06-05 07:54:30</td>\n",
       "      <td>52.35</td>\n",
       "      <td>25</td>\n",
       "      <td>33293.78</td>\n",
       "      <td>147.61</td>\n",
       "      <td>Mandatory 4thgeneration structure</td>\n",
       "      <td>1</td>\n",
       "      <td>Mali</td>\n",
       "    </tr>\n",
       "    <tr>\n",
       "      <th>4</th>\n",
       "      <td>2204</td>\n",
       "      <td>2016-06-05 07:54:30</td>\n",
       "      <td>81.51</td>\n",
       "      <td>36</td>\n",
       "      <td>NaN</td>\n",
       "      <td>195.93</td>\n",
       "      <td>Monitored local Internet solution</td>\n",
       "      <td>0</td>\n",
       "      <td>Croatia</td>\n",
       "    </tr>\n",
       "  </tbody>\n",
       "</table>\n",
       "</div>"
      ],
      "text/plain": [
       "     id            Timestamp  Daily Time Spent on Site  Age  Area Income  \\\n",
       "0  2200  2016-06-04 17:24:07                     43.88   54     31523.09   \n",
       "1  2201  2016-06-05 00:29:13                     66.40   40     77567.85   \n",
       "2  2202  2016-06-05 00:29:13                     79.52   34          NaN   \n",
       "3  2203  2016-06-05 07:54:30                     52.35   25     33293.78   \n",
       "4  2204  2016-06-05 07:54:30                     81.51   36          NaN   \n",
       "\n",
       "   Daily Internet Usage                      Ad Topic Line  gender  \\\n",
       "0                166.85       Enhanced methodical database       1   \n",
       "1                214.42       Digitized heuristic solution       0   \n",
       "2                141.58      Customer-focused 24/7 concept       0   \n",
       "3                147.61  Mandatory 4thgeneration structure       1   \n",
       "4                195.93  Monitored local Internet solution       0   \n",
       "\n",
       "                    Country  \n",
       "0                   Somalia  \n",
       "1       Antigua and Barbuda  \n",
       "2  United States of America  \n",
       "3                      Mali  \n",
       "4                   Croatia  "
      ]
     },
     "execution_count": 7,
     "metadata": {},
     "output_type": "execute_result"
    }
   ],
   "source": [
    "#Loading Test data\n",
    "test_data=pd.read_csv('test.csv')\n",
    "test_data.head()"
   ]
  },
  {
   "cell_type": "markdown",
   "metadata": {
    "colab_type": "text",
    "id": "MK_rdXETIKS4"
   },
   "source": [
    "\n",
    "\n",
    "**Describe the most important features in the model to a management audience.**\n",
    "\n",
    "> #### Task:\n",
    "- **Visualize the top 10 features and their feature importance.**\n"
   ]
  },
  {
   "cell_type": "markdown",
   "metadata": {
    "colab": {},
    "colab_type": "code",
    "id": "1XiIoLYLIKSj"
   },
   "source": [
    "# Data Analyse & Preprocessing :"
   ]
  },
  {
   "cell_type": "code",
   "execution_count": 8,
   "metadata": {},
   "outputs": [],
   "source": [
    "# getting a dictionnary where the keys are the countries and the values are unique integers\n",
    "def country_dict(df:pd.DataFrame):\n",
    "    ctry_dict={}\n",
    "    k=0\n",
    "    for _,row in df.iterrows():\n",
    "        if row['Country'] not in ctry_dict:\n",
    "            ctry_dict[row['Country']]=k\n",
    "            k+=1\n",
    "        else :\n",
    "            pass\n",
    "    return(ctry_dict) "
   ]
  },
  {
   "cell_type": "code",
   "execution_count": 58,
   "metadata": {},
   "outputs": [],
   "source": [
    "# transform each country name to it's corresponding integer\n",
    "def country_to_array(df:pd.DataFrame):\n",
    "    ctry_dict=country_dict(df)\n",
    "    ctry_list=[]\n",
    "    for _,row in df.iterrows():\n",
    "        ctry_list.append(ctry_dict[row['Country']])\n",
    "    return(np.array(ctry_list))\n",
    "    "
   ]
  },
  {
   "cell_type": "code",
   "execution_count": 62,
   "metadata": {},
   "outputs": [
    {
     "data": {
      "text/plain": [
       "(1000, 1)"
      ]
     },
     "execution_count": 62,
     "metadata": {},
     "output_type": "execute_result"
    }
   ],
   "source": [
    "ctry_array=country_to_array(data)\n",
    "ctry_array=ctry_array.reshape((ctry_array.shape[0],1))\n",
    "ctry_array.shape"
   ]
  },
  {
   "cell_type": "code",
   "execution_count": 9,
   "metadata": {},
   "outputs": [],
   "source": [
    "#transform each timestamp to an array of integers\n",
    "import numpy as np\n",
    "import re\n",
    "def timestamp_to_array(df:pd.DataFrame):\n",
    "    time_list=[]\n",
    "    for _,row in df.iterrows():\n",
    "        timestamp=row['Timestamp']\n",
    "        time_list.append(re.split(r'\\D+',timestamp))\n",
    "    return(np.array(time_list,dtype=int))"
   ]
  },
  {
   "cell_type": "code",
   "execution_count": 10,
   "metadata": {},
   "outputs": [
    {
     "data": {
      "text/plain": [
       "(1000, 6)"
      ]
     },
     "execution_count": 10,
     "metadata": {},
     "output_type": "execute_result"
    }
   ],
   "source": [
    "timestamp_array=timestamp_to_array(data)\n",
    "timestamp_array.shape"
   ]
  },
  {
   "cell_type": "code",
   "execution_count": 11,
   "metadata": {},
   "outputs": [],
   "source": [
    "def clicks_per_year(df:pd.DataFrame):\n",
    "    years_array=timestamp_to_array(df)[:,0]\n",
    "    years=set(years_array)\n",
    "    cl_p_y={}\n",
    "    for year in years:\n",
    "        cl_p_y[year]=cl_p_y.get(year,0)+np.sum((df['Clicked'].to_numpy())*(years_array==year))\n",
    "    return(cl_p_y)\n",
    "    \n",
    "def clicks_per_month(df:pd.DataFrame):\n",
    "    months_array=timestamp_to_array(df)[:,1]\n",
    "    months=set(months_array)\n",
    "    cl_p_m={}\n",
    "    for month in months:\n",
    "        cl_p_m[month]=cl_p_m.get(month,0)+np.sum((df['Clicked'].to_numpy())*(months_array==month))\n",
    "    return(cl_p_m)\n",
    "def clicks_per_day(df:pd.DataFrame):\n",
    "    days_array=timestamp_to_array(df)[:,2]\n",
    "    days=set(days_array)\n",
    "    cl_p_d={}\n",
    "    for day in days:\n",
    "        cl_p_d[day]=cl_p_d.get(day,0)+np.sum((df['Clicked'].to_numpy())*(days_array==day))\n",
    "    return(cl_p_d)\n",
    "def clicks_per_hour(df:pd.DataFrame):\n",
    "    hours_array=timestamp_to_array(df)[:,3]\n",
    "    hours=set(hours_array)\n",
    "    cl_p_h={}\n",
    "    for hour in hours:\n",
    "        cl_p_h[hour]=cl_p_h.get(hour,0)+np.sum((df['Clicked'].to_numpy())*(hours_array==hour))\n",
    "    return(cl_p_h)"
   ]
  },
  {
   "cell_type": "code",
   "execution_count": 12,
   "metadata": {},
   "outputs": [
    {
     "data": {
      "image/png": "[encoded data removed]",
      "text/plain": [
       "<Figure size 720x720 with 4 Axes>"
      ]
     },
     "metadata": {
      "needs_background": "light"
     },
     "output_type": "display_data"
    }
   ],
   "source": [
    "cl_p_y=clicks_per_year(data)\n",
    "cl_p_m=clicks_per_month(data)\n",
    "cl_p_d=clicks_per_day(data)\n",
    "cl_p_h=clicks_per_hour(data)\n",
    "\n",
    "from matplotlib import pyplot as plt\n",
    "from matplotlib.pyplot import figure\n",
    "\n",
    "\n",
    "fig, axs = plt.subplots(2, 2,figsize=(10,10))\n",
    "axs[0, 0].plot(list(cl_p_y.keys()), list(cl_p_y.values()),c='r')\n",
    "axs[0, 0].set_title('Years vs Clicks')\n",
    "axs[0, 1].plot(list(cl_p_m.keys()), list(cl_p_m.values()),c='b')\n",
    "axs[0, 1].set_title('Months vs Clicks')\n",
    "axs[1, 0].plot(list(cl_p_d.keys()), list(cl_p_d.values()),c='k')\n",
    "axs[1, 0].set_title('Days vs Clicks')\n",
    "axs[1, 1].plot(list(cl_p_h.keys()), list(cl_p_h.values()),c='g')\n",
    "axs[1, 1].set_title('Hours vs Clicks')\n",
    "\n",
    "plt.show()"
   ]
  },
  {
   "cell_type": "markdown",
   "metadata": {},
   "source": [
    "### We can remark that there is only one year in the dataset therefore the number of clicks per year is a single point , and also the number of clicks per month is almost constant , however we have a drop for the last month \"6\" , we can conclude that this drop is due to the low number of data elements with a 'month==6'. Also we remark fluctuations of number of clicks when it comes to the feature of Days and hours.\n",
    "### As to conclude, we can only take the day as well as the hour in which the Ad is seen and drop the rest of the time stamp."
   ]
  },
  {
   "cell_type": "code",
   "execution_count": 85,
   "metadata": {},
   "outputs": [],
   "source": [
    "#getting the clicks per gender dictionnary\n",
    "def clicks_per_gender(df:pd.DataFrame):\n",
    "    cl_p_g={0:0,1:0}\n",
    "    for _,row in df.iterrows():\n",
    "        cl_p_g[row['gender']]+=row['Clicked']\n",
    "    return(cl_p_g)\n",
    "    "
   ]
  },
  {
   "cell_type": "code",
   "execution_count": 103,
   "metadata": {},
   "outputs": [
    {
     "data": {
      "image/png": "[encoded data removed]",
      "text/plain": [
       "<Figure size 720x504 with 1 Axes>"
      ]
     },
     "metadata": {
      "needs_background": "light"
     },
     "output_type": "display_data"
    }
   ],
   "source": [
    "cl_p_g=clicks_per_gender(data)\n",
    "plt.rcParams[\"figure.figsize\"] = (10,7)\n",
    "plt.rcParams[\"font.size\"] = 20\n",
    "plt.bar(cl_p_g.keys(),cl_p_g.values(),align='center')\n",
    "plt.xlabel('Gender')\n",
    "plt.ylabel('Number of Clicks')\n",
    "plt.xticks([0,1])\n",
    "plt.show()"
   ]
  },
  {
   "cell_type": "markdown",
   "metadata": {},
   "source": [
    "## We can remark that there is a small difference when it comes to the number of clicks between the genders , therefore we decide to create two models, one which keeps the Gender Feature and one which drops it"
   ]
  },
  {
   "cell_type": "markdown",
   "metadata": {
    "colab": {},
    "colab_type": "code",
    "id": "1Vk1EEy9IKSv"
   },
   "source": [
    "# Embedding the Ad Topic lines using Doc2Vec :"
   ]
  },
  {
   "cell_type": "markdown",
   "metadata": {
    "colab": {},
    "colab_type": "code",
    "id": "nkQU41WSIKSz"
   },
   "source": [
    "### Now using the Doc2Vec model from gensim we will try to embed the text in 'Ad Topic Line' feature into a vector of floats "
   ]
  },
  {
   "cell_type": "code",
   "execution_count": 14,
   "metadata": {},
   "outputs": [],
   "source": [
    "#!pip install nltk\n",
    "#!pip install gensim"
   ]
  },
  {
   "cell_type": "code",
   "execution_count": 15,
   "metadata": {},
   "outputs": [
    {
     "name": "stderr",
     "output_type": "stream",
     "text": [
      "[nltk_data] Downloading package punkt to /home/dhiab/nltk_data...\n",
      "[nltk_data]   Package punkt is already up-to-date!\n"
     ]
    }
   ],
   "source": [
    "import nltk\n",
    "nltk.download('punkt')\n",
    "from nltk.tokenize import word_tokenize\n",
    "import numpy as np"
   ]
  },
  {
   "cell_type": "code",
   "execution_count": 16,
   "metadata": {},
   "outputs": [],
   "source": [
    "sentences=data['Ad Topic Line'].tolist()\n",
    "tok_sent = []\n",
    "for s in sentences:\n",
    "    tok_sent.append(word_tokenize(s.lower()))\n"
   ]
  },
  {
   "cell_type": "code",
   "execution_count": 17,
   "metadata": {},
   "outputs": [
    {
     "name": "stderr",
     "output_type": "stream",
     "text": [
      "/home/dhiab/anaconda3/lib/python3.8/site-packages/gensim/similarities/__init__.py:15: UserWarning: The gensim.similarities.levenshtein submodule is disabled, because the optional Levenshtein package <https://pypi.org/project/python-Levenshtein/> is unavailable. Install Levenhstein (e.g. `pip install python-Levenshtein`) to suppress this warning.\n",
      "  warnings.warn(msg)\n"
     ]
    },
    {
     "data": {
      "text/plain": [
       "[TaggedDocument(words=['seamless', 'impactful', 'info-mediaries'], tags=[0]),\n",
       " TaggedDocument(words=['ameliorated', 'actuating', 'workforce'], tags=[1]),\n",
       " TaggedDocument(words=['self-enabling', 'local', 'strategy'], tags=[2]),\n",
       " TaggedDocument(words=['public-key', 'intangible', 'graphical', 'user', 'interface'], tags=[3]),\n",
       " TaggedDocument(words=['team-oriented', 'bi-directional', 'secured', 'line'], tags=[4]),\n",
       " TaggedDocument(words=['monitored', 'systematic', 'hierarchy'], tags=[5]),\n",
       " TaggedDocument(words=['progressive', 'intermediate', 'throughput'], tags=[6]),\n",
       " TaggedDocument(words=['reduced', 'mobile', 'structure'], tags=[7]),\n",
       " TaggedDocument(words=['cross-platform', 'directional', 'intranet'], tags=[8]),\n",
       " TaggedDocument(words=['enterprise-wide', 'incremental', 'internet', 'solution'], tags=[9]),\n",
       " TaggedDocument(words=['user-friendly', 'content-based', 'customer', 'loyalty'], tags=[10]),\n",
       " TaggedDocument(words=['focused', 'fresh-thinking', 'graphic', 'interface'], tags=[11]),\n",
       " TaggedDocument(words=['decentralized', 'foreground', 'infrastructure'], tags=[12]),\n",
       " TaggedDocument(words=['public-key', 'disintermediate', 'emulation'], tags=[13]),\n",
       " TaggedDocument(words=['profit-focused', 'dedicated', 'utilization'], tags=[14]),\n",
       " TaggedDocument(words=['intuitive', 'global', 'website'], tags=[15]),\n",
       " TaggedDocument(words=['sharable', 'grid-enabled', 'matrix'], tags=[16]),\n",
       " TaggedDocument(words=['multi-lateral', 'multi-state', 'encryption'], tags=[17]),\n",
       " TaggedDocument(words=['versatile', 'transitional', 'monitoring'], tags=[18]),\n",
       " TaggedDocument(words=['secured', '24hour', 'policy'], tags=[19]),\n",
       " TaggedDocument(words=['customer-focused', 'system-worthy', 'superstructure'], tags=[20]),\n",
       " TaggedDocument(words=['public-key', 'solution-oriented', 'focus', 'group'], tags=[21]),\n",
       " TaggedDocument(words=['self-enabling', 'zero', 'administration', 'neural-net'], tags=[22]),\n",
       " TaggedDocument(words=['universal', 'empowering', 'adapter'], tags=[23]),\n",
       " TaggedDocument(words=['decentralized', '24hour', 'approach'], tags=[24]),\n",
       " TaggedDocument(words=['robust', 'transitional', 'ability'], tags=[25]),\n",
       " TaggedDocument(words=['digitized', 'zero-defect', 'implementation'], tags=[26]),\n",
       " TaggedDocument(words=['horizontal', 'incremental', 'website'], tags=[27]),\n",
       " TaggedDocument(words=['universal', 'incremental', 'array'], tags=[28]),\n",
       " TaggedDocument(words=['polarized', 'dynamic', 'throughput'], tags=[29]),\n",
       " TaggedDocument(words=['stand-alone', 'tangible', 'moderator'], tags=[30]),\n",
       " TaggedDocument(words=['distributed', 'bifurcated', 'challenge'], tags=[31]),\n",
       " TaggedDocument(words=['de-engineered', 'solution-oriented', 'open', 'architecture'], tags=[32]),\n",
       " TaggedDocument(words=['seamless', 'real-time', 'array'], tags=[33]),\n",
       " TaggedDocument(words=['front-line', 'fresh-thinking', 'installation'], tags=[34]),\n",
       " TaggedDocument(words=['distributed', 'intangible', 'database'], tags=[35]),\n",
       " TaggedDocument(words=['object-based', 'reciprocal', 'knowledgebase'], tags=[36]),\n",
       " TaggedDocument(words=['mandatory', '4thgeneration', 'structure'], tags=[37]),\n",
       " TaggedDocument(words=['streamlined', 'logistical', 'secured', 'line'], tags=[38]),\n",
       " TaggedDocument(words=['self-enabling', 'zero', 'administration', 'neural-net'], tags=[39]),\n",
       " TaggedDocument(words=['organic', 'motivating', 'model'], tags=[40]),\n",
       " TaggedDocument(words=['stand-alone', 'explicit', 'orchestration'], tags=[41]),\n",
       " TaggedDocument(words=['sharable', 'reciprocal', 'project'], tags=[42]),\n",
       " TaggedDocument(words=['centralized', 'multi-state', 'hierarchy'], tags=[43]),\n",
       " TaggedDocument(words=['down-sized', 'uniform', 'info-mediaries'], tags=[44]),\n",
       " TaggedDocument(words=['face-to-face', 'multimedia', 'success'], tags=[45]),\n",
       " TaggedDocument(words=['networked', 'regional', 'local', 'area', 'network'], tags=[46]),\n",
       " TaggedDocument(words=['persevering', 'tertiary', 'capability'], tags=[47]),\n",
       " TaggedDocument(words=['seamless', 'cohesive', 'conglomeration'], tags=[48]),\n",
       " TaggedDocument(words=['object-based', 'optimal', 'solution'], tags=[49]),\n",
       " TaggedDocument(words=['networked', 'coherent', 'interface'], tags=[50]),\n",
       " TaggedDocument(words=['business-focused', 'client-driven', 'forecast'], tags=[51]),\n",
       " TaggedDocument(words=['polarized', 'analyzing', 'concept'], tags=[52]),\n",
       " TaggedDocument(words=['sharable', 'dedicated', 'graphic', 'interface'], tags=[53]),\n",
       " TaggedDocument(words=['reactive', 'national', 'success'], tags=[54]),\n",
       " TaggedDocument(words=['expanded', 'value-added', 'emulation'], tags=[55]),\n",
       " TaggedDocument(words=['synchronized', 'multi-tasking', 'ability'], tags=[56]),\n",
       " TaggedDocument(words=['realigned', 'systematic', 'function'], tags=[57]),\n",
       " TaggedDocument(words=['synchronized', 'user-facing', 'core'], tags=[58]),\n",
       " TaggedDocument(words=['robust', 'dedicated', 'system', 'engine'], tags=[59]),\n",
       " TaggedDocument(words=['reactive', 'interactive', 'protocol'], tags=[60]),\n",
       " TaggedDocument(words=['decentralized', 'attitude-oriented', 'interface'], tags=[61]),\n",
       " TaggedDocument(words=['visionary', 'maximized', 'process', 'improvement'], tags=[62]),\n",
       " TaggedDocument(words=['front-line', 'zero-defect', 'array'], tags=[63]),\n",
       " TaggedDocument(words=['quality-focused', 'hybrid', 'frame'], tags=[64]),\n",
       " TaggedDocument(words=['down-sized', 'explicit', 'budgetary', 'management'], tags=[65]),\n",
       " TaggedDocument(words=['function-based', 'optimizing', 'protocol'], tags=[66]),\n",
       " TaggedDocument(words=['seamless', 'full-range', 'website'], tags=[67]),\n",
       " TaggedDocument(words=['balanced', 'actuating', 'moderator'], tags=[68]),\n",
       " TaggedDocument(words=['progressive', 'non-volatile', 'neural-net'], tags=[69]),\n",
       " TaggedDocument(words=['open-architected', 'intangible', 'strategy'], tags=[70]),\n",
       " TaggedDocument(words=['horizontal', 'hybrid', 'challenge'], tags=[71]),\n",
       " TaggedDocument(words=['triple-buffered', 'regional', 'toolset'], tags=[72]),\n",
       " TaggedDocument(words=['visionary', 'multi-tasking', 'alliance'], tags=[73]),\n",
       " TaggedDocument(words=['de-engineered', 'attitude-oriented', 'projection'], tags=[74]),\n",
       " TaggedDocument(words=['future-proofed', 'coherent', 'budgetary', 'management'], tags=[75]),\n",
       " TaggedDocument(words=['proactive', 'encompassing', 'paradigm'], tags=[76]),\n",
       " TaggedDocument(words=['triple-buffered', 'reciprocal', 'time-frame'], tags=[77]),\n",
       " TaggedDocument(words=['intuitive', 'global', 'website'], tags=[78]),\n",
       " TaggedDocument(words=['open-source', 'holistic', 'productivity'], tags=[79]),\n",
       " TaggedDocument(words=['vision-oriented', 'contextually-based', 'extranet'], tags=[80]),\n",
       " TaggedDocument(words=['pre-emptive', 'client-server', 'open', 'system'], tags=[81]),\n",
       " TaggedDocument(words=['universal', 'empowering', 'adapter'], tags=[82]),\n",
       " TaggedDocument(words=['centralized', '24hour', 'synergy'], tags=[83]),\n",
       " TaggedDocument(words=['virtual', 'bandwidth-monitored', 'initiative'], tags=[84]),\n",
       " TaggedDocument(words=['ameliorated', 'bandwidth-monitored', 'contingency'], tags=[85]),\n",
       " TaggedDocument(words=['quality-focused', 'bi-directional', 'throughput'], tags=[86]),\n",
       " TaggedDocument(words=['re-engineered', 'non-volatile', 'neural-net'], tags=[87]),\n",
       " TaggedDocument(words=['profit-focused', 'secondary', 'portal'], tags=[88]),\n",
       " TaggedDocument(words=['user-centric', 'intangible', 'task-force'], tags=[89]),\n",
       " TaggedDocument(words=['triple-buffered', 'foreground', 'encryption'], tags=[90]),\n",
       " TaggedDocument(words=['polarized', '5thgeneration', 'matrix'], tags=[91]),\n",
       " TaggedDocument(words=['face-to-face', 'intermediate', 'approach'], tags=[92]),\n",
       " TaggedDocument(words=['robust', 'object-oriented', 'graphic', 'interface'], tags=[93]),\n",
       " TaggedDocument(words=['versatile', 'scalable', 'encryption'], tags=[94]),\n",
       " TaggedDocument(words=['profound', 'zero', 'administration', 'instruction', 'set'], tags=[95]),\n",
       " TaggedDocument(words=['expanded', 'modular', 'application'], tags=[96]),\n",
       " TaggedDocument(words=['ergonomic', 'empowering', 'frame'], tags=[97]),\n",
       " TaggedDocument(words=['pre-emptive', 'systematic', 'budgetary', 'management'], tags=[98]),\n",
       " TaggedDocument(words=['multi-layered', '4thgeneration', 'knowledge', 'user'], tags=[99]),\n",
       " TaggedDocument(words=['user-friendly', 'impactful', 'time-frame'], tags=[100]),\n",
       " TaggedDocument(words=['mandatory', 'disintermediate', 'info-mediaries'], tags=[101]),\n",
       " TaggedDocument(words=['enhanced', 'regional', 'conglomeration'], tags=[102]),\n",
       " TaggedDocument(words=['face-to-face', 'responsive', 'alliance'], tags=[103]),\n",
       " TaggedDocument(words=['horizontal', 'multi-state', 'interface'], tags=[104]),\n",
       " TaggedDocument(words=['intuitive', 'zero-defect', 'framework'], tags=[105]),\n",
       " TaggedDocument(words=['grass-roots', 'transitional', 'flexibility'], tags=[106]),\n",
       " TaggedDocument(words=['customer-focused', 'fault-tolerant', 'implementation'], tags=[107]),\n",
       " TaggedDocument(words=['object-based', 'optimal', 'solution'], tags=[108]),\n",
       " TaggedDocument(words=['profound', 'executive', 'flexibility'], tags=[109]),\n",
       " TaggedDocument(words=['fundamental', 'tangible', 'moratorium'], tags=[110]),\n",
       " TaggedDocument(words=['ergonomic', 'multi-state', 'structure'], tags=[111]),\n",
       " TaggedDocument(words=['inverse', 'high-level', 'capability'], tags=[112]),\n",
       " TaggedDocument(words=['integrated', 'client-server', 'definition'], tags=[113]),\n",
       " TaggedDocument(words=['assimilated', 'hybrid', 'initiative'], tags=[114]),\n",
       " TaggedDocument(words=['user-friendly', 'upward-trending', 'intranet'], tags=[115]),\n",
       " TaggedDocument(words=['integrated', 'leadingedge', 'frame'], tags=[116]),\n",
       " TaggedDocument(words=['multi-layered', 'user-facing', 'paradigm'], tags=[117]),\n",
       " TaggedDocument(words=['cross-group', 'global', 'orchestration'], tags=[118]),\n",
       " TaggedDocument(words=['pre-emptive', 'value-added', 'workforce'], tags=[119]),\n",
       " TaggedDocument(words=['focused', 'web-enabled', 'graphical', 'user', 'interface'], tags=[120]),\n",
       " TaggedDocument(words=['diverse', 'stable', 'circuit'], tags=[121]),\n",
       " TaggedDocument(words=['cloned', 'optimal', 'leverage'], tags=[122]),\n",
       " TaggedDocument(words=['right-sized', 'system-worthy', 'project'], tags=[123]),\n",
       " TaggedDocument(words=['robust', 'web-enabled', 'attitude'], tags=[124]),\n",
       " TaggedDocument(words=['cloned', 'incremental', 'matrices'], tags=[125]),\n",
       " TaggedDocument(words=['cross-group', 'neutral', 'synergy'], tags=[126]),\n",
       " TaggedDocument(words=['synchronized', 'zero', 'tolerance', 'product'], tags=[127]),\n",
       " TaggedDocument(words=['front-line', 'even-keeled', 'website'], tags=[128]),\n",
       " TaggedDocument(words=['programmable', 'uniform', 'productivity'], tags=[129]),\n",
       " TaggedDocument(words=['intuitive', 'explicit', 'conglomeration'], tags=[130]),\n",
       " TaggedDocument(words=['multi-layered', 'fresh-thinking', 'neural-net'], tags=[131]),\n",
       " TaggedDocument(words=['horizontal', 'heuristic', 'synergy'], tags=[132]),\n",
       " TaggedDocument(words=['reactive', 'tangible', 'contingency'], tags=[133]),\n",
       " TaggedDocument(words=['devolved', 'human-resource', 'circuit'], tags=[134]),\n",
       " TaggedDocument(words=['re-engineered', 'demand-driven', 'capacity'], tags=[135]),\n",
       " TaggedDocument(words=['reduced', 'bi-directional', 'strategy'], tags=[136]),\n",
       " TaggedDocument(words=['persevering', 'even-keeled', 'help-desk'], tags=[137]),\n",
       " TaggedDocument(words=['automated', 'full-range', 'internet', 'solution'], tags=[138]),\n",
       " TaggedDocument(words=['proactive', 'secondary', 'monitoring'], tags=[139]),\n",
       " TaggedDocument(words=['seamless', 'motivating', 'approach'], tags=[140]),\n",
       " TaggedDocument(words=['synergized', 'context-sensitive', 'database'], tags=[141]),\n",
       " TaggedDocument(words=['implemented', 'bottom-line', 'implementation'], tags=[142]),\n",
       " TaggedDocument(words=['quality-focused', 'zero-defect', 'budgetary', 'management'], tags=[143]),\n",
       " TaggedDocument(words=['multi-channeled', 'non-volatile', 'website'], tags=[144]),\n",
       " TaggedDocument(words=['function-based', 'stable', 'alliance'], tags=[145]),\n",
       " TaggedDocument(words=['customer-focused', 'incremental', 'system', 'engine'], tags=[146]),\n",
       " TaggedDocument(words=['upgradable', 'multi-tasking', 'initiative'], tags=[147]),\n",
       " TaggedDocument(words=['stand-alone', 'empowering', 'benchmark'], tags=[148]),\n",
       " TaggedDocument(words=['front-line', 'non-volatile', 'implementation'], tags=[149]),\n",
       " TaggedDocument(words=['exclusive', 'cohesive', 'intranet'], tags=[150]),\n",
       " TaggedDocument(words=['realigned', 'intermediate', 'application'], tags=[151]),\n",
       " TaggedDocument(words=['reverse-engineered', 'well-modulated', 'capability'], tags=[152]),\n",
       " TaggedDocument(words=['synergized', 'hybrid', 'time-frame'], tags=[153]),\n",
       " TaggedDocument(words=['universal', 'asymmetric', 'archive'], tags=[154]),\n",
       " TaggedDocument(words=['cloned', 'dedicated', 'analyzer'], tags=[155]),\n",
       " TaggedDocument(words=['realigned', 'content-based', 'leverage'], tags=[156]),\n",
       " TaggedDocument(words=['devolved', 'regional', 'moderator'], tags=[157]),\n",
       " TaggedDocument(words=['business-focused', 'value-added', 'definition'], tags=[158]),\n",
       " TaggedDocument(words=['down-sized', 'background', 'groupware'], tags=[159]),\n",
       " TaggedDocument(words=['user-centric', 'discrete', 'success'], tags=[160]),\n",
       " TaggedDocument(words=['innovative', 'regional', 'structure'], tags=[161]),\n",
       " TaggedDocument(words=['front-line', 'system-worthy', 'flexibility'], tags=[162]),\n",
       " TaggedDocument(words=['enhanced', 'system-worthy', 'toolset'], tags=[163]),\n",
       " TaggedDocument(words=['cloned', 'explicit', 'middleware'], tags=[164]),\n",
       " TaggedDocument(words=['public-key', 'solution-oriented', 'focus', 'group'], tags=[165]),\n",
       " TaggedDocument(words=['object-based', 'neutral', 'policy'], tags=[166]),\n",
       " TaggedDocument(words=['re-contextualized', 'systemic', 'time-frame'], tags=[167]),\n",
       " TaggedDocument(words=['organic', 'asynchronous', 'hierarchy'], tags=[168]),\n",
       " TaggedDocument(words=['self-enabling', 'incremental', 'collaboration'], tags=[169]),\n",
       " TaggedDocument(words=['operative', 'multi-tasking', 'graphic', 'interface'], tags=[170]),\n",
       " TaggedDocument(words=['reactive', 'impactful', 'challenge'], tags=[171]),\n",
       " TaggedDocument(words=['open-source', 'even-keeled', 'database'], tags=[172]),\n",
       " TaggedDocument(words=['enhanced', 'dedicated', 'support'], tags=[173]),\n",
       " TaggedDocument(words=['optimized', 'intermediate', 'help-desk'], tags=[174]),\n",
       " TaggedDocument(words=['universal', '24/7', 'implementation'], tags=[175]),\n",
       " TaggedDocument(words=['total', 'human-resource', 'flexibility'], tags=[176]),\n",
       " TaggedDocument(words=['face-to-face', 'executive', 'encryption'], tags=[177]),\n",
       " TaggedDocument(words=['streamlined', 'analyzing', 'initiative'], tags=[178]),\n",
       " TaggedDocument(words=['assimilated', 'discrete', 'strategy'], tags=[179]),\n",
       " TaggedDocument(words=['adaptive', 'asynchronous', 'attitude'], tags=[180]),\n",
       " TaggedDocument(words=['user-friendly', 'grid-enabled', 'analyzer'], tags=[181]),\n",
       " TaggedDocument(words=['virtual', 'bandwidth-monitored', 'initiative'], tags=[182]),\n",
       " TaggedDocument(words=['progressive', 'analyzing', 'attitude'], tags=[183]),\n",
       " TaggedDocument(words=['persevering', 'eco-centric', 'flexibility'], tags=[184]),\n",
       " TaggedDocument(words=['customizable', 'multi-tasking', 'website'], tags=[185]),\n",
       " TaggedDocument(words=['total', 'cohesive', 'moratorium'], tags=[186]),\n",
       " TaggedDocument(words=['enterprise-wide', 'bi-directional', 'secured', 'line'], tags=[187]),\n",
       " TaggedDocument(words=['right-sized', 'logistical', 'middleware'], tags=[188]),\n",
       " TaggedDocument(words=['triple-buffered', 'needs-based', 'local', 'area', 'network'], tags=[189]),\n",
       " TaggedDocument(words=['team-oriented', 'high-level', 'orchestration'], tags=[190]),\n",
       " TaggedDocument(words=['mandatory', 'disintermediate', 'info-mediaries'], tags=[191]),\n",
       " TaggedDocument(words=['monitored', 'executive', 'architecture'], tags=[192]),\n",
       " TaggedDocument(words=['team-oriented', 'zero-defect', 'initiative'], tags=[193]),\n",
       " TaggedDocument(words=['customer-focused', 'optimizing', 'moderator'], tags=[194]),\n",
       " TaggedDocument(words=['visionary', 'asymmetric', 'encryption'], tags=[195]),\n",
       " TaggedDocument(words=['expanded', 'intangible', 'solution'], tags=[196]),\n",
       " TaggedDocument(words=['focused', 'high-level', 'conglomeration'], tags=[197]),\n",
       " TaggedDocument(words=['enterprise-wide', 'foreground', 'emulation'], tags=[198]),\n",
       " TaggedDocument(words=['user-centric', 'attitude-oriented', 'adapter'], tags=[199]),\n",
       " TaggedDocument(words=['managed', 'disintermediate', 'matrices'], tags=[200]),\n",
       " TaggedDocument(words=['progressive', 'asynchronous', 'adapter'], tags=[201]),\n",
       " TaggedDocument(words=['enhanced', 'tertiary', 'utilization'], tags=[202]),\n",
       " TaggedDocument(words=['customer-focused', 'solution-oriented', 'software'], tags=[203]),\n",
       " TaggedDocument(words=['upgradable', 'heuristic', 'system', 'engine'], tags=[204]),\n",
       " TaggedDocument(words=['compatible', 'systemic', 'function'], tags=[205]),\n",
       " TaggedDocument(words=['automated', 'object-oriented', 'firmware'], tags=[206]),\n",
       " TaggedDocument(words=['open-architected', 'needs-based', 'customer', 'loyalty'], tags=[207]),\n",
       " TaggedDocument(words=['devolved', 'tangible', 'approach'], tags=[208]),\n",
       " TaggedDocument(words=['fully-configurable', 'client-driven', 'customer', 'loyalty'], tags=[209]),\n",
       " TaggedDocument(words=['advanced', 'didactic', 'conglomeration'], tags=[210]),\n",
       " TaggedDocument(words=['organic', 'logistical', 'adapter'], tags=[211]),\n",
       " TaggedDocument(words=['fully-configurable', 'high-level', 'implementation'], tags=[212]),\n",
       " TaggedDocument(words=['compatible', 'composite', 'project'], tags=[213]),\n",
       " TaggedDocument(words=['function-based', 'transitional', 'complexity'], tags=[214]),\n",
       " TaggedDocument(words=['distributed', 'tertiary', 'system', 'engine'], tags=[215]),\n",
       " TaggedDocument(words=['digitized', 'zero', 'administration', 'paradigm'], tags=[216]),\n",
       " TaggedDocument(words=['re-engineered', 'optimal', 'policy'], tags=[217]),\n",
       " TaggedDocument(words=['virtual', 'scalable', 'secured', 'line'], tags=[218]),\n",
       " TaggedDocument(words=['horizontal', 'client-driven', 'hierarchy'], tags=[219]),\n",
       " TaggedDocument(words=['customer-focused', 'zero-defect', 'process', 'improvement'], tags=[220]),\n",
       " TaggedDocument(words=['reactive', 'composite', 'project'], tags=[221]),\n",
       " TaggedDocument(words=['up-sized', 'executive', 'moderator'], tags=[222]),\n",
       " TaggedDocument(words=['open-architected', 'needs-based', 'customer', 'loyalty'], tags=[223]),\n",
       " TaggedDocument(words=['self-enabling', 'local', 'strategy'], tags=[224]),\n",
       " TaggedDocument(words=['upgradable', 'system-worthy', 'array'], tags=[225]),\n",
       " TaggedDocument(words=['reactive', 'bi-directional', 'workforce'], tags=[226]),\n",
       " TaggedDocument(words=['decentralized', 'real-time', 'circuit'], tags=[227]),\n",
       " TaggedDocument(words=['open-source', 'global', 'strategy'], tags=[228]),\n",
       " TaggedDocument(words=['balanced', 'dynamic', 'application'], tags=[229]),\n",
       " TaggedDocument(words=['streamlined', 'logistical', 'secured', 'line'], tags=[230]),\n",
       " TaggedDocument(words=['balanced', 'empowering', 'success'], tags=[231]),\n",
       " TaggedDocument(words=['ameliorated', 'client-driven', 'forecast'], tags=[232]),\n",
       " TaggedDocument(words=['integrated', 'maximized', 'service-desk'], tags=[233]),\n",
       " TaggedDocument(words=['focused', 'multimedia', 'implementation'], tags=[234]),\n",
       " TaggedDocument(words=['stand-alone', 'eco-centric', 'system', 'engine'], tags=[235]),\n",
       " TaggedDocument(words=['reactive', 'demand-driven', 'capacity'], tags=[236]),\n",
       " TaggedDocument(words=['reduced', 'multimedia', 'project'], tags=[237]),\n",
       " TaggedDocument(words=['advanced', '5thgeneration', 'capability'], tags=[238]),\n",
       " TaggedDocument(words=['switchable', '3rdgeneration', 'hub'], tags=[239]),\n",
       " TaggedDocument(words=['reverse-engineered', 'web-enabled', 'support'], tags=[240]),\n",
       " TaggedDocument(words=['polarized', 'analyzing', 'concept'], tags=[241]),\n",
       " TaggedDocument(words=['realigned', 'systematic', 'function'], tags=[242]),\n",
       " TaggedDocument(words=['object-based', 'leadingedge', 'complexity'], tags=[243]),\n",
       " TaggedDocument(words=['function-based', 'incremental', 'standardization'], tags=[244]),\n",
       " TaggedDocument(words=['profit-focused', 'attitude-oriented', 'task-force'], tags=[245]),\n",
       " TaggedDocument(words=['compatible', 'intangible', 'customer', 'loyalty'], tags=[246]),\n",
       " TaggedDocument(words=['expanded', 'full-range', 'synergy'], tags=[247]),\n",
       " TaggedDocument(words=['enterprise-wide', 'foreground', 'emulation'], tags=[248]),\n",
       " TaggedDocument(words=['user-friendly', 'client-server', 'instruction', 'set'], tags=[249]),\n",
       " TaggedDocument(words=['virtual', 'composite', 'model'], tags=[250]),\n",
       " TaggedDocument(words=['reduced', 'holistic', 'help-desk'], tags=[251]),\n",
       " TaggedDocument(words=['reduced', 'global', 'support'], tags=[252]),\n",
       " TaggedDocument(words=['mandatory', 'empowering', 'focus', 'group'], tags=[253]),\n",
       " TaggedDocument(words=['networked', 'asymmetric', 'infrastructure'], tags=[254]),\n",
       " TaggedDocument(words=['vision-oriented', 'asynchronous', 'internet', 'solution'], tags=[255]),\n",
       " TaggedDocument(words=['monitored', 'zero', 'administration', 'collaboration'], tags=[256]),\n",
       " TaggedDocument(words=['fundamental', 'modular', 'algorithm'], tags=[257]),\n",
       " TaggedDocument(words=['phased', 'zero', 'tolerance', 'extranet'], tags=[258]),\n",
       " TaggedDocument(words=['stand-alone', 'well-modulated', 'product'], tags=[259]),\n",
       " TaggedDocument(words=['customizable', 'homogeneous', 'contingency'], tags=[260]),\n",
       " TaggedDocument(words=['persistent', 'demand-driven', 'interface'], tags=[261]),\n",
       " TaggedDocument(words=['reduced', 'background', 'data-warehouse'], tags=[262]),\n",
       " TaggedDocument(words=['innovative', 'homogeneous', 'alliance'], tags=[263]),\n",
       " TaggedDocument(words=['total', 'local', 'synergy'], tags=[264]),\n",
       " TaggedDocument(words=['total', 'asynchronous', 'architecture'], tags=[265]),\n",
       " TaggedDocument(words=['persistent', 'homogeneous', 'framework'], tags=[266]),\n",
       " TaggedDocument(words=['face-to-face', 'dedicated', 'flexibility'], tags=[267]),\n",
       " TaggedDocument(words=['adaptive', '24hour', 'graphic', 'interface'], tags=[268]),\n",
       " TaggedDocument(words=['quality-focused', 'hybrid', 'frame'], tags=[269]),\n",
       " TaggedDocument(words=['grass-roots', 'solution-oriented', 'conglomeration'], tags=[270]),\n",
       " TaggedDocument(words=['managed', 'didactic', 'flexibility'], tags=[271]),\n",
       " TaggedDocument(words=['seamless', '4thgeneration', 'contingency'], tags=[272]),\n",
       " TaggedDocument(words=['balanced', 'heuristic', 'approach'], tags=[273]),\n",
       " TaggedDocument(words=['digitized', 'radical', 'architecture'], tags=[274]),\n",
       " TaggedDocument(words=['streamlined', 'non-volatile', 'analyzer'], tags=[275]),\n",
       " TaggedDocument(words=['up-sized', 'incremental', 'encryption'], tags=[276]),\n",
       " TaggedDocument(words=['grass-roots', 'systematic', 'hardware'], tags=[277]),\n",
       " TaggedDocument(words=['face-to-face', 'methodical', 'intranet'], tags=[278]),\n",
       " TaggedDocument(words=['fundamental', 'fault-tolerant', 'neural-net'], tags=[279]),\n",
       " TaggedDocument(words=['profound', 'stable', 'product'], tags=[280]),\n",
       " TaggedDocument(words=['team-oriented', 'encompassing', 'portal'], tags=[281]),\n",
       " TaggedDocument(words=['programmable', 'uniform', 'website'], tags=[282]),\n",
       " TaggedDocument(words=['organic', '3rdgeneration', 'encryption'], tags=[283]),\n",
       " TaggedDocument(words=['virtual', 'executive', 'implementation'], tags=[284]),\n",
       " TaggedDocument(words=['programmable', 'empowering', 'orchestration'], tags=[285]),\n",
       " TaggedDocument(words=['horizontal', 'incremental', 'website'], tags=[286]),\n",
       " TaggedDocument(words=['upgradable', 'asynchronous', 'circuit'], tags=[287]),\n",
       " TaggedDocument(words=['customizable', 'systematic', 'service-desk'], tags=[288]),\n",
       " TaggedDocument(words=['grass-roots', '4thgeneration', 'forecast'], tags=[289]),\n",
       " TaggedDocument(words=['inverse', 'local', 'hub'], tags=[290]),\n",
       " TaggedDocument(words=['stand-alone', 'motivating', 'moratorium'], tags=[291]),\n",
       " TaggedDocument(words=['fully-configurable', 'eco-centric', 'frame'], tags=[292]),\n",
       " TaggedDocument(words=['right-sized', 'asynchronous', 'website'], tags=[293]),\n",
       " TaggedDocument(words=['business-focused', 'responsive', 'website'], tags=[294]),\n",
       " TaggedDocument(words=['team-oriented', 'executive', 'core'], tags=[295]),\n",
       " TaggedDocument(words=['inverse', 'bi-directional', 'knowledge', 'user'], tags=[296]),\n",
       " TaggedDocument(words=['phased', 'fault-tolerant', 'definition'], tags=[297]),\n",
       " TaggedDocument(words=['phased', 'clear-thinking', 'encoding'], tags=[298]),\n",
       " TaggedDocument(words=['synergized', 'well-modulated', 'graphical', 'user', 'interface'], tags=[299]),\n",
       " TaggedDocument(words=['secured', 'upward-trending', 'benchmark'], tags=[300]),\n",
       " TaggedDocument(words=['reverse-engineered', 'context-sensitive', 'emulation'], tags=[301]),\n",
       " TaggedDocument(words=['operative', 'stable', 'moderator'], tags=[302]),\n",
       " TaggedDocument(words=['future-proofed', 'stable', 'function'], tags=[303]),\n",
       " TaggedDocument(words=['multi-lateral', 'empowering', 'throughput'], tags=[304]),\n",
       " TaggedDocument(words=['versatile', 'local', 'forecast'], tags=[305]),\n",
       " TaggedDocument(words=['vision-oriented', 'system-worthy', 'forecast'], tags=[306]),\n",
       " TaggedDocument(words=['realigned', 'next', 'generation', 'projection'], tags=[307]),\n",
       " TaggedDocument(words=['exclusive', 'multi-state', 'internet', 'solution'], tags=[308]),\n",
       " TaggedDocument(words=['realigned', 'intermediate', 'application'], tags=[309]),\n",
       " TaggedDocument(words=['cross-group', 'regional', 'website'], tags=[310]),\n",
       " TaggedDocument(words=['diverse', 'multi-tasking', 'parallelism'], tags=[311]),\n",
       " TaggedDocument(words=['organic', 'leadingedge', 'secured', 'line'], tags=[312]),\n",
       " TaggedDocument(words=['robust', 'dedicated', 'system', 'engine'], tags=[313]),\n",
       " TaggedDocument(words=['focused', 'high-level', 'frame'], tags=[314]),\n",
       " TaggedDocument(words=['visionary', 'mission-critical', 'application'], tags=[315]),\n",
       " TaggedDocument(words=['customizable', 'executive', 'software'], tags=[316]),\n",
       " TaggedDocument(words=['universal', 'contextually-based', 'system', 'engine'], tags=[317]),\n",
       " TaggedDocument(words=['advanced', 'systemic', 'productivity'], tags=[318]),\n",
       " TaggedDocument(words=['profound', 'dynamic', 'attitude'], tags=[319]),\n",
       " TaggedDocument(words=['diverse', 'background', 'ability'], tags=[320]),\n",
       " TaggedDocument(words=['fundamental', 'zero', 'tolerance', 'solution'], tags=[321]),\n",
       " TaggedDocument(words=['assimilated', 'next', 'generation', 'firmware'], tags=[322]),\n",
       " TaggedDocument(words=['upgradable', 'even-keeled', 'challenge'], tags=[323]),\n",
       " TaggedDocument(words=['fully-configurable', 'systemic', 'productivity'], tags=[324]),\n",
       " TaggedDocument(words=['versatile', 'next', 'generation', 'pricing', 'structure'], tags=[325]),\n",
       " TaggedDocument(words=['quality-focused', 'scalable', 'utilization'], tags=[326]),\n",
       " TaggedDocument(words=['proactive', '5thgeneration', 'frame'], tags=[327]),\n",
       " TaggedDocument(words=['upgradable', 'asymmetric', 'emulation'], tags=[328]),\n",
       " TaggedDocument(words=['pre-emptive', 'content-based', 'focus', 'group'], tags=[329]),\n",
       " TaggedDocument(words=['grass-roots', 'multimedia', 'policy'], tags=[330]),\n",
       " TaggedDocument(words=['seamless', 'composite', 'budgetary', 'management'], tags=[331]),\n",
       " TaggedDocument(words=['synchronized', 'leadingedge', 'help-desk'], tags=[332]),\n",
       " TaggedDocument(words=['stand-alone', 'background', 'open', 'system'], tags=[333]),\n",
       " TaggedDocument(words=['multi-channeled', 'scalable', 'moratorium'], tags=[334]),\n",
       " TaggedDocument(words=['implemented', 'uniform', 'synergy'], tags=[335]),\n",
       " TaggedDocument(words=['cloned', '5thgeneration', 'orchestration'], tags=[336]),\n",
       " TaggedDocument(words=['exclusive', 'systematic', 'algorithm'], tags=[337]),\n",
       " TaggedDocument(words=['robust', 'uniform', 'framework'], tags=[338]),\n",
       " TaggedDocument(words=['ergonomic', 'zero', 'tolerance', 'encoding'], tags=[339]),\n",
       " TaggedDocument(words=['realigned', 'intangible', 'benchmark'], tags=[340]),\n",
       " TaggedDocument(words=['fundamental', 'tangible', 'moratorium'], tags=[341]),\n",
       " TaggedDocument(words=['profit-focused', 'secondary', 'portal'], tags=[342]),\n",
       " TaggedDocument(words=['face-to-face', 'analyzing', 'encryption'], tags=[343]),\n",
       " TaggedDocument(words=['decentralized', 'bottom-line', 'help-desk'], tags=[344]),\n",
       " TaggedDocument(words=['optional', 'modular', 'throughput'], tags=[345]),\n",
       " TaggedDocument(words=['optimized', 'coherent', 'internet', 'solution'], tags=[346]),\n",
       " TaggedDocument(words=['reverse-engineered', 'dynamic', 'function'], tags=[347]),\n",
       " TaggedDocument(words=['ameliorated', 'coherent', 'open', 'architecture'], tags=[348]),\n",
       " TaggedDocument(words=['distributed', 'fault-tolerant', 'service-desk'], tags=[349]),\n",
       " TaggedDocument(words=['cross-group', 'human-resource', 'time-frame'], tags=[350]),\n",
       " TaggedDocument(words=['vision-oriented', 'next', 'generation', 'solution'], tags=[351]),\n",
       " TaggedDocument(words=['monitored', 'context-sensitive', 'initiative'], tags=[352]),\n",
       " TaggedDocument(words=['open-source', '5thgeneration', 'leverage'], tags=[353]),\n",
       " TaggedDocument(words=['versatile', 'scalable', 'encryption'], tags=[354]),\n",
       " TaggedDocument(words=['fully-configurable', 'asynchronous', 'firmware'], tags=[355]),\n",
       " TaggedDocument(words=['automated', 'multi-state', 'toolset'], tags=[356]),\n",
       " TaggedDocument(words=['proactive', 'next', 'generation', 'knowledge', 'user'], tags=[357]),\n",
       " TaggedDocument(words=['realigned', 'scalable', 'standardization'], tags=[358]),\n",
       " TaggedDocument(words=['mandatory', 'dedicated', 'data-warehouse'], tags=[359]),\n",
       " TaggedDocument(words=['optional', 'regional', 'throughput'], tags=[360]),\n",
       " TaggedDocument(words=['realigned', '24/7', 'core'], tags=[361]),\n",
       " TaggedDocument(words=['configurable', 'impactful', 'capacity'], tags=[362]),\n",
       " TaggedDocument(words=['polarized', 'dynamic', 'throughput'], tags=[363]),\n",
       " TaggedDocument(words=['business-focused', 'encompassing', 'neural-net'], tags=[364]),\n",
       " TaggedDocument(words=['re-engineered', 'exuding', 'frame'], tags=[365]),\n",
       " TaggedDocument(words=['business-focused', 'asynchronous', 'budgetary', 'management'], tags=[366]),\n",
       " TaggedDocument(words=['advanced', '24/7', 'productivity'], tags=[367]),\n",
       " TaggedDocument(words=['versatile', '6thgeneration', 'parallelism'], tags=[368]),\n",
       " TaggedDocument(words=['visionary', 'client-driven', 'installation'], tags=[369]),\n",
       " TaggedDocument(words=['devolved', 'human-resource', 'circuit'], tags=[370]),\n",
       " TaggedDocument(words=['front-line', 'systemic', 'capability'], tags=[371]),\n",
       " TaggedDocument(words=['face-to-face', 'methodical', 'intranet'], tags=[372]),\n",
       " TaggedDocument(words=['ameliorated', 'local', 'workforce'], tags=[373]),\n",
       " TaggedDocument(words=['proactive', 'actuating', 'graphical', 'user', 'interface'], tags=[374]),\n",
       " TaggedDocument(words=['realigned', '24/7', 'core'], tags=[375]),\n",
       " TaggedDocument(words=['multi-channeled', 'asynchronous', 'open', 'system'], tags=[376]),\n",
       " TaggedDocument(words=['automated', 'directional', 'function'], tags=[377]),\n",
       " TaggedDocument(words=['public-key', 'disintermediate', 'emulation'], tags=[378]),\n",
       " TaggedDocument(words=['virtual', 'impactful', 'algorithm'], tags=[379]),\n",
       " TaggedDocument(words=['configurable', 'impactful', 'firmware'], tags=[380]),\n",
       " TaggedDocument(words=['synergized', 'context-sensitive', 'database'], tags=[381]),\n",
       " TaggedDocument(words=['profound', 'well-modulated', 'array'], tags=[382]),\n",
       " TaggedDocument(words=['assimilated', 'hybrid', 'initiative'], tags=[383]),\n",
       " TaggedDocument(words=['horizontal', 'global', 'leverage'], tags=[384]),\n",
       " TaggedDocument(words=['phased', 'leadingedge', 'budgetary', 'management'], tags=[385]),\n",
       " TaggedDocument(words=['streamlined', 'exuding', 'adapter'], tags=[386]),\n",
       " TaggedDocument(words=['intuitive', 'fresh-thinking', 'moderator'], tags=[387]),\n",
       " TaggedDocument(words=['horizontal', 'multi-state', 'interface'], tags=[388]),\n",
       " TaggedDocument(words=['future-proofed', 'holistic', 'superstructure'], tags=[389]),\n",
       " TaggedDocument(words=['digitized', 'content-based', 'circuit'], tags=[390]),\n",
       " TaggedDocument(words=['exclusive', 'client-driven', 'model'], tags=[391]),\n",
       " TaggedDocument(words=['multi-layered', 'fresh-thinking', 'process', 'improvement'], tags=[392]),\n",
       " TaggedDocument(words=['front-line', 'systemic', 'capability'], tags=[393]),\n",
       " TaggedDocument(words=['upgradable', 'even-keeled', 'hardware'], tags=[394]),\n",
       " TaggedDocument(words=['face-to-face', 'analyzing', 'encryption'], tags=[395]),\n",
       " TaggedDocument(words=['sharable', 'multimedia', 'conglomeration'], tags=[396]),\n",
       " TaggedDocument(words=['digitized', 'static', 'capability'], tags=[397]),\n",
       " TaggedDocument(words=['customizable', 'holistic', 'archive'], tags=[398]),\n",
       " TaggedDocument(words=['sharable', 'analyzing', 'alliance'], tags=[399]),\n",
       " TaggedDocument(words=['reverse-engineered', 'content-based', 'intranet'], tags=[400]),\n",
       " TaggedDocument(words=['optimized', 'coherent', 'internet', 'solution'], tags=[401]),\n",
       " TaggedDocument(words=['optional', 'mission-critical', 'functionalities'], tags=[402]),\n",
       " TaggedDocument(words=['synchronized', 'stable', 'complexity'], tags=[403]),\n",
       " TaggedDocument(words=['front-line', 'methodical', 'utilization'], tags=[404]),\n",
       " TaggedDocument(words=['team-oriented', '6thgeneration', 'extranet'], tags=[405]),\n",
       " TaggedDocument(words=['vision-oriented', 'human-resource', 'synergy'], tags=[406]),\n",
       " TaggedDocument(words=['organized', 'demand-driven', 'knowledgebase'], tags=[407]),\n",
       " TaggedDocument(words=['streamlined', 'homogeneous', 'analyzer'], tags=[408]),\n",
       " TaggedDocument(words=['ameliorated', 'discrete', 'extranet'], tags=[409]),\n",
       " TaggedDocument(words=['reduced', 'incremental', 'productivity'], tags=[410]),\n",
       " TaggedDocument(words=['visionary', 'analyzing', 'structure'], tags=[411]),\n",
       " TaggedDocument(words=['compatible', 'scalable', 'emulation'], tags=[412]),\n",
       " TaggedDocument(words=['managed', 'upward-trending', 'instruction', 'set'], tags=[413]),\n",
       " TaggedDocument(words=['intuitive', 'zero', 'administration', 'adapter'], tags=[414]),\n",
       " TaggedDocument(words=['advanced', 'heuristic', 'firmware'], tags=[415]),\n",
       " TaggedDocument(words=['quality-focused', '5thgeneration', 'orchestration'], tags=[416]),\n",
       " TaggedDocument(words=['reactive', 'upward-trending', 'migration'], tags=[417]),\n",
       " TaggedDocument(words=['robust', 'holistic', 'application'], tags=[418]),\n",
       " TaggedDocument(words=['synergistic', 'non-volatile', 'analyzer'], tags=[419]),\n",
       " TaggedDocument(words=['fully-configurable', '5thgeneration', 'circuit'], tags=[420]),\n",
       " TaggedDocument(words=['proactive', 'non-volatile', 'encryption'], tags=[421]),\n",
       " TaggedDocument(words=['extended', 'leadingedge', 'solution'], tags=[422]),\n",
       " TaggedDocument(words=['upgradable', '4thgeneration', 'portal'], tags=[423]),\n",
       " TaggedDocument(words=['cloned', 'explicit', 'middleware'], tags=[424]),\n",
       " TaggedDocument(words=['reactive', 'local', 'challenge'], tags=[425]),\n",
       " TaggedDocument(words=['synergistic', 'discrete', 'middleware'], tags=[426]),\n",
       " TaggedDocument(words=['ameliorated', 'upward-trending', 'definition'], tags=[427]),\n",
       " TaggedDocument(words=['profound', 'explicit', 'hardware'], tags=[428]),\n",
       " TaggedDocument(words=['ergonomic', 'neutral', 'portal'], tags=[429]),\n",
       " TaggedDocument(words=['self-enabling', 'holistic', 'process', 'improvement'], tags=[430]),\n",
       " TaggedDocument(words=['secured', 'intermediate', 'approach'], tags=[431]),\n",
       " TaggedDocument(words=['de-engineered', 'object-oriented', 'protocol'], tags=[432]),\n",
       " TaggedDocument(words=['pre-emptive', 'next', 'generation', 'internet', 'solution'], tags=[433]),\n",
       " TaggedDocument(words=['networked', 'stable', 'open', 'architecture'], tags=[434]),\n",
       " TaggedDocument(words=['ergonomic', 'client-driven', 'application'], tags=[435]),\n",
       " TaggedDocument(words=['business-focused', 'high-level', 'hardware'], tags=[436]),\n",
       " TaggedDocument(words=['networked', 'regional', 'local', 'area', 'network'], tags=[437]),\n",
       " TaggedDocument(words=['balanced', 'asynchronous', 'hierarchy'], tags=[438]),\n",
       " TaggedDocument(words=['object-based', 'system-worthy', 'superstructure'], tags=[439]),\n",
       " TaggedDocument(words=['grass-roots', 'mission-critical', 'emulation'], tags=[440]),\n",
       " TaggedDocument(words=['persistent', 'demand-driven', 'interface'], tags=[441]),\n",
       " TaggedDocument(words=['automated', 'stable', 'help-desk'], tags=[442]),\n",
       " TaggedDocument(words=['total', 'bi-directional', 'success'], tags=[443]),\n",
       " TaggedDocument(words=['universal', 'asymmetric', 'workforce'], tags=[444]),\n",
       " TaggedDocument(words=['stand-alone', 'national', 'attitude'], tags=[445]),\n",
       " TaggedDocument(words=['operative', 'system-worthy', 'protocol'], tags=[446]),\n",
       " TaggedDocument(words=['triple-buffered', '3rdgeneration', 'migration'], tags=[447]),\n",
       " TaggedDocument(words=['realigned', 'reciprocal', 'framework'], tags=[448]),\n",
       " TaggedDocument(words=['operative', 'actuating', 'installation'], tags=[449]),\n",
       " TaggedDocument(words=['business-focused', 'holistic', 'benchmark'], tags=[450]),\n",
       " TaggedDocument(words=['operative', 'full-range', 'forecast'], tags=[451]),\n",
       " TaggedDocument(words=['team-oriented', 'dynamic', 'forecast'], tags=[452]),\n",
       " TaggedDocument(words=['focused', '3rdgeneration', 'pricing', 'structure'], tags=[453]),\n",
       " TaggedDocument(words=['seamless', 'optimal', 'contingency'], tags=[454]),\n",
       " TaggedDocument(words=['upgradable', 'optimizing', 'toolset'], tags=[455]),\n",
       " TaggedDocument(words=['monitored', 'explicit', 'hierarchy'], tags=[456]),\n",
       " TaggedDocument(words=['intuitive', 'exuding', 'service-desk'], tags=[457]),\n",
       " TaggedDocument(words=['decentralized', 'methodical', 'capability'], tags=[458]),\n",
       " TaggedDocument(words=['phased', 'hybrid', 'intranet'], tags=[459]),\n",
       " TaggedDocument(words=['intuitive', 'modular', 'system', 'engine'], tags=[460]),\n",
       " TaggedDocument(words=['down-sized', 'background', 'groupware'], tags=[461]),\n",
       " TaggedDocument(words=['extended', 'analyzing', 'emulation'], tags=[462]),\n",
       " TaggedDocument(words=['open-architected', 'zero', 'administration', 'secured', 'line'], tags=[463]),\n",
       " TaggedDocument(words=['ergonomic', 'client-driven', 'application'], tags=[464]),\n",
       " TaggedDocument(words=['polarized', 'multimedia', 'system', 'engine'], tags=[465]),\n",
       " TaggedDocument(words=['cross-group', 'systemic', 'customer', 'loyalty'], tags=[466]),\n",
       " TaggedDocument(words=['decentralized', 'attitude-oriented', 'interface'], tags=[467]),\n",
       " TaggedDocument(words=['programmable', 'didactic', 'capacity'], tags=[468]),\n",
       " TaggedDocument(words=['exclusive', 'disintermediate', 'internet', 'solution'], tags=[469]),\n",
       " TaggedDocument(words=['enhanced', 'zero', 'tolerance', 'graphic', 'interface'], tags=[470]),\n",
       " TaggedDocument(words=['open-source', 'local', 'approach'], tags=[471]),\n",
       " TaggedDocument(words=['organic', 'bottom-line', 'service-desk'], tags=[472]),\n",
       " TaggedDocument(words=['assimilated', 'actuating', 'policy'], tags=[473]),\n",
       " TaggedDocument(words=['configurable', 'impactful', 'productivity'], tags=[474]),\n",
       " TaggedDocument(words=['extended', 'systemic', 'policy'], tags=[475]),\n",
       " TaggedDocument(words=['polarized', 'tangible', 'collaboration'], tags=[476]),\n",
       " TaggedDocument(words=['progressive', '24hour', 'forecast'], tags=[477]),\n",
       " TaggedDocument(words=['phased', 'dynamic', 'customer', 'loyalty'], tags=[478]),\n",
       " TaggedDocument(words=['synchronized', 'dedicated', 'service-desk'], tags=[479]),\n",
       " TaggedDocument(words=['diverse', 'executive', 'groupware'], tags=[480]),\n",
       " TaggedDocument(words=['optimized', 'attitude-oriented', 'initiative'], tags=[481]),\n",
       " TaggedDocument(words=['configurable', 'dynamic', 'adapter'], tags=[482]),\n",
       " TaggedDocument(words=['user-friendly', 'upward-trending', 'intranet'], tags=[483]),\n",
       " TaggedDocument(words=['exclusive', 'zero', 'tolerance', 'frame'], tags=[484]),\n",
       " TaggedDocument(words=['fully-configurable', 'high-level', 'groupware'], tags=[485]),\n",
       " TaggedDocument(words=['decentralized', 'needs-based', 'analyzer'], tags=[486]),\n",
       " TaggedDocument(words=['distributed', 'tertiary', 'system', 'engine'], tags=[487]),\n",
       " TaggedDocument(words=['customizable', 'mission-critical', 'adapter'], tags=[488]),\n",
       " TaggedDocument(words=['virtual', 'executive', 'implementation'], tags=[489]),\n",
       " TaggedDocument(words=['pre-emptive', 'well-modulated', 'moderator'], tags=[490]),\n",
       " TaggedDocument(words=['front-line', 'bandwidth-monitored', 'capacity'], tags=[491]),\n",
       " TaggedDocument(words=['pre-emptive', 'zero', 'tolerance', 'local', 'area', 'network'], tags=[492]),\n",
       " TaggedDocument(words=['stand-alone', 'reciprocal', 'synergy'], tags=[493]),\n",
       " TaggedDocument(words=['digitized', 'radical', 'array'], tags=[494]),\n",
       " TaggedDocument(words=['centralized', 'neutral', 'neural-net'], tags=[495]),\n",
       " TaggedDocument(words=['pre-emptive', 'content-based', 'frame'], tags=[496]),\n",
       " TaggedDocument(words=['intuitive', 'dynamic', 'attitude'], tags=[497]),\n",
       " TaggedDocument(words=['robust', 'transitional', 'ability'], tags=[498]),\n",
       " TaggedDocument(words=['fully-configurable', 'clear-thinking', 'throughput'], tags=[499]),\n",
       " TaggedDocument(words=['optimized', 'upward-trending', 'productivity'], tags=[500]),\n",
       " TaggedDocument(words=['balanced', 'mobile', 'local', 'area', 'network'], tags=[501]),\n",
       " TaggedDocument(words=['multi-channeled', 'mission-critical', 'success'], tags=[502]),\n",
       " TaggedDocument(words=['universal', 'contextually-based', 'system', 'engine'], tags=[503]),\n",
       " TaggedDocument(words=['managed', '24hour', 'analyzer'], tags=[504]),\n",
       " TaggedDocument(words=['devolved', 'regional', 'moderator'], tags=[505]),\n",
       " TaggedDocument(words=['re-engineered', 'intangible', 'software'], tags=[506]),\n",
       " TaggedDocument(words=['streamlined', 'non-volatile', 'analyzer'], tags=[507]),\n",
       " TaggedDocument(words=['upgradable', 'asymmetric', 'emulation'], tags=[508]),\n",
       " TaggedDocument(words=['expanded', 'radical', 'software'], tags=[509]),\n",
       " TaggedDocument(words=['organic', '3rdgeneration', 'encryption'], tags=[510]),\n",
       " TaggedDocument(words=['function-based', 'fault-tolerant', 'model'], tags=[511]),\n",
       " TaggedDocument(words=['versatile', 'solution-oriented', 'secured', 'line'], tags=[512]),\n",
       " TaggedDocument(words=['adaptive', 'demand-driven', 'knowledgebase'], tags=[513]),\n",
       " TaggedDocument(words=['digitized', 'interactive', 'initiative'], tags=[514]),\n",
       " TaggedDocument(words=['progressive', 'uniform', 'budgetary', 'management'], tags=[515]),\n",
       " TaggedDocument(words=['innovative', 'maximized', 'groupware'], tags=[516]),\n",
       " TaggedDocument(words=['secured', 'clear-thinking', 'middleware'], tags=[517]),\n",
       " TaggedDocument(words=['innovative', 'maximized', 'groupware'], tags=[518]),\n",
       " TaggedDocument(words=['cross-platform', '4thgeneration', 'focus', 'group'], tags=[519]),\n",
       " TaggedDocument(words=['secured', 'encompassing', 'graphical', 'user', 'interface'], tags=[520]),\n",
       " TaggedDocument(words=['multi-tiered', 'heuristic', 'strategy'], tags=[521]),\n",
       " TaggedDocument(words=['pre-emptive', 'transitional', 'protocol'], tags=[522]),\n",
       " TaggedDocument(words=['upgradable', 'local', 'migration'], tags=[523]),\n",
       " TaggedDocument(words=['sharable', 'upward-trending', 'support'], tags=[524]),\n",
       " TaggedDocument(words=['up-sized', 'bifurcated', 'capability'], tags=[525]),\n",
       " TaggedDocument(words=['enhanced', 'optimizing', 'website'], tags=[526]),\n",
       " TaggedDocument(words=['re-contextualized', 'optimal', 'service-desk'], tags=[527]),\n",
       " TaggedDocument(words=['mandatory', '3rdgeneration', 'moderator'], tags=[528]),\n",
       " TaggedDocument(words=['object-based', 'executive', 'productivity'], tags=[529]),\n",
       " TaggedDocument(words=['cross-group', 'non-volatile', 'secured', 'line'], tags=[530]),\n",
       " TaggedDocument(words=['digitized', 'disintermediate', 'ability'], tags=[531]),\n",
       " TaggedDocument(words=['inverse', 'national', 'core'], tags=[532]),\n",
       " TaggedDocument(words=['robust', 'context-sensitive', 'neural-net'], tags=[533]),\n",
       " TaggedDocument(words=['multi-tiered', 'maximized', 'archive'], tags=[534]),\n",
       " TaggedDocument(words=['re-engineered', 'impactful', 'software'], tags=[535]),\n",
       " TaggedDocument(words=['future-proofed', 'methodical', 'protocol'], tags=[536]),\n",
       " TaggedDocument(words=['open-architected', 'full-range', 'projection'], tags=[537]),\n",
       " TaggedDocument(words=['polarized', 'bifurcated', 'array'], tags=[538]),\n",
       " TaggedDocument(words=['configurable', 'tertiary', 'capability'], tags=[539]),\n",
       " TaggedDocument(words=['ameliorated', 'exuding', 'solution'], tags=[540]),\n",
       " TaggedDocument(words=['exclusive', 'even-keeled', 'moratorium'], tags=[541]),\n",
       " TaggedDocument(words=['synergistic', 'fresh-thinking', 'array'], tags=[542]),\n",
       " TaggedDocument(words=['proactive', 'bandwidth-monitored', 'policy'], tags=[543]),\n",
       " TaggedDocument(words=['secured', 'secondary', 'superstructure'], tags=[544]),\n",
       " TaggedDocument(words=['function-based', 'context-sensitive', 'secured', 'line'], tags=[545]),\n",
       " TaggedDocument(words=['automated', 'object-oriented', 'firmware'], tags=[546]),\n",
       " TaggedDocument(words=['proactive', 'next', 'generation', 'knowledge', 'user'], tags=[547]),\n",
       " TaggedDocument(words=['cloned', 'object-oriented', 'benchmark'], tags=[548]),\n",
       " TaggedDocument(words=['grass-roots', 'coherent', 'extranet'], tags=[549]),\n",
       " TaggedDocument(words=['profound', 'bottom-line', 'standardization'], tags=[550]),\n",
       " TaggedDocument(words=['pre-emptive', 'neutral', 'contingency'], tags=[551]),\n",
       " TaggedDocument(words=['front-line', 'fault-tolerant', 'intranet'], tags=[552]),\n",
       " TaggedDocument(words=['diverse', 'directional', 'hardware'], tags=[553]),\n",
       " TaggedDocument(words=['public-key', 'asynchronous', 'matrix'], tags=[554]),\n",
       " TaggedDocument(words=['advanced', 'disintermediate', 'data-warehouse'], tags=[555]),\n",
       " TaggedDocument(words=['proactive', 'asymmetric', 'definition'], tags=[556]),\n",
       " TaggedDocument(words=['stand-alone', 'explicit', 'orchestration'], tags=[557]),\n",
       " TaggedDocument(words=['organic', 'interactive', 'support'], tags=[558]),\n",
       " TaggedDocument(words=['progressive', 'uniform', 'budgetary', 'management'], tags=[559]),\n",
       " TaggedDocument(words=['user-centric', 'composite', 'contingency'], tags=[560]),\n",
       " TaggedDocument(words=['open-source', 'stable', 'paradigm'], tags=[561]),\n",
       " TaggedDocument(words=['vision-oriented', 'bifurcated', 'contingency'], tags=[562]),\n",
       " TaggedDocument(words=['re-engineered', 'responsive', 'definition'], tags=[563]),\n",
       " TaggedDocument(words=['cloned', '5thgeneration', 'orchestration'], tags=[564]),\n",
       " TaggedDocument(words=['exclusive', 'client-driven', 'model'], tags=[565]),\n",
       " TaggedDocument(words=['customer-focused', 'incremental', 'system', 'engine'], tags=[566]),\n",
       " TaggedDocument(words=['intuitive', 'radical', 'forecast'], tags=[567]),\n",
       " TaggedDocument(words=['synergized', 'clear-thinking', 'protocol'], tags=[568]),\n",
       " TaggedDocument(words=['synergistic', 'non-volatile', 'analyzer'], tags=[569]),\n",
       " TaggedDocument(words=['adaptive', 'context-sensitive', 'application'], tags=[570]),\n",
       " TaggedDocument(words=['enhanced', 'maximized', 'access'], tags=[571]),\n",
       " TaggedDocument(words=['extended', 'interactive', 'model'], tags=[572]),\n",
       " TaggedDocument(words=['inverse', 'zero-defect', 'capability'], tags=[573]),\n",
       " TaggedDocument(words=['customer-focused', '24/7', 'concept'], tags=[574]),\n",
       " TaggedDocument(words=['focused', 'multi-state', 'workforce'], tags=[575]),\n",
       " TaggedDocument(words=['up-sized', 'secondary', 'software'], tags=[576]),\n",
       " TaggedDocument(words=['configurable', 'interactive', 'contingency'], tags=[577]),\n",
       " TaggedDocument(words=['customer-focused', 'full-range', 'neural-net'], tags=[578]),\n",
       " TaggedDocument(words=['vision-oriented', 'multi-tasking', 'success'], tags=[579]),\n",
       " TaggedDocument(words=['extended', 'grid-enabled', 'hierarchy'], tags=[580]),\n",
       " TaggedDocument(words=['synchronized', 'dedicated', 'service-desk'], tags=[581]),\n",
       " TaggedDocument(words=['total', 'local', 'synergy'], tags=[582]),\n",
       " TaggedDocument(words=['object-based', 'motivating', 'instruction', 'set'], tags=[583]),\n",
       " TaggedDocument(words=['open-architected', 'system-worthy', 'task-force'], tags=[584]),\n",
       " TaggedDocument(words=['balanced', 'responsive', 'open', 'system'], tags=[585]),\n",
       " TaggedDocument(words=['switchable', 'secondary', 'ability'], tags=[586]),\n",
       " TaggedDocument(words=['managed', 'eco-centric', 'encoding'], tags=[587]),\n",
       " TaggedDocument(words=['seamless', 'holistic', 'time-frame'], tags=[588]),\n",
       " TaggedDocument(words=['compatible', 'intermediate', 'concept'], tags=[589]),\n",
       " TaggedDocument(words=['expanded', 'clear-thinking', 'core'], tags=[590]),\n",
       " TaggedDocument(words=['versatile', 'dedicated', 'software'], tags=[591]),\n",
       " TaggedDocument(words=['re-engineered', 'zero-defect', 'open', 'architecture'], tags=[592]),\n",
       " TaggedDocument(words=['focused', 'scalable', 'complexity'], tags=[593]),\n",
       " TaggedDocument(words=['reduced', 'holistic', 'help-desk'], tags=[594]),\n",
       " TaggedDocument(words=['right-sized', 'solution-oriented', 'benchmark'], tags=[595]),\n",
       " TaggedDocument(words=['focused', 'upward-trending', 'core'], tags=[596]),\n",
       " TaggedDocument(words=['fundamental', 'methodical', 'support'], tags=[597]),\n",
       " TaggedDocument(words=['team-oriented', 'executive', 'core'], tags=[598]),\n",
       " TaggedDocument(words=['ameliorated', 'client-driven', 'forecast'], tags=[599]),\n",
       " TaggedDocument(words=['re-engineered', 'composite', 'moratorium'], tags=[600]),\n",
       " TaggedDocument(words=['user-centric', 'intangible', 'contingency'], tags=[601]),\n",
       " TaggedDocument(words=['seamless', 'object-oriented', 'structure'], tags=[602]),\n",
       " TaggedDocument(words=['customer-focused', 'upward-trending', 'contingency'], tags=[603]),\n",
       " TaggedDocument(words=['versatile', 'responsive', 'knowledge', 'user'], tags=[604]),\n",
       " TaggedDocument(words=['polarized', 'bandwidth-monitored', 'moratorium'], tags=[605]),\n",
       " TaggedDocument(words=['managed', 'upward-trending', 'instruction', 'set'], tags=[606]),\n",
       " TaggedDocument(words=['distributed', 'maximized', 'ability'], tags=[607]),\n",
       " TaggedDocument(words=['future-proofed', 'coherent', 'hardware'], tags=[608]),\n",
       " TaggedDocument(words=['multi-layered', 'user-facing', 'parallelism'], tags=[609]),\n",
       " TaggedDocument(words=['monitored', 'national', 'standardization'], tags=[610]),\n",
       " TaggedDocument(words=['front-line', 'bifurcated', 'ability'], tags=[611]),\n",
       " TaggedDocument(words=['organized', 'static', 'focus', 'group'], tags=[612]),\n",
       " TaggedDocument(words=['self-enabling', 'even-keeled', 'methodology'], tags=[613]),\n",
       " TaggedDocument(words=['sharable', 'value-added', 'solution'], tags=[614]),\n",
       " TaggedDocument(words=['front-line', 'methodical', 'utilization'], tags=[615]),\n",
       " TaggedDocument(words=['seamless', 'bandwidth-monitored', 'knowledge', 'user'], tags=[616]),\n",
       " TaggedDocument(words=['cross-group', 'value-added', 'success'], tags=[617]),\n",
       " TaggedDocument(words=['managed', 'client-server', 'access'], tags=[618]),\n",
       " TaggedDocument(words=['customizable', 'value-added', 'project'], tags=[619]),\n",
       " TaggedDocument(words=['centralized', 'systematic', 'knowledgebase'], tags=[620]),\n",
       " TaggedDocument(words=['up-sized', 'next', 'generation', 'architecture'], tags=[621]),\n",
       " TaggedDocument(words=['ergonomic', 'methodical', 'encoding'], tags=[622]),\n",
       " TaggedDocument(words=['customer-focused', 'impactful', 'success'], tags=[623]),\n",
       " TaggedDocument(words=['integrated', 'interactive', 'support'], tags=[624]),\n",
       " TaggedDocument(words=['managed', 'national', 'hardware'], tags=[625]),\n",
       " TaggedDocument(words=['multi-tiered', 'stable', 'leverage'], tags=[626]),\n",
       " TaggedDocument(words=['future-proofed', 'coherent', 'budgetary', 'management'], tags=[627]),\n",
       " TaggedDocument(words=['customizable', '6thgeneration', 'knowledge', 'user'], tags=[628]),\n",
       " TaggedDocument(words=['centralized', 'asynchronous', 'portal'], tags=[629]),\n",
       " TaggedDocument(words=['synchronized', 'human-resource', 'moderator'], tags=[630]),\n",
       " TaggedDocument(words=['face-to-face', 'multimedia', 'success'], tags=[631]),\n",
       " TaggedDocument(words=['networked', 'impactful', 'framework'], tags=[632]),\n",
       " TaggedDocument(words=['advanced', 'local', 'task-force'], tags=[633]),\n",
       " TaggedDocument(words=['sharable', 'bottom-line', 'solution'], tags=[634]),\n",
       " TaggedDocument(words=['cross-platform', 'logistical', 'pricing', 'structure'], tags=[635]),\n",
       " TaggedDocument(words=['vision-oriented', 'asynchronous', 'internet', 'solution'], tags=[636]),\n",
       " TaggedDocument(words=['profound', 'stable', 'product'], tags=[637]),\n",
       " TaggedDocument(words=['self-enabling', 'holistic', 'process', 'improvement'], tags=[638]),\n",
       " TaggedDocument(words=['ameliorated', 'leadingedge', 'help-desk'], tags=[639]),\n",
       " TaggedDocument(words=['decentralized', 'client-driven', 'data-warehouse'], tags=[640]),\n",
       " TaggedDocument(words=['cross-platform', 'regional', 'task-force'], tags=[641]),\n",
       " TaggedDocument(words=['inverse', 'stable', 'synergy'], tags=[642]),\n",
       " TaggedDocument(words=['open-source', 'scalable', 'protocol'], tags=[643]),\n",
       " TaggedDocument(words=['fully-configurable', 'holistic', 'throughput'], tags=[644]),\n",
       " TaggedDocument(words=['customizable', 'zero-defect', 'internet', 'solution'], tags=[645]),\n",
       " TaggedDocument(words=['proactive', 'client-server', 'productivity'], tags=[646]),\n",
       " TaggedDocument(words=['optimized', '5thgeneration', 'moratorium'], tags=[647]),\n",
       " TaggedDocument(words=['user-friendly', 'well-modulated', 'leverage'], tags=[648]),\n",
       " TaggedDocument(words=['implemented', 'disintermediate', 'attitude'], tags=[649]),\n",
       " TaggedDocument(words=['organized', 'global', 'model'], tags=[650]),\n",
       " TaggedDocument(words=['ergonomic', 'full-range', 'time-frame'], tags=[651]),\n",
       " TaggedDocument(words=['horizontal', 'high-level', 'concept'], tags=[652]),\n",
       " TaggedDocument(words=['pre-emptive', 'client-driven', 'secured', 'line'], tags=[653]),\n",
       " TaggedDocument(words=['persevering', 'even-keeled', 'help-desk'], tags=[654]),\n",
       " TaggedDocument(words=['distributed', 'scalable', 'orchestration'], tags=[655]),\n",
       " TaggedDocument(words=['diverse', 'modular', 'interface'], tags=[656]),\n",
       " TaggedDocument(words=['synchronized', 'systemic', 'hierarchy'], tags=[657]),\n",
       " TaggedDocument(words=['stand-alone', 'logistical', 'service-desk'], tags=[658]),\n",
       " TaggedDocument(words=['synergistic', 'dynamic', 'orchestration'], tags=[659]),\n",
       " TaggedDocument(words=['adaptive', 'contextually-based', 'methodology'], tags=[660]),\n",
       " TaggedDocument(words=['configurable', 'bottom-line', 'application'], tags=[661]),\n",
       " TaggedDocument(words=['robust', 'context-sensitive', 'neural-net'], tags=[662]),\n",
       " TaggedDocument(words=['front-line', 'actuating', 'functionalities'], tags=[663]),\n",
       " TaggedDocument(words=['exclusive', 'disintermediate', 'internet', 'solution'], tags=[664]),\n",
       " TaggedDocument(words=['balanced', 'uniform', 'algorithm'], tags=[665]),\n",
       " TaggedDocument(words=['open-architected', 'impactful', 'productivity'], tags=[666]),\n",
       " TaggedDocument(words=['triple-buffered', 'systematic', 'info-mediaries'], tags=[667]),\n",
       " TaggedDocument(words=['enhanced', 'homogeneous', 'moderator'], tags=[668]),\n",
       " TaggedDocument(words=['progressive', '24/7', 'definition'], tags=[669]),\n",
       " TaggedDocument(words=['operative', 'multi-tasking', 'graphic', 'interface'], tags=[670]),\n",
       " TaggedDocument(words=['total', 'user-facing', 'hierarchy'], tags=[671]),\n",
       " TaggedDocument(words=['ergonomic', '24/7', 'solution'], tags=[672]),\n",
       " TaggedDocument(words=['fully-configurable', 'holistic', 'throughput'], tags=[673]),\n",
       " TaggedDocument(words=['ameliorated', 'upward-trending', 'definition'], tags=[674]),\n",
       " TaggedDocument(words=['customizable', 'tangible', 'hierarchy'], tags=[675]),\n",
       " TaggedDocument(words=['implemented', 'asynchronous', 'application'], tags=[676]),\n",
       " TaggedDocument(words=['vision-oriented', 'uniform', 'knowledgebase'], tags=[677]),\n",
       " TaggedDocument(words=['assimilated', 'encompassing', 'portal'], tags=[678]),\n",
       " TaggedDocument(words=['balanced', 'executive', 'definition'], tags=[679]),\n",
       " TaggedDocument(words=['centralized', 'user-facing', 'service-desk'], tags=[680]),\n",
       " TaggedDocument(words=['seamless', 'impactful', 'info-mediaries'], tags=[681]),\n",
       " TaggedDocument(words=['front-line', 'intermediate', 'database'], tags=[682]),\n",
       " TaggedDocument(words=['enhanced', 'system-worthy', 'application'], tags=[683]),\n",
       " TaggedDocument(words=['compatible', 'dedicated', 'productivity'], tags=[684]),\n",
       " TaggedDocument(words=['enhanced', 'system-worthy', 'toolset'], tags=[685]),\n",
       " TaggedDocument(words=['grass-roots', 'eco-centric', 'instruction', 'set'], tags=[686]),\n",
       " TaggedDocument(words=['inverse', 'discrete', 'extranet'], tags=[687]),\n",
       " TaggedDocument(words=['organized', 'empowering', 'policy'], tags=[688]),\n",
       " TaggedDocument(words=['enterprise-wide', 'local', 'matrices'], tags=[689]),\n",
       " TaggedDocument(words=['centralized', 'user-facing', 'service-desk'], tags=[690]),\n",
       " TaggedDocument(words=['open-source', 'optimizing', 'parallelism'], tags=[691]),\n",
       " TaggedDocument(words=['organized', 'demand-driven', 'knowledgebase'], tags=[692]),\n",
       " TaggedDocument(words=['proactive', 'radical', 'support'], tags=[693]),\n",
       " TaggedDocument(words=['reverse-engineered', 'well-modulated', 'capability'], tags=[694]),\n",
       " TaggedDocument(words=['ameliorated', 'tangible', 'hierarchy'], tags=[695]),\n",
       " TaggedDocument(words=['function-based', 'executive', 'moderator'], tags=[696]),\n",
       " TaggedDocument(words=['configurable', 'coherent', 'function'], tags=[697]),\n",
       " TaggedDocument(words=['progressive', 'clear-thinking', 'open', 'architecture'], tags=[698]),\n",
       " TaggedDocument(words=['cross-platform', 'regional', 'task-force'], tags=[699]),\n",
       " TaggedDocument(words=['stand-alone', 'eco-centric', 'system', 'engine'], tags=[700]),\n",
       " TaggedDocument(words=['re-engineered', 'neutral', 'success'], tags=[701]),\n",
       " TaggedDocument(words=['streamlined', 'next', 'generation', 'implementation'], tags=[702]),\n",
       " TaggedDocument(words=['versatile', 'homogeneous', 'capacity'], tags=[703]),\n",
       " TaggedDocument(words=['horizontal', 'national', 'architecture'], tags=[704]),\n",
       " TaggedDocument(words=['managed', 'attitude-oriented', 'internet', 'solution'], tags=[705]),\n",
       " TaggedDocument(words=['enterprise-wide', 'tangible', 'model'], tags=[706]),\n",
       " TaggedDocument(words=['open-source', 'global', 'strategy'], tags=[707]),\n",
       " TaggedDocument(words=['organic', 'next', 'generation', 'matrix'], tags=[708]),\n",
       " TaggedDocument(words=['synergistic', 'fresh-thinking', 'array'], tags=[709]),\n",
       " TaggedDocument(words=['horizontal', 'transitional', 'challenge'], tags=[710]),\n",
       " TaggedDocument(words=['seamless', '4thgeneration', 'contingency'], tags=[711]),\n",
       " TaggedDocument(words=['face-to-face', 'mission-critical', 'definition'], tags=[712]),\n",
       " TaggedDocument(words=['synergized', 'coherent', 'interface'], tags=[713]),\n",
       " TaggedDocument(words=['adaptive', 'uniform', 'capability'], tags=[714]),\n",
       " TaggedDocument(words=['customer-focused', 'explicit', 'challenge'], tags=[715]),\n",
       " TaggedDocument(words=['centralized', 'client-driven', 'workforce'], tags=[716]),\n",
       " TaggedDocument(words=['horizontal', 'content-based', 'synergy'], tags=[717]),\n",
       " TaggedDocument(words=['quality-focused', 'zero-defect', 'data-warehouse'], tags=[718]),\n",
       " TaggedDocument(words=['grass-roots', 'cohesive', 'monitoring'], tags=[719]),\n",
       " TaggedDocument(words=['organized', 'global', 'flexibility'], tags=[720]),\n",
       " TaggedDocument(words=['synchronized', 'multimedia', 'model'], tags=[721]),\n",
       " TaggedDocument(words=['balanced', 'discrete', 'approach'], tags=[722]),\n",
       " TaggedDocument(words=['synergized', 'multimedia', 'emulation'], tags=[723]),\n",
       " TaggedDocument(words=['inverse', 'zero', 'tolerance', 'customer', 'loyalty'], tags=[724]),\n",
       " TaggedDocument(words=['front-line', 'neutral', 'alliance'], tags=[725]),\n",
       " TaggedDocument(words=['persevering', 'needs-based', 'open', 'architecture'], tags=[726]),\n",
       " TaggedDocument(words=['upgradable', 'logistical', 'flexibility'], tags=[727]),\n",
       " TaggedDocument(words=['business-focused', 'real-time', 'toolset'], tags=[728]),\n",
       " TaggedDocument(words=['universal', 'bi-directional', 'extranet'], tags=[729]),\n",
       " TaggedDocument(words=['persevering', '5thgeneration', 'knowledge', 'user'], tags=[730]),\n",
       " TaggedDocument(words=['vision-oriented', 'methodical', 'support'], tags=[731]),\n",
       " TaggedDocument(words=['distributed', '3rdgeneration', 'definition'], tags=[732]),\n",
       " TaggedDocument(words=['integrated', 'interactive', 'support'], tags=[733]),\n",
       " TaggedDocument(words=['secured', 'encompassing', 'graphical', 'user', 'interface'], tags=[734]),\n",
       " TaggedDocument(words=['de-engineered', 'intangible', 'flexibility'], tags=[735]),\n",
       " TaggedDocument(words=['cross-platform', 'multimedia', 'algorithm'], tags=[736]),\n",
       " TaggedDocument(words=['vision-oriented', 'system-worthy', 'forecast'], tags=[737]),\n",
       " TaggedDocument(words=['vision-oriented', 'optimizing', 'middleware'], tags=[738]),\n",
       " TaggedDocument(words=['reverse-engineered', 'background', 'graphic', 'interface'], tags=[739]),\n",
       " TaggedDocument(words=['phased', 'zero', 'administration', 'success'], tags=[740]),\n",
       " TaggedDocument(words=['centralized', '24/7', 'installation'], tags=[741]),\n",
       " TaggedDocument(words=['pre-emptive', 'neutral', 'contingency'], tags=[742]),\n",
       " TaggedDocument(words=['optional', 'full-range', 'projection'], tags=[743]),\n",
       " TaggedDocument(words=['up-sized', 'intangible', 'circuit'], tags=[744]),\n",
       " TaggedDocument(words=['seamless', 'composite', 'budgetary', 'management'], tags=[745]),\n",
       " TaggedDocument(words=['integrated', 'grid-enabled', 'budgetary', 'management'], tags=[746]),\n",
       " TaggedDocument(words=['vision-oriented', 'next', 'generation', 'solution'], tags=[747]),\n",
       " TaggedDocument(words=['automated', 'mobile', 'model'], tags=[748]),\n",
       " TaggedDocument(words=['switchable', 'secondary', 'ability'], tags=[749]),\n",
       " TaggedDocument(words=['public-key', 'impactful', 'neural-net'], tags=[750]),\n",
       " TaggedDocument(words=['diverse', 'multi-tasking', 'parallelism'], tags=[751]),\n",
       " TaggedDocument(words=['business-focused', 'client-driven', 'forecast'], tags=[752]),\n",
       " TaggedDocument(words=['innovative', 'user-facing', 'extranet'], tags=[753]),\n",
       " TaggedDocument(words=['realigned', 'intangible', 'benchmark'], tags=[754]),\n",
       " TaggedDocument(words=['horizontal', 'even-keeled', 'challenge'], tags=[755]),\n",
       " TaggedDocument(words=['optional', 'secondary', 'access'], tags=[756]),\n",
       " TaggedDocument(words=['synergized', 'intangible', 'open', 'system'], tags=[757]),\n",
       " TaggedDocument(words=['de-engineered', 'mobile', 'infrastructure'], tags=[758]),\n",
       " TaggedDocument(words=['extended', 'local', 'methodology'], tags=[759]),\n",
       " TaggedDocument(words=['balanced', 'dynamic', 'application'], tags=[760]),\n",
       " TaggedDocument(words=['de-engineered', 'actuating', 'hierarchy'], tags=[761]),\n",
       " TaggedDocument(words=['sharable', 'secondary', 'graphical', 'user', 'interface'], tags=[762]),\n",
       " TaggedDocument(words=['profound', 'maximized', 'workforce'], tags=[763]),\n",
       " TaggedDocument(words=['total', 'coherent', 'superstructure'], tags=[764]),\n",
       " TaggedDocument(words=['virtual', '5thgeneration', 'neural-net'], tags=[765]),\n",
       " TaggedDocument(words=['multi-tiered', 'real-time', 'implementation'], tags=[766]),\n",
       " TaggedDocument(words=['exclusive', 'cohesive', 'intranet'], tags=[767]),\n",
       " TaggedDocument(words=['business-focused', 'real-time', 'toolset'], tags=[768]),\n",
       " TaggedDocument(words=['digitized', 'homogeneous', 'core'], tags=[769]),\n",
       " TaggedDocument(words=['open-architected', 'web-enabled', 'benchmark'], tags=[770]),\n",
       " TaggedDocument(words=['public-key', 'bi-directional', 'graphical', 'user', 'interface'], tags=[771]),\n",
       " TaggedDocument(words=['customer-focused', 'empowering', 'ability'], tags=[772]),\n",
       " TaggedDocument(words=['grass-roots', 'empowering', 'paradigm'], tags=[773]),\n",
       " TaggedDocument(words=['phased', 'full-range', 'hardware'], tags=[774]),\n",
       " TaggedDocument(words=['assimilated', 'next', 'generation', 'firmware'], tags=[775]),\n",
       " TaggedDocument(words=['operative', 'secondary', 'functionalities'], tags=[776]),\n",
       " TaggedDocument(words=['phased', 'zero', 'administration', 'success'], tags=[777]),\n",
       " TaggedDocument(words=['enhanced', 'tertiary', 'utilization'], tags=[778]),\n",
       " TaggedDocument(words=['switchable', 'mobile', 'framework'], tags=[779]),\n",
       " TaggedDocument(words=['distributed', 'cohesive', 'migration'], tags=[780]),\n",
       " TaggedDocument(words=['open-architected', 'intangible', 'strategy'], tags=[781]),\n",
       " TaggedDocument(words=['business-focused', 'maximized', 'complexity'], tags=[782]),\n",
       " TaggedDocument(words=['intuitive', 'dynamic', 'attitude'], tags=[783]),\n",
       " TaggedDocument(words=['operative', 'didactic', 'local', 'area', 'network'], tags=[784]),\n",
       " TaggedDocument(words=['multi-tiered', 'interactive', 'neural-net'], tags=[785]),\n",
       " TaggedDocument(words=['horizontal', 'heuristic', 'support'], tags=[786]),\n",
       " TaggedDocument(words=['re-contextualized', 'human-resource', 'success'], tags=[787]),\n",
       " TaggedDocument(words=['fully-configurable', 'incremental', 'graphical', 'user', 'interface'], tags=[788]),\n",
       " TaggedDocument(words=['multi-channeled', '3rdgeneration', 'model'], tags=[789]),\n",
       " TaggedDocument(words=['realigned', 'reciprocal', 'framework'], tags=[790]),\n",
       " TaggedDocument(words=['adaptive', '24hour', 'graphic', 'interface'], tags=[791]),\n",
       " TaggedDocument(words=['devolved', 'exuding', 'local', 'area', 'network'], tags=[792]),\n",
       " TaggedDocument(words=['synergistic', 'discrete', 'middleware'], tags=[793]),\n",
       " TaggedDocument(words=['visionary', 'reciprocal', 'circuit'], tags=[794]),\n",
       " TaggedDocument(words=['universal', 'even-keeled', 'analyzer'], tags=[795]),\n",
       " TaggedDocument(words=['enhanced', 'intermediate', 'standardization'], tags=[796]),\n",
       " TaggedDocument(words=['triple-buffered', 'foreground', 'encryption'], tags=[797]),\n",
       " TaggedDocument(words=['down-sized', 'well-modulated', 'archive'], tags=[798]),\n",
       " TaggedDocument(words=['universal', 'global', 'intranet'], tags=[799]),\n",
       " TaggedDocument(words=['automated', 'directional', 'function'], tags=[800]),\n",
       " TaggedDocument(words=['polarized', 'modular', 'function'], tags=[801]),\n",
       " TaggedDocument(words=['intuitive', 'zero-defect', 'framework'], tags=[802]),\n",
       " TaggedDocument(words=['stand-alone', 'encompassing', 'throughput'], tags=[803]),\n",
       " TaggedDocument(words=['reactive', 'bi-directional', 'standardization'], tags=[804]),\n",
       " TaggedDocument(words=['sharable', 'bottom-line', 'solution'], tags=[805]),\n",
       " TaggedDocument(words=['digitized', 'contextually-based', 'product'], tags=[806]),\n",
       " TaggedDocument(words=['self-enabling', 'optimal', 'initiative'], tags=[807]),\n",
       " TaggedDocument(words=['networked', 'asymmetric', 'infrastructure'], tags=[808]),\n",
       " TaggedDocument(words=['multi-lateral', 'empowering', 'throughput'], tags=[809]),\n",
       " TaggedDocument(words=['enhanced', 'systemic', 'benchmark'], tags=[810]),\n",
       " TaggedDocument(words=['open-architected', 'zero', 'administration', 'secured', 'line'], tags=[811]),\n",
       " TaggedDocument(words=['fully-configurable', 'foreground', 'solution'], tags=[812]),\n",
       " TaggedDocument(words=['persevering', 'needs-based', 'open', 'architecture'], tags=[813]),\n",
       " TaggedDocument(words=['ameliorated', 'coherent', 'open', 'architecture'], tags=[814]),\n",
       " TaggedDocument(words=['optimized', 'multimedia', 'website'], tags=[815]),\n",
       " TaggedDocument(words=['phased', 'full-range', 'hardware'], tags=[816]),\n",
       " TaggedDocument(words=['team-oriented', 'grid-enabled', 'local', 'area', 'network'], tags=[817]),\n",
       " TaggedDocument(words=['cross-platform', 'neutral', 'system', 'engine'], tags=[818]),\n",
       " TaggedDocument(words=['future-proofed', 'responsive', 'matrix'], tags=[819]),\n",
       " TaggedDocument(words=['integrated', 'human-resource', 'encoding'], tags=[820]),\n",
       " TaggedDocument(words=['pre-emptive', 'executive', 'knowledgebase'], tags=[821]),\n",
       " TaggedDocument(words=['persevering', 'exuding', 'system', 'engine'], tags=[822]),\n",
       " TaggedDocument(words=['business-focused', 'background', 'synergy'], tags=[823]),\n",
       " TaggedDocument(words=['advanced', 'exuding', 'conglomeration'], tags=[824]),\n",
       " TaggedDocument(words=['proactive', 'context-sensitive', 'project'], tags=[825]),\n",
       " TaggedDocument(words=['managed', 'grid-enabled', 'standardization'], tags=[826]),\n",
       " TaggedDocument(words=['polarized', 'intangible', 'encoding'], tags=[827]),\n",
       " TaggedDocument(words=['face-to-face', 'reciprocal', 'methodology'], tags=[828]),\n",
       " TaggedDocument(words=['profound', 'zero', 'administration', 'instruction', 'set'], tags=[829]),\n",
       " TaggedDocument(words=['networked', 'even-keeled', 'workforce'], tags=[830]),\n",
       " TaggedDocument(words=['enhanced', 'intangible', 'portal'], tags=[831]),\n",
       " TaggedDocument(words=['vision-oriented', 'optimizing', 'middleware'], tags=[832]),\n",
       " TaggedDocument(words=['virtual', 'impactful', 'algorithm'], tags=[833]),\n",
       " TaggedDocument(words=['seamless', 'intangible', 'secured', 'line'], tags=[834]),\n",
       " TaggedDocument(words=['expanded', 'zero', 'administration', 'attitude'], tags=[835]),\n",
       " TaggedDocument(words=['versatile', 'local', 'forecast'], tags=[836]),\n",
       " TaggedDocument(words=['programmable', 'empowering', 'orchestration'], tags=[837]),\n",
       " TaggedDocument(words=['polarized', 'clear-thinking', 'budgetary', 'management'], tags=[838]),\n",
       " TaggedDocument(words=['integrated', 'encompassing', 'support'], tags=[839]),\n",
       " TaggedDocument(words=['decentralized', 'needs-based', 'analyzer'], tags=[840]),\n",
       " TaggedDocument(words=['multi-layered', 'tangible', 'portal'], tags=[841]),\n",
       " TaggedDocument(words=['versatile', 'solution-oriented', 'secured', 'line'], tags=[842]),\n",
       " TaggedDocument(words=['networked', 'logistical', 'info-mediaries'], tags=[843]),\n",
       " TaggedDocument(words=['synergistic', 'stable', 'infrastructure'], tags=[844]),\n",
       " TaggedDocument(words=['multi-layered', 'user-facing', 'paradigm'], tags=[845]),\n",
       " TaggedDocument(words=['focused', 'scalable', 'complexity'], tags=[846]),\n",
       " TaggedDocument(words=['down-sized', 'modular', 'intranet'], tags=[847]),\n",
       " TaggedDocument(words=['ameliorated', 'exuding', 'solution'], tags=[848]),\n",
       " TaggedDocument(words=['balanced', 'disintermediate', 'conglomeration'], tags=[849]),\n",
       " TaggedDocument(words=['realigned', 'global', 'initiative'], tags=[850]),\n",
       " TaggedDocument(words=['open-source', '5thgeneration', 'leverage'], tags=[851]),\n",
       " TaggedDocument(words=['monitored', '24/7', 'moratorium'], tags=[852]),\n",
       " TaggedDocument(words=['customizable', 'modular', 'internet', 'solution'], tags=[853]),\n",
       " TaggedDocument(words=['switchable', 'multi-state', 'success'], tags=[854]),\n",
       " TaggedDocument(words=['public-key', 'zero-defect', 'analyzer'], tags=[855]),\n",
       " TaggedDocument(words=['innovative', 'executive', 'encoding'], tags=[856]),\n",
       " TaggedDocument(words=['virtual', 'homogeneous', 'budgetary', 'management'], tags=[857]),\n",
       " TaggedDocument(words=['total', 'directional', 'approach'], tags=[858]),\n",
       " TaggedDocument(words=['re-contextualized', 'reciprocal', 'interface'], tags=[859]),\n",
       " TaggedDocument(words=['switchable', 'real-time', 'product'], tags=[860]),\n",
       " TaggedDocument(words=['profit-focused', 'systemic', 'support'], tags=[861]),\n",
       " TaggedDocument(words=['centralized', 'multi-state', 'hierarchy'], tags=[862]),\n",
       " TaggedDocument(words=['user-friendly', 'asymmetric', 'info-mediaries'], tags=[863]),\n",
       " TaggedDocument(words=['face-to-face', 'even-keeled', 'website'], tags=[864]),\n",
       " TaggedDocument(words=['centralized', 'value-added', 'hierarchy'], tags=[865]),\n",
       " TaggedDocument(words=['configurable', 'asynchronous', 'application'], tags=[866]),\n",
       " TaggedDocument(words=['up-sized', 'bifurcated', 'capability'], tags=[867]),\n",
       " TaggedDocument(words=['phased', 'hybrid', 'superstructure'], tags=[868]),\n",
       " TaggedDocument(words=['innovative', 'regional', 'groupware'], tags=[869]),\n",
       " TaggedDocument(words=['right-sized', 'multi-tasking', 'solution'], tags=[870]),\n",
       " TaggedDocument(words=['synchronized', 'multimedia', 'model'], tags=[871]),\n",
       " TaggedDocument(words=['grass-roots', 'transitional', 'flexibility'], tags=[872]),\n",
       " TaggedDocument(words=['networked', 'client-server', 'solution'], tags=[873]),\n",
       " TaggedDocument(words=['persevering', '5thgeneration', 'knowledge', 'user'], tags=[874]),\n",
       " TaggedDocument(words=['intuitive', 'modular', 'system', 'engine'], tags=[875]),\n",
       " TaggedDocument(words=['ameliorated', 'contextually-based', 'collaboration'], tags=[876]),\n",
       " TaggedDocument(words=['future-proofed', 'modular', 'utilization'], tags=[877]),\n",
       " TaggedDocument(words=['monitored', 'content-based', 'implementation'], tags=[878]),\n",
       " TaggedDocument(words=['synchronized', 'national', 'infrastructure'], tags=[879]),\n",
       " TaggedDocument(words=['sharable', 'client-driven', 'software'], tags=[880]),\n",
       " TaggedDocument(words=['reactive', 'impactful', 'challenge'], tags=[881]),\n",
       " TaggedDocument(words=['programmable', 'empowering', 'middleware'], tags=[882]),\n",
       " TaggedDocument(words=['mandatory', 'disintermediate', 'utilization'], tags=[883]),\n",
       " TaggedDocument(words=['advanced', 'systemic', 'productivity'], tags=[884]),\n",
       " TaggedDocument(words=['realigned', 'tangible', 'collaboration'], tags=[885]),\n",
       " TaggedDocument(words=['configurable', 'tertiary', 'budgetary', 'management'], tags=[886]),\n",
       " TaggedDocument(words=['operative', 'secondary', 'functionalities'], tags=[887]),\n",
       " TaggedDocument(words=['grass-roots', 'impactful', 'system', 'engine'], tags=[888]),\n",
       " TaggedDocument(words=['enhanced', 'maximized', 'access'], tags=[889]),\n",
       " TaggedDocument(words=['managed', 'well-modulated', 'collaboration'], tags=[890]),\n",
       " TaggedDocument(words=['mandatory', '3rdgeneration', 'moderator'], tags=[891]),\n",
       " TaggedDocument(words=['front-line', 'multi-state', 'hub'], tags=[892]),\n",
       " TaggedDocument(words=['versatile', '4thgeneration', 'system', 'engine'], tags=[893]),\n",
       " TaggedDocument(words=['customizable', 'mission-critical', 'adapter'], tags=[894]),\n",
       " TaggedDocument(words=['polarized', 'multimedia', 'system', 'engine'], tags=[895]),\n",
       " TaggedDocument(words=['optional', 'tangible', 'productivity'], tags=[896]),\n",
       " TaggedDocument(words=['innovative', 'homogeneous', 'alliance'], tags=[897]),\n",
       " TaggedDocument(words=['networked', 'high-level', 'structure'], tags=[898]),\n",
       " TaggedDocument(words=['integrated', 'impactful', 'groupware'], tags=[899]),\n",
       " TaggedDocument(words=['pre-emptive', 'systematic', 'budgetary', 'management'], tags=[900]),\n",
       " TaggedDocument(words=['configurable', 'dynamic', 'adapter'], tags=[901]),\n",
       " TaggedDocument(words=['object-based', 'leadingedge', 'complexity'], tags=[902]),\n",
       " TaggedDocument(words=['monitored', 'real-time', 'superstructure'], tags=[903]),\n",
       " TaggedDocument(words=['total', 'even-keeled', 'architecture'], tags=[904]),\n",
       " TaggedDocument(words=['right-sized', 'logistical', 'middleware'], tags=[905]),\n",
       " TaggedDocument(words=['vision-oriented', 'real-time', 'framework'], tags=[906]),\n",
       " TaggedDocument(words=['managed', 'impactful', 'definition'], tags=[907]),\n",
       " TaggedDocument(words=['fully-configurable', 'eco-centric', 'frame'], tags=[908]),\n",
       " TaggedDocument(words=['polarized', 'tangible', 'collaboration'], tags=[909]),\n",
       " TaggedDocument(words=['integrated', '3rdgeneration', 'monitoring'], tags=[910]),\n",
       " TaggedDocument(words=['programmable', 'high-level', 'benchmark'], tags=[911]),\n",
       " TaggedDocument(words=['multi-layered', 'non-volatile', 'graphical', 'user', 'interface'], tags=[912]),\n",
       " TaggedDocument(words=['open-source', 'coherent', 'policy'], tags=[913]),\n",
       " TaggedDocument(words=['innovative', 'interactive', 'portal'], tags=[914]),\n",
       " TaggedDocument(words=['virtual', 'context-sensitive', 'support'], tags=[915]),\n",
       " TaggedDocument(words=['quality-focused', 'maximized', 'extranet'], tags=[916]),\n",
       " TaggedDocument(words=['proactive', 'interactive', 'service-desk'], tags=[917]),\n",
       " TaggedDocument(words=['phased', 'analyzing', 'emulation'], tags=[918]),\n",
       " TaggedDocument(words=['horizontal', 'client-server', 'database'], tags=[919]),\n",
       " TaggedDocument(words=['self-enabling', 'multimedia', 'system', 'engine'], tags=[920]),\n",
       " TaggedDocument(words=['progressive', 'clear-thinking', 'open', 'architecture'], tags=[921]),\n",
       " TaggedDocument(words=['customizable', 'zero-defect', 'matrix'], tags=[922]),\n",
       " TaggedDocument(words=['secured', 'uniform', 'instruction', 'set'], tags=[923]),\n",
       " TaggedDocument(words=['re-engineered', 'context-sensitive', 'knowledge', 'user'], tags=[924]),\n",
       " TaggedDocument(words=['advanced', 'exuding', 'conglomeration'], tags=[925]),\n",
       " TaggedDocument(words=['vision-oriented', 'uniform', 'knowledgebase'], tags=[926]),\n",
       " TaggedDocument(words=['open-architected', 'system-worthy', 'task-force'], tags=[927]),\n",
       " TaggedDocument(words=['phased', 'transitional', 'instruction', 'set'], tags=[928]),\n",
       " TaggedDocument(words=['versatile', '6thgeneration', 'parallelism'], tags=[929]),\n",
       " TaggedDocument(words=['configurable', 'dynamic', 'secured', 'line'], tags=[930]),\n",
       " TaggedDocument(words=['cross-platform', 'zero-defect', 'structure'], tags=[931]),\n",
       " TaggedDocument(words=['innovative', 'regional', 'structure'], tags=[932]),\n",
       " TaggedDocument(words=['cloned', 'dedicated', 'analyzer'], tags=[933]),\n",
       " TaggedDocument(words=['focused', 'incremental', 'graphic', 'interface'], tags=[934]),\n",
       " TaggedDocument(words=['customer-focused', 'attitude-oriented', 'instruction', 'set'], tags=[935]),\n",
       " TaggedDocument(words=['open-source', 'local', 'approach'], tags=[936]),\n",
       " TaggedDocument(words=['balanced', 'uniform', 'algorithm'], tags=[937]),\n",
       " TaggedDocument(words=['public-key', 'foreground', 'groupware'], tags=[938]),\n",
       " TaggedDocument(words=['managed', '5thgeneration', 'time-frame'], tags=[939]),\n",
       " TaggedDocument(words=['realigned', 'scalable', 'standardization'], tags=[940]),\n",
       " TaggedDocument(words=['universal', 'incremental', 'array'], tags=[941]),\n",
       " TaggedDocument(words=['ameliorated', 'intermediate', 'graphical', 'user', 'interface'], tags=[942]),\n",
       " TaggedDocument(words=['networked', 'logistical', 'info-mediaries'], tags=[943]),\n",
       " TaggedDocument(words=['balanced', 'motivating', 'help-desk'], tags=[944]),\n",
       " TaggedDocument(words=['multi-channeled', 'asynchronous', 'open', 'system'], tags=[945]),\n",
       " TaggedDocument(words=['pre-emptive', 'next', 'generation', 'internet', 'solution'], tags=[946]),\n",
       " TaggedDocument(words=['vision-oriented', 'multi-tasking', 'success'], tags=[947]),\n",
       " TaggedDocument(words=['reactive', 'responsive', 'emulation'], tags=[948]),\n",
       " TaggedDocument(words=['networked', 'local', 'secured', 'line'], tags=[949]),\n",
       " TaggedDocument(words=['configurable', 'fault-tolerant', 'monitoring'], tags=[950]),\n",
       " TaggedDocument(words=['organized', 'upward-trending', 'contingency'], tags=[951]),\n",
       " TaggedDocument(words=['public-key', 'non-volatile', 'implementation'], tags=[952]),\n",
       " TaggedDocument(words=['exclusive', 'zero', 'tolerance', 'alliance'], tags=[953]),\n",
       " TaggedDocument(words=['public-key', 'bi-directional', 'graphical', 'user', 'interface'], tags=[954]),\n",
       " TaggedDocument(words=['balanced', 'disintermediate', 'conglomeration'], tags=[955]),\n",
       " TaggedDocument(words=['organic', 'well-modulated', 'database'], tags=[956]),\n",
       " TaggedDocument(words=['synergized', 'uniform', 'hierarchy'], tags=[957]),\n",
       " TaggedDocument(words=['optional', 'secondary', 'access'], tags=[958]),\n",
       " TaggedDocument(words=['universal', 'transitional', 'graphical', 'user', 'interface'], tags=[959]),\n",
       " TaggedDocument(words=['function-based', 'optimizing', 'protocol'], tags=[960]),\n",
       " TaggedDocument(words=['total', 'coherent', 'archive'], tags=[961]),\n",
       " TaggedDocument(words=['triple-buffered', 'human-resource', 'complexity'], tags=[962]),\n",
       " TaggedDocument(words=['assimilated', 'multi-state', 'paradigm'], tags=[963]),\n",
       " TaggedDocument(words=['self-enabling', 'tertiary', 'challenge'], tags=[964]),\n",
       " TaggedDocument(words=['public-key', 'non-volatile', 'implementation'], tags=[965]),\n",
       " TaggedDocument(words=['configurable', 'disintermediate', 'throughput'], tags=[966]),\n",
       " TaggedDocument(words=['balanced', 'contextually-based', 'pricing', 'structure'], tags=[967]),\n",
       " TaggedDocument(words=['proactive', 'context-sensitive', 'project'], tags=[968]),\n",
       " TaggedDocument(words=['networked', 'non-volatile', 'synergy'], tags=[969]),\n",
       " TaggedDocument(words=['focused', 'systemic', 'benchmark'], tags=[970]),\n",
       " TaggedDocument(words=['focused', 'high-level', 'frame'], tags=[971]),\n",
       " TaggedDocument(words=['cross-group', 'global', 'orchestration'], tags=[972]),\n",
       " TaggedDocument(words=['pre-emptive', 'next', 'generation', 'strategy'], tags=[973]),\n",
       " TaggedDocument(words=['managed', 'impactful', 'definition'], tags=[974]),\n",
       " TaggedDocument(words=['profit-focused', 'dedicated', 'utilization'], tags=[975]),\n",
       " TaggedDocument(words=['face-to-face', 'dedicated', 'flexibility'], tags=[976]),\n",
       " TaggedDocument(words=['up-sized', 'real-time', 'methodology'], tags=[977]),\n",
       " TaggedDocument(words=['centralized', 'logistical', 'secured', 'line'], tags=[978]),\n",
       " TaggedDocument(words=['intuitive', 'transitional', 'artificial', 'intelligence'], tags=[979]),\n",
       " TaggedDocument(words=['right-sized', 'mobile', 'initiative'], tags=[980]),\n",
       " TaggedDocument(words=['intuitive', 'radical', 'forecast'], tags=[981]),\n",
       " TaggedDocument(words=['innovative', 'cohesive', 'pricing', 'structure'], tags=[982]),\n",
       " TaggedDocument(words=['configurable', '24/7', 'hub'], tags=[983]),\n",
       " TaggedDocument(words=['inverse', 'asymmetric', 'instruction', 'set'], tags=[984]),\n",
       " TaggedDocument(words=['networked', 'stable', 'array'], tags=[985]),\n",
       " TaggedDocument(words=['streamlined', 'cohesive', 'conglomeration'], tags=[986]),\n",
       " TaggedDocument(words=['centralized', 'content-based', 'focus', 'group'], tags=[987]),\n",
       " TaggedDocument(words=['robust', 'logistical', 'utilization'], tags=[988]),\n",
       " TaggedDocument(words=['vision-oriented', 'contextually-based', 'extranet'], tags=[989]),\n",
       " TaggedDocument(words=['multi-lateral', '24/7', 'internet', 'solution'], tags=[990]),\n",
       " TaggedDocument(words=['intuitive', 'explicit', 'firmware'], tags=[991]),\n",
       " TaggedDocument(words=['optimized', 'static', 'archive'], tags=[992]),\n",
       " TaggedDocument(words=['cross-platform', '4thgeneration', 'focus', 'group'], tags=[993]),\n",
       " TaggedDocument(words=['polarized', 'logistical', 'hub'], tags=[994]),\n",
       " TaggedDocument(words=['triple-buffered', 'human-resource', 'complexity'], tags=[995]),\n",
       " TaggedDocument(words=['virtual', '5thgeneration', 'emulation'], tags=[996]),\n",
       " TaggedDocument(words=['front-line', 'incremental', 'access'], tags=[997]),\n",
       " TaggedDocument(words=['mandatory', 'coherent', 'groupware'], tags=[998]),\n",
       " TaggedDocument(words=['up-sized', 'maximized', 'model'], tags=[999])]"
      ]
     },
     "execution_count": 17,
     "metadata": {},
     "output_type": "execute_result"
    }
   ],
   "source": [
    "from gensim.models.doc2vec import Doc2Vec, TaggedDocument\n",
    "tagged_data = [TaggedDocument(d, [i]) for i, d in enumerate(tok_sent)]\n",
    "tagged_data"
   ]
  },
  {
   "cell_type": "code",
   "execution_count": 18,
   "metadata": {},
   "outputs": [],
   "source": [
    "model = Doc2Vec(tagged_data, vector_size = 10, window = 2, min_count = 1, epochs = 1000)"
   ]
  },
  {
   "cell_type": "code",
   "execution_count": 42,
   "metadata": {
    "colab": {},
    "colab_type": "code",
    "id": "jabG4TJwIKS_"
   },
   "outputs": [
    {
     "name": "stdout",
     "output_type": "stream",
     "text": [
      "sentence example:\n",
      "Seamless impactful info-mediaries\n",
      "----------------------------------------------------------------------------------------------------\n",
      "Most similar title:\n",
      "Seamless cohesive conglomeration\n"
     ]
    },
    {
     "name": "stderr",
     "output_type": "stream",
     "text": [
      "<ipython-input-42-63ce96106884>:12: DeprecationWarning: Call to deprecated `docvecs` (The `docvecs` property has been renamed `dv`.).\n",
      "  print(sentences[model.docvecs.most_similar(positive = [test_doc_vector])[2][0]])\n"
     ]
    }
   ],
   "source": [
    "sentence_example=data['Ad Topic Line'][0]\n",
    "\n",
    "print('sentence example:')\n",
    "print(sentence_example)\n",
    "print('-'*100)\n",
    "test_doc = word_tokenize(sentence_example.lower())\n",
    "test_doc_vector = model.infer_vector(test_doc)\n",
    "\n",
    "\n",
    "\n",
    "print('Most similar title:')\n",
    "print(sentences[model.docvecs.most_similar(positive = [test_doc_vector])[2][0]])"
   ]
  },
  {
   "cell_type": "code",
   "execution_count": 46,
   "metadata": {},
   "outputs": [],
   "source": [
    "def topic_to_array(df: pd.DataFrame):\n",
    "    topic_list=[]\n",
    "    for _,row in df.iterrows():\n",
    "        topic_vector=model.infer_vector(word_tokenize(row['Ad Topic Line'].lower()))\n",
    "        topic_list.append(topic_vector)\n",
    "    return(np.array(topic_list))"
   ]
  },
  {
   "cell_type": "code",
   "execution_count": 47,
   "metadata": {},
   "outputs": [],
   "source": [
    "topic_array=topic_to_array(data)"
   ]
  },
  {
   "cell_type": "markdown",
   "metadata": {},
   "source": [
    "### When it comes the Nan values in the 'Area Income' column , we decided to  replace the Nan value with the Average value of 'Area Income'"
   ]
  },
  {
   "cell_type": "code",
   "execution_count": 51,
   "metadata": {},
   "outputs": [
    {
     "name": "stdout",
     "output_type": "stream",
     "text": [
      "     Daily Time Spent on Site  Age   Area Income  Daily Internet Usage  gender\n",
      "0                       80.67   34  58909.360000                239.76       0\n",
      "1                       68.01   25  68357.960000                188.32       1\n",
      "2                       80.94   36  60803.000000                239.94       0\n",
      "3                       78.77   28  63497.620000                211.83       0\n",
      "4                       36.56   29  42838.290000                195.89       0\n",
      "..                        ...  ...           ...                   ...     ...\n",
      "995                     82.12   54  55343.014555                132.66       1\n",
      "996                     45.01   26  29875.800000                178.35       0\n",
      "997                     36.62   36  55343.014555                163.00       0\n",
      "998                     80.46   29  56909.300000                230.78       0\n",
      "999                     81.98   34  67432.490000                212.88       0\n",
      "\n",
      "[1000 rows x 5 columns]\n"
     ]
    }
   ],
   "source": [
    "m=np.mean(data.dropna()['Area Income'].to_numpy())\n",
    "data_avg=data[['Daily Time Spent on Site','Age','Area Income','Daily Internet Usage','gender']].fillna(m)\n",
    "print(data_avg)"
   ]
  },
  {
   "cell_type": "markdown",
   "metadata": {},
   "source": [
    "# Getting the Features Vectors 'X' and the Target Vectors 'Y' :"
   ]
  },
  {
   "cell_type": "code",
   "execution_count": 164,
   "metadata": {},
   "outputs": [
    {
     "name": "stdout",
     "output_type": "stream",
     "text": [
      "(1000, 18)\n",
      "(1000, 17)\n",
      "(1000,)\n"
     ]
    }
   ],
   "source": [
    "X1=np.concatenate([data_avg.to_numpy(),topic_array,timestamp_array[:,2:4],ctry_array],axis=1)\n",
    "print(X1.shape)\n",
    "data_avg_no_gender=data_avg[['Daily Time Spent on Site','Age','Area Income','Daily Internet Usage']]\n",
    "X2=np.concatenate([data_avg_no_gender.to_numpy(),topic_array,timestamp_array[:,2:4],ctry_array],axis=1)\n",
    "print(X2.shape)\n",
    "Y=data['Clicked'].to_numpy()\n",
    "print(Y.shape)"
   ]
  },
  {
   "cell_type": "markdown",
   "metadata": {},
   "source": [
    "# Using SVM from sklearn and Hold-out validation for model Assesment :"
   ]
  },
  {
   "cell_type": "code",
   "execution_count": 179,
   "metadata": {},
   "outputs": [],
   "source": [
    "#split first data to train and validation\n",
    "from sklearn.model_selection import train_test_split\n",
    "X_train1, X_val1, Y_train1, Y_val1 = train_test_split(X1, Y, test_size=0.33, random_state=40)"
   ]
  },
  {
   "cell_type": "code",
   "execution_count": 180,
   "metadata": {},
   "outputs": [],
   "source": [
    "#split second data to train and validation\n",
    "X_train2, X_val2, Y_train2, Y_val2 = train_test_split(X2, Y, test_size=0.33, random_state=40)"
   ]
  },
  {
   "cell_type": "code",
   "execution_count": 181,
   "metadata": {},
   "outputs": [
    {
     "data": {
      "text/plain": [
       "SVC(kernel='sigmoid')"
      ]
     },
     "execution_count": 181,
     "metadata": {},
     "output_type": "execute_result"
    }
   ],
   "source": [
    "from sklearn import svm\n",
    "model_click11 = svm.SVC(kernel='linear')\n",
    "model_click11.fit(X_train1, Y_train1)\n",
    "model_click12 = svm.SVC(kernel='sigmoid')\n",
    "model_click12.fit(X_train1, Y_train1)"
   ]
  },
  {
   "cell_type": "code",
   "execution_count": 182,
   "metadata": {},
   "outputs": [
    {
     "data": {
      "text/plain": [
       "SVC(kernel='sigmoid')"
      ]
     },
     "execution_count": 182,
     "metadata": {},
     "output_type": "execute_result"
    }
   ],
   "source": [
    "model_click21 = svm.SVC(kernel='linear')\n",
    "model_click21.fit(X_train2, Y_train2)\n",
    "model_click22 = svm.SVC(kernel='sigmoid')\n",
    "model_click22.fit(X_train2, Y_train2)\n"
   ]
  },
  {
   "cell_type": "code",
   "execution_count": 183,
   "metadata": {},
   "outputs": [],
   "source": [
    "def accuracy(model,X_val,Y_val):\n",
    "    acc=(model.predict(X_val)==Y_val).mean()\n",
    "    \n",
    "    return(acc)"
   ]
  },
  {
   "cell_type": "code",
   "execution_count": 184,
   "metadata": {},
   "outputs": [
    {
     "name": "stdout",
     "output_type": "stream",
     "text": [
      "first model with linear kernel accuracy on train set : 0.85\n",
      "----------------------------------------------------------------------------------------------------\n",
      "first model with linear kernel accuracy on validation set : 0.85\n"
     ]
    }
   ],
   "source": [
    "print(f'first model with linear kernel accuracy on train set : {accuracy(model_click11,X_train1,Y_train1):.2f}')\n",
    "print('-'*100)\n",
    "print(f'first model with linear kernel accuracy on validation set : {accuracy(model_click11,X_val1,Y_val1):.2f}')"
   ]
  },
  {
   "cell_type": "code",
   "execution_count": 185,
   "metadata": {},
   "outputs": [
    {
     "name": "stdout",
     "output_type": "stream",
     "text": [
      "second model with linear kernel accuracy on train set : 0.86\n",
      "----------------------------------------------------------------------------------------------------\n",
      "second model with linear kernel accuracy on validation set : 0.84\n"
     ]
    }
   ],
   "source": [
    "print(f'second model with linear kernel accuracy on train set : {accuracy(model_click21,X_train2,Y_train2):.2f}')\n",
    "print('-'*100)\n",
    "print(f'second model with linear kernel accuracy on validation set : {accuracy(model_click21,X_val2,Y_val2):.2f}')"
   ]
  },
  {
   "cell_type": "code",
   "execution_count": 186,
   "metadata": {},
   "outputs": [
    {
     "name": "stdout",
     "output_type": "stream",
     "text": [
      "first model with sigmoid kernel accuracy on train set : 0.38\n",
      "----------------------------------------------------------------------------------------------------\n",
      "first model with sigmoid kernel accuracy on validation set : 0.41\n"
     ]
    }
   ],
   "source": [
    "print(f'first model with sigmoid kernel accuracy on train set : {accuracy(model_click12,X_train1,Y_train1):.2f}')\n",
    "print('-'*100)\n",
    "print(f'first model with sigmoid kernel accuracy on validation set : {accuracy(model_click12,X_val1,Y_val1):.2f}')"
   ]
  },
  {
   "cell_type": "code",
   "execution_count": 187,
   "metadata": {},
   "outputs": [
    {
     "name": "stdout",
     "output_type": "stream",
     "text": [
      "second model with poly kernel accuracy on train set : 0.38\n",
      "----------------------------------------------------------------------------------------------------\n",
      "second model with poly kernel accuracy on validation set : 0.41\n"
     ]
    }
   ],
   "source": [
    "print(f'second model with poly kernel accuracy on train set : {accuracy(model_click22,X_train2,Y_train2):.2f}')\n",
    "print('-'*100)\n",
    "print(f'second model with poly kernel accuracy on validation set : {accuracy(model_click22,X_val2,Y_val2):.2f}')"
   ]
  },
  {
   "cell_type": "markdown",
   "metadata": {},
   "source": [
    "### the first model with linear kernel performs best on validation set therefore we will train it on the whole dataset and test it on the test set"
   ]
  },
  {
   "cell_type": "code",
   "execution_count": 188,
   "metadata": {},
   "outputs": [
    {
     "data": {
      "text/plain": [
       "SVC(kernel='linear')"
      ]
     },
     "execution_count": 188,
     "metadata": {},
     "output_type": "execute_result"
    }
   ],
   "source": [
    "model_final= svm.SVC(kernel='linear')\n",
    "model_final.fit(X1, Y)"
   ]
  },
  {
   "cell_type": "markdown",
   "metadata": {
    "colab_type": "text",
    "id": "UFogmgYZIKTE"
   },
   "source": [
    "> #### Task:\n",
    "- **Submit the predictions on the test dataset using your optimized model** <br/>\n",
    "    For each record in the test set (`test.csv`), predict whether a consumer clicked on an ad or not. Submit a CSV file with a header row and one row per test entry. \n",
    "    \n",
    "The file (`submissions.csv`) should have exactly 2 columns:\n",
    "   - **id**\n",
    "   - **Clicked**"
   ]
  },
  {
   "cell_type": "code",
   "execution_count": 193,
   "metadata": {
    "colab": {},
    "colab_type": "code",
    "id": "7xgNg25MIKTG"
   },
   "outputs": [
    {
     "name": "stdout",
     "output_type": "stream",
     "text": [
      "(300, 1)\n"
     ]
    }
   ],
   "source": [
    "ctry_array_test=country_to_array(test_data)\n",
    "ctry_array_test=ctry_array_test.reshape((ctry_array_test.shape[0],1))\n",
    "print(ctry_array_test.shape)"
   ]
  },
  {
   "cell_type": "code",
   "execution_count": 194,
   "metadata": {
    "colab": {},
    "colab_type": "code",
    "id": "OaxN7BjwIKTL"
   },
   "outputs": [
    {
     "name": "stdout",
     "output_type": "stream",
     "text": [
      "(300, 10)\n"
     ]
    }
   ],
   "source": [
    "topic_array_test=topic_to_array(test_data)\n",
    "print(topic_array_test.shape)"
   ]
  },
  {
   "cell_type": "code",
   "execution_count": 195,
   "metadata": {},
   "outputs": [
    {
     "data": {
      "text/plain": [
       "(300, 6)"
      ]
     },
     "execution_count": 195,
     "metadata": {},
     "output_type": "execute_result"
    }
   ],
   "source": [
    "timestamp_array_test=timestamp_to_array(test_data)\n",
    "timestamp_array_test.shape"
   ]
  },
  {
   "cell_type": "code",
   "execution_count": 196,
   "metadata": {},
   "outputs": [
    {
     "name": "stdout",
     "output_type": "stream",
     "text": [
      "     Daily Time Spent on Site  Age   Area Income  Daily Internet Usage  gender\n",
      "0                       43.88   54  31523.090000                166.85       1\n",
      "1                       66.40   40  77567.850000                214.42       0\n",
      "2                       79.52   34  53818.505778                141.58       0\n",
      "3                       52.35   25  33293.780000                147.61       1\n",
      "4                       81.51   36  53818.505778                195.93       0\n",
      "..                        ...  ...           ...                   ...     ...\n",
      "295                     74.06   23  40345.490000                225.99       0\n",
      "296                     61.88   42  60223.520000                112.19       1\n",
      "297                     80.03   44  24030.060000                150.84       0\n",
      "298                     86.38   33  53818.505778                233.60       0\n",
      "299                     69.15   46  36424.940000                112.72       0\n",
      "\n",
      "[300 rows x 5 columns]\n"
     ]
    }
   ],
   "source": [
    "m=np.mean(test_data.dropna()['Area Income'].to_numpy())\n",
    "data_avg_test=test_data[['Daily Time Spent on Site','Age','Area Income','Daily Internet Usage','gender']].fillna(m)\n",
    "print(data_avg_test)"
   ]
  },
  {
   "cell_type": "code",
   "execution_count": 197,
   "metadata": {},
   "outputs": [
    {
     "name": "stdout",
     "output_type": "stream",
     "text": [
      "(300, 18)\n"
     ]
    }
   ],
   "source": [
    "X_test=np.concatenate([data_avg_test.to_numpy(),topic_array_test,timestamp_array_test[:,2:4],ctry_array_test],axis=1)\n",
    "print(X_test.shape)\n",
    "\n"
   ]
  },
  {
   "cell_type": "code",
   "execution_count": 210,
   "metadata": {},
   "outputs": [],
   "source": [
    "dict_test={}\n",
    "Y_test=model_final.predict(X_test)\n",
    "dict_test['id']=test_data['id'].to_list()\n",
    "dict_test['Clicked']=list(Y_test)\n",
    "\n"
   ]
  },
  {
   "cell_type": "code",
   "execution_count": 211,
   "metadata": {},
   "outputs": [
    {
     "name": "stdout",
     "output_type": "stream",
     "text": [
      "       id  Clicked\n",
      "0    2200        1\n",
      "1    2201        0\n",
      "2    2202        1\n",
      "3    2203        1\n",
      "4    2204        0\n",
      "..    ...      ...\n",
      "295  2495        0\n",
      "296  2496        1\n",
      "297  2497        1\n",
      "298  2498        0\n",
      "299  2499        1\n",
      "\n",
      "[300 rows x 2 columns]\n"
     ]
    }
   ],
   "source": [
    "submission_df=pd.DataFrame.from_dict(dict_test)\n",
    "print(submission_df)"
   ]
  },
  {
   "cell_type": "code",
   "execution_count": 212,
   "metadata": {
    "colab": {},
    "colab_type": "code",
    "id": "nBRVPrYbIKTQ"
   },
   "outputs": [],
   "source": [
    "#Submission\n",
    "submission_df.to_csv('submissions.csv',index=False)"
   ]
  },
  {
   "cell_type": "markdown",
   "metadata": {
    "colab_type": "text",
    "id": "H_pB8zTcIKTW"
   },
   "source": [
    "---"
   ]
  }
 ],
 "metadata": {
  "colab": {
   "collapsed_sections": [],
   "name": "ads_questions_updated.ipynb",
   "provenance": [],
   "toc_visible": true
  },
  "kernelspec": {
   "display_name": "Python 3",
   "language": "python",
   "name": "python3"
  },
  "language_info": {
   "codemirror_mode": {
    "name": "ipython",
    "version": 3
   },
   "file_extension": ".py",
   "mimetype": "text/x-python",
   "name": "python",
   "nbconvert_exporter": "python",
   "pygments_lexer": "ipython3",
   "version": "3.8.8"
  },
  "toc": {
   "base_numbering": 1,
   "nav_menu": {},
   "number_sections": true,
   "sideBar": true,
   "skip_h1_title": false,
   "title_cell": "Table of Contents",
   "title_sidebar": "Contents",
   "toc_cell": false,
   "toc_position": {},
   "toc_section_display": true,
   "toc_window_display": false
  }
 },
 "nbformat": 4,
 "nbformat_minor": 4
}
