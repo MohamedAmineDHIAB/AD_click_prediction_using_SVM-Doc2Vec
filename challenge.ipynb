{
 "cells": [
  {
   "cell_type": "markdown",
   "metadata": {
    "colab_type": "text",
    "id": "x_BkOtqBIKQz"
   },
   "source": [
    "# Data Science Challenge"
   ]
  },
  {
   "cell_type": "code",
   "execution_count": 1,
   "metadata": {
    "colab": {},
    "colab_type": "code",
    "id": "U_VthdACIKQ6"
   },
   "outputs": [],
   "source": [
    "# If you'd like to install packages that aren't installed by default, uncomment the last two lines of this cell and replace <package list> with a list of your packages.\n",
    "# This will ensure your notebook has all the dependencies and works everywhere\n",
    "\n",
    "#import sys\n",
    "#!{sys.executable} -m pip install <package list>"
   ]
  },
  {
   "cell_type": "code",
   "execution_count": 2,
   "metadata": {
    "colab": {},
    "colab_type": "code",
    "id": "VzGFUCCVIKRL"
   },
   "outputs": [],
   "source": [
    "#Libraries\n",
    "import pandas as pd, numpy as np\n",
    "pd.set_option(\"display.max_columns\", 101)"
   ]
  },
  {
   "cell_type": "markdown",
   "metadata": {
    "colab_type": "text",
    "id": "TZ23KNY8IKRT"
   },
   "source": [
    "## Data Description"
   ]
  },
  {
   "cell_type": "markdown",
   "metadata": {
    "colab_type": "text",
    "id": "jWSkqquEIKRW"
   },
   "source": [
    "Column | Description\n",
    ":---|:---\n",
    "`id` | Unique id\n",
    "`Daily Time Spent on Site` | Consumer time spent on site (in minutes)\n",
    "`Age` | Consumer age (in years)\n",
    "`Area Income` | Avg. Income of geographical area of consumer (in US $$)\n",
    "`Daily Internet Usage` | Avg. minutes a day consumer is on the internet\n",
    "`Ad Topic Line` | Headline of the advertisement\n",
    "`gender` | Gender of the consumer\n",
    "`Country` | Country of consumer\n",
    "`Timestamp` | Timestamp at which consumer clicked on Ad or closed window (YYYY-MM-DD HH:MM:SS)\n",
    "`Clicked` | Whether a consumer clicked on the advert or not (0: No ,1: Yes)"
   ]
  },
  {
   "cell_type": "markdown",
   "metadata": {
    "colab_type": "text",
    "id": "BWQqx7cSIKRX"
   },
   "source": [
    "## Data Wrangling & Visualization"
   ]
  },
  {
   "cell_type": "code",
   "execution_count": 3,
   "metadata": {
    "colab": {},
    "colab_type": "code",
    "id": "SsjL7tf7IKRc"
   },
   "outputs": [],
   "source": [
    "# Dataset is already loaded below\n",
    "data = pd.read_csv(\"train.csv\")"
   ]
  },
  {
   "cell_type": "code",
   "execution_count": 4,
   "metadata": {
    "colab": {},
    "colab_type": "code",
    "id": "kzuHtZEkIKRh",
    "outputId": "9d14832c-2eda-48eb-df41-548113a94a73"
   },
   "outputs": [
    {
     "data": {
      "text/html": [
       "<div>\n",
       "<style scoped>\n",
       "    .dataframe tbody tr th:only-of-type {\n",
       "        vertical-align: middle;\n",
       "    }\n",
       "\n",
       "    .dataframe tbody tr th {\n",
       "        vertical-align: top;\n",
       "    }\n",
       "\n",
       "    .dataframe thead th {\n",
       "        text-align: right;\n",
       "    }\n",
       "</style>\n",
       "<table border=\"1\" class=\"dataframe\">\n",
       "  <thead>\n",
       "    <tr style=\"text-align: right;\">\n",
       "      <th></th>\n",
       "      <th>id</th>\n",
       "      <th>Timestamp</th>\n",
       "      <th>Daily Time Spent on Site</th>\n",
       "      <th>Age</th>\n",
       "      <th>Area Income</th>\n",
       "      <th>Daily Internet Usage</th>\n",
       "      <th>Ad Topic Line</th>\n",
       "      <th>gender</th>\n",
       "      <th>Country</th>\n",
       "      <th>Clicked</th>\n",
       "    </tr>\n",
       "  </thead>\n",
       "  <tbody>\n",
       "    <tr>\n",
       "      <th>0</th>\n",
       "      <td>1200</td>\n",
       "      <td>2016-01-01 02:52:10</td>\n",
       "      <td>80.67</td>\n",
       "      <td>34</td>\n",
       "      <td>58909.36</td>\n",
       "      <td>239.76</td>\n",
       "      <td>Seamless impactful info-mediaries</td>\n",
       "      <td>0</td>\n",
       "      <td>Portugal</td>\n",
       "      <td>0</td>\n",
       "    </tr>\n",
       "    <tr>\n",
       "      <th>1</th>\n",
       "      <td>1201</td>\n",
       "      <td>2016-01-01 03:35:35</td>\n",
       "      <td>68.01</td>\n",
       "      <td>25</td>\n",
       "      <td>68357.96</td>\n",
       "      <td>188.32</td>\n",
       "      <td>Ameliorated actuating workforce</td>\n",
       "      <td>1</td>\n",
       "      <td>Afghanistan</td>\n",
       "      <td>0</td>\n",
       "    </tr>\n",
       "    <tr>\n",
       "      <th>2</th>\n",
       "      <td>1202</td>\n",
       "      <td>2016-01-01 05:31:22</td>\n",
       "      <td>80.94</td>\n",
       "      <td>36</td>\n",
       "      <td>60803.00</td>\n",
       "      <td>239.94</td>\n",
       "      <td>Self-enabling local strategy</td>\n",
       "      <td>0</td>\n",
       "      <td>Bermuda</td>\n",
       "      <td>0</td>\n",
       "    </tr>\n",
       "    <tr>\n",
       "      <th>3</th>\n",
       "      <td>1203</td>\n",
       "      <td>2016-01-01 08:27:06</td>\n",
       "      <td>78.77</td>\n",
       "      <td>28</td>\n",
       "      <td>63497.62</td>\n",
       "      <td>211.83</td>\n",
       "      <td>Public-key intangible Graphical User Interface</td>\n",
       "      <td>0</td>\n",
       "      <td>Guam</td>\n",
       "      <td>0</td>\n",
       "    </tr>\n",
       "    <tr>\n",
       "      <th>4</th>\n",
       "      <td>1204</td>\n",
       "      <td>2016-01-01 15:14:24</td>\n",
       "      <td>36.56</td>\n",
       "      <td>29</td>\n",
       "      <td>42838.29</td>\n",
       "      <td>195.89</td>\n",
       "      <td>Team-oriented bi-directional secured line</td>\n",
       "      <td>0</td>\n",
       "      <td>Uganda</td>\n",
       "      <td>1</td>\n",
       "    </tr>\n",
       "  </tbody>\n",
       "</table>\n",
       "</div>"
      ],
      "text/plain": [
       "     id            Timestamp  Daily Time Spent on Site  Age  Area Income  \\\n",
       "0  1200  2016-01-01 02:52:10                     80.67   34     58909.36   \n",
       "1  1201  2016-01-01 03:35:35                     68.01   25     68357.96   \n",
       "2  1202  2016-01-01 05:31:22                     80.94   36     60803.00   \n",
       "3  1203  2016-01-01 08:27:06                     78.77   28     63497.62   \n",
       "4  1204  2016-01-01 15:14:24                     36.56   29     42838.29   \n",
       "\n",
       "   Daily Internet Usage                                   Ad Topic Line  \\\n",
       "0                239.76               Seamless impactful info-mediaries   \n",
       "1                188.32                 Ameliorated actuating workforce   \n",
       "2                239.94                    Self-enabling local strategy   \n",
       "3                211.83  Public-key intangible Graphical User Interface   \n",
       "4                195.89       Team-oriented bi-directional secured line   \n",
       "\n",
       "   gender      Country  Clicked  \n",
       "0       0     Portugal        0  \n",
       "1       1  Afghanistan        0  \n",
       "2       0      Bermuda        0  \n",
       "3       0         Guam        0  \n",
       "4       0       Uganda        1  "
      ]
     },
     "execution_count": 4,
     "metadata": {},
     "output_type": "execute_result"
    }
   ],
   "source": [
    "data.head()"
   ]
  },
  {
   "cell_type": "code",
   "execution_count": 5,
   "metadata": {
    "colab": {},
    "colab_type": "code",
    "id": "0mhMZRlBIKRu",
    "outputId": "0a669059-5528-4ec0-d64b-8231f6aadf45"
   },
   "outputs": [
    {
     "data": {
      "text/plain": [
       "Index(['id', 'Timestamp', 'Daily Time Spent on Site', 'Age', 'Area Income',\n",
       "       'Daily Internet Usage', 'Ad Topic Line', 'gender', 'Country',\n",
       "       'Clicked'],\n",
       "      dtype='object')"
      ]
     },
     "execution_count": 5,
     "metadata": {},
     "output_type": "execute_result"
    }
   ],
   "source": [
    "#Explore columns\n",
    "data.columns"
   ]
  },
  {
   "cell_type": "code",
   "execution_count": 6,
   "metadata": {
    "colab": {},
    "colab_type": "code",
    "id": "-SrTmyfJIKR1",
    "outputId": "12b270ca-8c3f-402b-d6c1-286c17e63fdd",
    "scrolled": true
   },
   "outputs": [
    {
     "data": {
      "text/html": [
       "<div>\n",
       "<style scoped>\n",
       "    .dataframe tbody tr th:only-of-type {\n",
       "        vertical-align: middle;\n",
       "    }\n",
       "\n",
       "    .dataframe tbody tr th {\n",
       "        vertical-align: top;\n",
       "    }\n",
       "\n",
       "    .dataframe thead th {\n",
       "        text-align: right;\n",
       "    }\n",
       "</style>\n",
       "<table border=\"1\" class=\"dataframe\">\n",
       "  <thead>\n",
       "    <tr style=\"text-align: right;\">\n",
       "      <th></th>\n",
       "      <th>id</th>\n",
       "      <th>Daily Time Spent on Site</th>\n",
       "      <th>Age</th>\n",
       "      <th>Area Income</th>\n",
       "      <th>Daily Internet Usage</th>\n",
       "      <th>gender</th>\n",
       "      <th>Clicked</th>\n",
       "    </tr>\n",
       "  </thead>\n",
       "  <tbody>\n",
       "    <tr>\n",
       "      <th>count</th>\n",
       "      <td>1000.000000</td>\n",
       "      <td>1000.000000</td>\n",
       "      <td>1000.000000</td>\n",
       "      <td>775.000000</td>\n",
       "      <td>1000.000000</td>\n",
       "      <td>1000.000000</td>\n",
       "      <td>1000.000000</td>\n",
       "    </tr>\n",
       "    <tr>\n",
       "      <th>mean</th>\n",
       "      <td>1699.500000</td>\n",
       "      <td>65.120650</td>\n",
       "      <td>35.816000</td>\n",
       "      <td>55343.014555</td>\n",
       "      <td>179.592310</td>\n",
       "      <td>0.474000</td>\n",
       "      <td>0.503000</td>\n",
       "    </tr>\n",
       "    <tr>\n",
       "      <th>std</th>\n",
       "      <td>288.819436</td>\n",
       "      <td>15.781456</td>\n",
       "      <td>8.782669</td>\n",
       "      <td>13182.578667</td>\n",
       "      <td>43.735785</td>\n",
       "      <td>0.499573</td>\n",
       "      <td>0.500241</td>\n",
       "    </tr>\n",
       "    <tr>\n",
       "      <th>min</th>\n",
       "      <td>1200.000000</td>\n",
       "      <td>32.600000</td>\n",
       "      <td>19.000000</td>\n",
       "      <td>14548.060000</td>\n",
       "      <td>105.000000</td>\n",
       "      <td>0.000000</td>\n",
       "      <td>0.000000</td>\n",
       "    </tr>\n",
       "    <tr>\n",
       "      <th>25%</th>\n",
       "      <td>1449.750000</td>\n",
       "      <td>51.450000</td>\n",
       "      <td>29.000000</td>\n",
       "      <td>48270.620000</td>\n",
       "      <td>137.885000</td>\n",
       "      <td>0.000000</td>\n",
       "      <td>0.000000</td>\n",
       "    </tr>\n",
       "    <tr>\n",
       "      <th>50%</th>\n",
       "      <td>1699.500000</td>\n",
       "      <td>68.390000</td>\n",
       "      <td>35.000000</td>\n",
       "      <td>57737.510000</td>\n",
       "      <td>182.425000</td>\n",
       "      <td>0.000000</td>\n",
       "      <td>1.000000</td>\n",
       "    </tr>\n",
       "    <tr>\n",
       "      <th>75%</th>\n",
       "      <td>1949.250000</td>\n",
       "      <td>78.572500</td>\n",
       "      <td>41.250000</td>\n",
       "      <td>65207.185000</td>\n",
       "      <td>217.707500</td>\n",
       "      <td>1.000000</td>\n",
       "      <td>1.000000</td>\n",
       "    </tr>\n",
       "    <tr>\n",
       "      <th>max</th>\n",
       "      <td>2199.000000</td>\n",
       "      <td>91.370000</td>\n",
       "      <td>61.000000</td>\n",
       "      <td>79484.800000</td>\n",
       "      <td>269.960000</td>\n",
       "      <td>1.000000</td>\n",
       "      <td>1.000000</td>\n",
       "    </tr>\n",
       "  </tbody>\n",
       "</table>\n",
       "</div>"
      ],
      "text/plain": [
       "                id  Daily Time Spent on Site          Age   Area Income  \\\n",
       "count  1000.000000               1000.000000  1000.000000    775.000000   \n",
       "mean   1699.500000                 65.120650    35.816000  55343.014555   \n",
       "std     288.819436                 15.781456     8.782669  13182.578667   \n",
       "min    1200.000000                 32.600000    19.000000  14548.060000   \n",
       "25%    1449.750000                 51.450000    29.000000  48270.620000   \n",
       "50%    1699.500000                 68.390000    35.000000  57737.510000   \n",
       "75%    1949.250000                 78.572500    41.250000  65207.185000   \n",
       "max    2199.000000                 91.370000    61.000000  79484.800000   \n",
       "\n",
       "       Daily Internet Usage       gender      Clicked  \n",
       "count           1000.000000  1000.000000  1000.000000  \n",
       "mean             179.592310     0.474000     0.503000  \n",
       "std               43.735785     0.499573     0.500241  \n",
       "min              105.000000     0.000000     0.000000  \n",
       "25%              137.885000     0.000000     0.000000  \n",
       "50%              182.425000     0.000000     1.000000  \n",
       "75%              217.707500     1.000000     1.000000  \n",
       "max              269.960000     1.000000     1.000000  "
      ]
     },
     "execution_count": 6,
     "metadata": {},
     "output_type": "execute_result"
    }
   ],
   "source": [
    "#Description\n",
    "data.describe()"
   ]
  },
  {
   "cell_type": "markdown",
   "metadata": {
    "colab_type": "text",
    "id": "ymsdDaIPIKSX"
   },
   "source": [
    "## Visualization, Modeling, Machine Learning\n",
    "\n",
    "Predict which users might click a particular advertisement.\n",
    "Please explain the findings effectively to technical and non-technical audiences using comments and visualizations, if appropriate.\n",
    "- **Build an optimized model that effectively solves the business problem.**\n",
    "- **The model's performance will be evaluated on the basis of accuracy.**\n",
    "- **Read the test.csv file and prepare features for testing.**"
   ]
  },
  {
   "cell_type": "code",
   "execution_count": 7,
   "metadata": {
    "colab": {},
    "colab_type": "code",
    "id": "Hsxh3SMgIKSY",
    "outputId": "d98d0f00-f33f-407b-df59-a9915bb03fa1"
   },
   "outputs": [
    {
     "data": {
      "text/html": [
       "<div>\n",
       "<style scoped>\n",
       "    .dataframe tbody tr th:only-of-type {\n",
       "        vertical-align: middle;\n",
       "    }\n",
       "\n",
       "    .dataframe tbody tr th {\n",
       "        vertical-align: top;\n",
       "    }\n",
       "\n",
       "    .dataframe thead th {\n",
       "        text-align: right;\n",
       "    }\n",
       "</style>\n",
       "<table border=\"1\" class=\"dataframe\">\n",
       "  <thead>\n",
       "    <tr style=\"text-align: right;\">\n",
       "      <th></th>\n",
       "      <th>id</th>\n",
       "      <th>Timestamp</th>\n",
       "      <th>Daily Time Spent on Site</th>\n",
       "      <th>Age</th>\n",
       "      <th>Area Income</th>\n",
       "      <th>Daily Internet Usage</th>\n",
       "      <th>Ad Topic Line</th>\n",
       "      <th>gender</th>\n",
       "      <th>Country</th>\n",
       "    </tr>\n",
       "  </thead>\n",
       "  <tbody>\n",
       "    <tr>\n",
       "      <th>0</th>\n",
       "      <td>2200</td>\n",
       "      <td>2016-06-04 17:24:07</td>\n",
       "      <td>43.88</td>\n",
       "      <td>54</td>\n",
       "      <td>31523.09</td>\n",
       "      <td>166.85</td>\n",
       "      <td>Enhanced methodical database</td>\n",
       "      <td>1</td>\n",
       "      <td>Somalia</td>\n",
       "    </tr>\n",
       "    <tr>\n",
       "      <th>1</th>\n",
       "      <td>2201</td>\n",
       "      <td>2016-06-05 00:29:13</td>\n",
       "      <td>66.40</td>\n",
       "      <td>40</td>\n",
       "      <td>77567.85</td>\n",
       "      <td>214.42</td>\n",
       "      <td>Digitized heuristic solution</td>\n",
       "      <td>0</td>\n",
       "      <td>Antigua and Barbuda</td>\n",
       "    </tr>\n",
       "    <tr>\n",
       "      <th>2</th>\n",
       "      <td>2202</td>\n",
       "      <td>2016-06-05 00:29:13</td>\n",
       "      <td>79.52</td>\n",
       "      <td>34</td>\n",
       "      <td>NaN</td>\n",
       "      <td>141.58</td>\n",
       "      <td>Customer-focused 24/7 concept</td>\n",
       "      <td>0</td>\n",
       "      <td>United States of America</td>\n",
       "    </tr>\n",
       "    <tr>\n",
       "      <th>3</th>\n",
       "      <td>2203</td>\n",
       "      <td>2016-06-05 07:54:30</td>\n",
       "      <td>52.35</td>\n",
       "      <td>25</td>\n",
       "      <td>33293.78</td>\n",
       "      <td>147.61</td>\n",
       "      <td>Mandatory 4thgeneration structure</td>\n",
       "      <td>1</td>\n",
       "      <td>Mali</td>\n",
       "    </tr>\n",
       "    <tr>\n",
       "      <th>4</th>\n",
       "      <td>2204</td>\n",
       "      <td>2016-06-05 07:54:30</td>\n",
       "      <td>81.51</td>\n",
       "      <td>36</td>\n",
       "      <td>NaN</td>\n",
       "      <td>195.93</td>\n",
       "      <td>Monitored local Internet solution</td>\n",
       "      <td>0</td>\n",
       "      <td>Croatia</td>\n",
       "    </tr>\n",
       "  </tbody>\n",
       "</table>\n",
       "</div>"
      ],
      "text/plain": [
       "     id            Timestamp  Daily Time Spent on Site  Age  Area Income  \\\n",
       "0  2200  2016-06-04 17:24:07                     43.88   54     31523.09   \n",
       "1  2201  2016-06-05 00:29:13                     66.40   40     77567.85   \n",
       "2  2202  2016-06-05 00:29:13                     79.52   34          NaN   \n",
       "3  2203  2016-06-05 07:54:30                     52.35   25     33293.78   \n",
       "4  2204  2016-06-05 07:54:30                     81.51   36          NaN   \n",
       "\n",
       "   Daily Internet Usage                      Ad Topic Line  gender  \\\n",
       "0                166.85       Enhanced methodical database       1   \n",
       "1                214.42       Digitized heuristic solution       0   \n",
       "2                141.58      Customer-focused 24/7 concept       0   \n",
       "3                147.61  Mandatory 4thgeneration structure       1   \n",
       "4                195.93  Monitored local Internet solution       0   \n",
       "\n",
       "                    Country  \n",
       "0                   Somalia  \n",
       "1       Antigua and Barbuda  \n",
       "2  United States of America  \n",
       "3                      Mali  \n",
       "4                   Croatia  "
      ]
     },
     "execution_count": 7,
     "metadata": {},
     "output_type": "execute_result"
    }
   ],
   "source": [
    "#Loading Test data\n",
    "test_data=pd.read_csv('test.csv')\n",
    "test_data.head()"
   ]
  },
  {
   "cell_type": "markdown",
   "metadata": {
    "colab_type": "text",
    "id": "MK_rdXETIKS4"
   },
   "source": [
    "\n",
    "\n",
    "**Describe the most important features in the model to a management audience.**\n",
    "\n",
    "> #### Task:\n",
    "- **Visualize the top 10 features and their feature importance.**\n"
   ]
  },
  {
   "cell_type": "markdown",
   "metadata": {
    "colab": {},
    "colab_type": "code",
    "id": "1XiIoLYLIKSj"
   },
   "source": [
    "# Data Analyse & Preprocessing :"
   ]
  },
  {
   "cell_type": "code",
   "execution_count": 8,
   "metadata": {},
   "outputs": [],
   "source": [
    "global k\n",
    "global ctry_dict\n",
    "ctry_dict={}\n",
    "k=0\n",
    "def country_to_int(row):\n",
    "    global k\n",
    "    global ctry_dict\n",
    "    country=row['Country']\n",
    "    if country not in ctry_dict:\n",
    "        ctry_dict[country]=k\n",
    "        k+=1\n",
    "    return(ctry_dict[country])\n",
    "    \n",
    "     "
   ]
  },
  {
   "cell_type": "code",
   "execution_count": 9,
   "metadata": {},
   "outputs": [],
   "source": [
    "def df_country_int(df:pd.DataFrame):\n",
    "    global k\n",
    "    global ctry_dict\n",
    "    df['Country_int']=df.apply(country_to_int,axis=1)\n",
    "    return(df) "
   ]
  },
  {
   "cell_type": "code",
   "execution_count": 10,
   "metadata": {},
   "outputs": [
    {
     "name": "stdout",
     "output_type": "stream",
     "text": [
      "CPU times: user 24.8 ms, sys: 1.07 ms, total: 25.9 ms\n",
      "Wall time: 23.4 ms\n"
     ]
    },
    {
     "data": {
      "text/html": [
       "<div>\n",
       "<style scoped>\n",
       "    .dataframe tbody tr th:only-of-type {\n",
       "        vertical-align: middle;\n",
       "    }\n",
       "\n",
       "    .dataframe tbody tr th {\n",
       "        vertical-align: top;\n",
       "    }\n",
       "\n",
       "    .dataframe thead th {\n",
       "        text-align: right;\n",
       "    }\n",
       "</style>\n",
       "<table border=\"1\" class=\"dataframe\">\n",
       "  <thead>\n",
       "    <tr style=\"text-align: right;\">\n",
       "      <th></th>\n",
       "      <th>id</th>\n",
       "      <th>Timestamp</th>\n",
       "      <th>Daily Time Spent on Site</th>\n",
       "      <th>Age</th>\n",
       "      <th>Area Income</th>\n",
       "      <th>Daily Internet Usage</th>\n",
       "      <th>Ad Topic Line</th>\n",
       "      <th>gender</th>\n",
       "      <th>Country</th>\n",
       "      <th>Clicked</th>\n",
       "      <th>Country_int</th>\n",
       "    </tr>\n",
       "  </thead>\n",
       "  <tbody>\n",
       "    <tr>\n",
       "      <th>0</th>\n",
       "      <td>1200</td>\n",
       "      <td>2016-01-01 02:52:10</td>\n",
       "      <td>80.67</td>\n",
       "      <td>34</td>\n",
       "      <td>58909.36</td>\n",
       "      <td>239.76</td>\n",
       "      <td>Seamless impactful info-mediaries</td>\n",
       "      <td>0</td>\n",
       "      <td>Portugal</td>\n",
       "      <td>0</td>\n",
       "      <td>0</td>\n",
       "    </tr>\n",
       "    <tr>\n",
       "      <th>1</th>\n",
       "      <td>1201</td>\n",
       "      <td>2016-01-01 03:35:35</td>\n",
       "      <td>68.01</td>\n",
       "      <td>25</td>\n",
       "      <td>68357.96</td>\n",
       "      <td>188.32</td>\n",
       "      <td>Ameliorated actuating workforce</td>\n",
       "      <td>1</td>\n",
       "      <td>Afghanistan</td>\n",
       "      <td>0</td>\n",
       "      <td>1</td>\n",
       "    </tr>\n",
       "    <tr>\n",
       "      <th>2</th>\n",
       "      <td>1202</td>\n",
       "      <td>2016-01-01 05:31:22</td>\n",
       "      <td>80.94</td>\n",
       "      <td>36</td>\n",
       "      <td>60803.00</td>\n",
       "      <td>239.94</td>\n",
       "      <td>Self-enabling local strategy</td>\n",
       "      <td>0</td>\n",
       "      <td>Bermuda</td>\n",
       "      <td>0</td>\n",
       "      <td>2</td>\n",
       "    </tr>\n",
       "    <tr>\n",
       "      <th>3</th>\n",
       "      <td>1203</td>\n",
       "      <td>2016-01-01 08:27:06</td>\n",
       "      <td>78.77</td>\n",
       "      <td>28</td>\n",
       "      <td>63497.62</td>\n",
       "      <td>211.83</td>\n",
       "      <td>Public-key intangible Graphical User Interface</td>\n",
       "      <td>0</td>\n",
       "      <td>Guam</td>\n",
       "      <td>0</td>\n",
       "      <td>3</td>\n",
       "    </tr>\n",
       "    <tr>\n",
       "      <th>4</th>\n",
       "      <td>1204</td>\n",
       "      <td>2016-01-01 15:14:24</td>\n",
       "      <td>36.56</td>\n",
       "      <td>29</td>\n",
       "      <td>42838.29</td>\n",
       "      <td>195.89</td>\n",
       "      <td>Team-oriented bi-directional secured line</td>\n",
       "      <td>0</td>\n",
       "      <td>Uganda</td>\n",
       "      <td>1</td>\n",
       "      <td>4</td>\n",
       "    </tr>\n",
       "  </tbody>\n",
       "</table>\n",
       "</div>"
      ],
      "text/plain": [
       "     id            Timestamp  Daily Time Spent on Site  Age  Area Income  \\\n",
       "0  1200  2016-01-01 02:52:10                     80.67   34     58909.36   \n",
       "1  1201  2016-01-01 03:35:35                     68.01   25     68357.96   \n",
       "2  1202  2016-01-01 05:31:22                     80.94   36     60803.00   \n",
       "3  1203  2016-01-01 08:27:06                     78.77   28     63497.62   \n",
       "4  1204  2016-01-01 15:14:24                     36.56   29     42838.29   \n",
       "\n",
       "   Daily Internet Usage                                   Ad Topic Line  \\\n",
       "0                239.76               Seamless impactful info-mediaries   \n",
       "1                188.32                 Ameliorated actuating workforce   \n",
       "2                239.94                    Self-enabling local strategy   \n",
       "3                211.83  Public-key intangible Graphical User Interface   \n",
       "4                195.89       Team-oriented bi-directional secured line   \n",
       "\n",
       "   gender      Country  Clicked  Country_int  \n",
       "0       0     Portugal        0            0  \n",
       "1       1  Afghanistan        0            1  \n",
       "2       0      Bermuda        0            2  \n",
       "3       0         Guam        0            3  \n",
       "4       0       Uganda        1            4  "
      ]
     },
     "execution_count": 10,
     "metadata": {},
     "output_type": "execute_result"
    }
   ],
   "source": [
    "%%time\n",
    "data_new=data.copy()\n",
    "df_country_int(data_new).head()"
   ]
  },
  {
   "cell_type": "code",
   "execution_count": 11,
   "metadata": {},
   "outputs": [],
   "source": [
    "\n",
    "#transform each timestamp to multiple columns of integers\n",
    "import numpy as np\n",
    "import re\n",
    "from matplotlib import pyplot as plt\n",
    "import matplotlib\n",
    "def timestamps_to_array(timestamp):\n",
    "    #timestamp=df['Timestamp']\n",
    "    time_list=re.split(r'\\D+',timestamp)\n",
    "    Year=int(time_list[0])\n",
    "    Month=int(time_list[1])\n",
    "    Day=int(time_list[2])\n",
    "    Hour=int(time_list[3])\n",
    "    return(Year,Month,Day,Hour)\n"
   ]
  },
  {
   "cell_type": "code",
   "execution_count": 12,
   "metadata": {},
   "outputs": [],
   "source": [
    "def df_timestamps(df:pd.DataFrame):\n",
    "    df['Year'],df['Month'],df['Day'],df['Hour']=zip(*df['Timestamp'].map(timestamps_to_array))\n",
    "    return(df)"
   ]
  },
  {
   "cell_type": "code",
   "execution_count": 13,
   "metadata": {},
   "outputs": [
    {
     "name": "stdout",
     "output_type": "stream",
     "text": [
      "   Year  Month  Day  Hour\n",
      "0  2016      1    1     2\n",
      "1  2016      1    1     3\n",
      "2  2016      1    1     5\n",
      "3  2016      1    1     8\n",
      "4  2016      1    1    15\n",
      "CPU times: user 8.68 ms, sys: 690 µs, total: 9.37 ms\n",
      "Wall time: 7.8 ms\n"
     ]
    }
   ],
   "source": [
    "%%time\n",
    "data_new=df_timestamps(data_new)\n",
    "print(data_new[['Year', 'Month', 'Day', 'Hour']].head())"
   ]
  },
  {
   "cell_type": "code",
   "execution_count": 14,
   "metadata": {},
   "outputs": [],
   "source": [
    "data_hist=data_new[data.Clicked!=0]"
   ]
  },
  {
   "cell_type": "markdown",
   "metadata": {},
   "source": [
    "**=>** We can remark that there is only one year in the dataset therefore the number of clicks per year is a single bar , and also the number of clicks per month is almost constant , however we have a drop for the last month \"6\" , we can conclude that this drop is due to the low number of data elements with a 'month==6'. Also we remark fluctuations of number of clicks when it comes to the feature of Days and hours.\n",
    "\n",
    "**As to conclude, we can only take the day as well as the hour in which the Ad is seen and drop the rest of the time stamp.**"
   ]
  },
  {
   "cell_type": "code",
   "execution_count": 47,
   "metadata": {},
   "outputs": [
    {
     "data": {
      "image/png": "[encoded data removed]",
      "text/plain": [
       "<Figure size 1368x1008 with 4 Axes>"
      ]
     },
     "metadata": {},
     "output_type": "display_data"
    },
    {
     "name": "stdout",
     "output_type": "stream",
     "text": [
      "CPU times: user 554 ms, sys: 16.5 ms, total: 570 ms\n",
      "Wall time: 569 ms\n"
     ]
    }
   ],
   "source": [
    "%%time\n",
    "\n",
    "fig, axes = plt.subplots(nrows = 2, ncols =2, figsize = (19, 14),facecolor='#FAF7CC')\n",
    "colors = [\"#e24a33\", \"#348abd\", \"#988ed5\", \"#777777\"]\n",
    "widths=[0.05,0.5,0.5,0.5]\n",
    "for index, column in enumerate(['Year','Month','Day','Hour']):\n",
    "    df_col=data_hist[column].value_counts().sort_index()\n",
    "    \n",
    "    unique=df_col.index\n",
    "    n=len(unique)\n",
    "    ax = axes.flatten()[index]\n",
    "    ax.set_facecolor('#FAF7CC')\n",
    "    \n",
    "    df_col.plot.bar(ax=ax, color = colors[index], label = column,align = 'center',edgecolor = 'k',rot=0,width=widths[index])\n",
    "    ax.set_title('Clicks per '+column,fontsize =25)\n",
    "    ax.legend(loc = \"best\",prop={\"size\":12})\n",
    "    ax.set_xticklabels(unique,fontsize=20/n**0.2)\n",
    "    \n",
    "plt.show()\n"
   ]
  },
  {
   "cell_type": "code",
   "execution_count": 189,
   "metadata": {},
   "outputs": [
    {
     "data": {
      "text/plain": [
       "Int64Index([ 1,  2,  3,  4,  5,  6,  7,  8,  9, 10, 11, 12, 13, 14, 15, 16, 17,\n",
       "            18, 19, 20, 21, 22, 23, 24, 25, 26, 27, 28, 29, 30, 31],\n",
       "           dtype='int64')"
      ]
     },
     "execution_count": 189,
     "metadata": {},
     "output_type": "execute_result"
    }
   ],
   "source": [
    "data_hist['Day'].value_counts().sort_index().index"
   ]
  },
  {
   "cell_type": "code",
   "execution_count": 226,
   "metadata": {},
   "outputs": [
    {
     "data": {
      "image/png": "[encoded data removed]",
      "text/plain": [
       "<Figure size 504x360 with 1 Axes>"
      ]
     },
     "metadata": {},
     "output_type": "display_data"
    },
    {
     "name": "stdout",
     "output_type": "stream",
     "text": [
      "CPU times: user 90 ms, sys: 39 µs, total: 90 ms\n",
      "Wall time: 87.6 ms\n"
     ]
    }
   ],
   "source": [
    "%%time\n",
    "\n",
    "fig, axes = plt.subplots(nrows = 1, ncols =1, figsize = (19, 14),facecolor='#FAF7CC')\n",
    "axes.set_facecolor('#FAF7CC')\n",
    "\n",
    "gender=data_hist['gender']\n",
    "gender.value_counts().plot.bar(figsize=(7,5),grid=False,align=\"center\",color=['#EB7965','#D4396F'],edgecolor='k',rot=0)\n",
    "plt.title('Clicks per Gender',fontsize=30)\n",
    "plt.xticks([0,1],fontsize=20)\n",
    "plt.show()"
   ]
  },
  {
   "cell_type": "markdown",
   "metadata": {},
   "source": [
    "**We can remark that there is a small difference when it comes to the number of clicks between the genders , therefore we decide to create two models, one which keeps the Gender Feature and one which drops it**"
   ]
  },
  {
   "cell_type": "markdown",
   "metadata": {
    "colab": {},
    "colab_type": "code",
    "id": "1Vk1EEy9IKSv"
   },
   "source": [
    "# Embedding the Ad Topic lines using Doc2Vec :"
   ]
  },
  {
   "cell_type": "markdown",
   "metadata": {
    "colab": {},
    "colab_type": "code",
    "id": "nkQU41WSIKSz"
   },
   "source": [
    "**Now using the Doc2Vec model from gensim we will try to embed the text in 'Ad Topic Line' feature into a vector of floats**"
   ]
  },
  {
   "cell_type": "code",
   "execution_count": 238,
   "metadata": {},
   "outputs": [],
   "source": [
    "#!pip install nltk\n",
    "#!pip install gensim"
   ]
  },
  {
   "cell_type": "code",
   "execution_count": 239,
   "metadata": {},
   "outputs": [
    {
     "name": "stderr",
     "output_type": "stream",
     "text": [
      "[nltk_data] Downloading package punkt to /home/dhiab/nltk_data...\n",
      "[nltk_data]   Package punkt is already up-to-date!\n"
     ]
    }
   ],
   "source": [
    "import nltk\n",
    "nltk.download('punkt')\n",
    "from nltk.tokenize import word_tokenize\n",
    "import numpy as np"
   ]
  },
  {
   "cell_type": "code",
   "execution_count": 240,
   "metadata": {},
   "outputs": [],
   "source": [
    "sentences=data['Ad Topic Line'].tolist()\n",
    "tok_sent = []\n",
    "for s in sentences:\n",
    "    tok_sent.append(word_tokenize(s.lower()))\n"
   ]
  },
  {
   "cell_type": "code",
   "execution_count": 241,
   "metadata": {},
   "outputs": [],
   "source": [
    "from gensim.models.doc2vec import Doc2Vec, TaggedDocument\n",
    "tagged_data = [TaggedDocument(d, [i]) for i, d in enumerate(tok_sent)]"
   ]
  },
  {
   "cell_type": "code",
   "execution_count": 242,
   "metadata": {},
   "outputs": [],
   "source": [
    "model = Doc2Vec(tagged_data, vector_size = 5, window = 2, min_count = 1, epochs = 1000)"
   ]
  },
  {
   "cell_type": "code",
   "execution_count": 25,
   "metadata": {
    "colab": {},
    "colab_type": "code",
    "id": "jabG4TJwIKS_"
   },
   "outputs": [
    {
     "name": "stdout",
     "output_type": "stream",
     "text": [
      "sentence example:\n",
      "Seamless impactful info-mediaries\n",
      "----------------------------------------------------------------------------------------------------\n",
      "Most similar title:\n",
      "Networked regional Local Area Network\n"
     ]
    },
    {
     "name": "stderr",
     "output_type": "stream",
     "text": [
      "<ipython-input-25-63ce96106884>:12: DeprecationWarning: Call to deprecated `docvecs` (The `docvecs` property has been renamed `dv`.).\n",
      "  print(sentences[model.docvecs.most_similar(positive = [test_doc_vector])[2][0]])\n"
     ]
    }
   ],
   "source": [
    "sentence_example=data['Ad Topic Line'][0]\n",
    "\n",
    "print('sentence example:')\n",
    "print(sentence_example)\n",
    "print('-'*100)\n",
    "test_doc = word_tokenize(sentence_example.lower())\n",
    "test_doc_vector = model.infer_vector(test_doc)\n",
    "\n",
    "\n",
    "\n",
    "print('Most similar title:')\n",
    "print(sentences[model.docvecs.most_similar(positive = [test_doc_vector])[2][0]])"
   ]
  },
  {
   "cell_type": "code",
   "execution_count": 26,
   "metadata": {},
   "outputs": [],
   "source": [
    "def topic_to_array(df: pd.DataFrame):\n",
    "    topic_list=[]\n",
    "    for _,row in df.iterrows():\n",
    "        topic_vector=model.infer_vector(word_tokenize(row['Ad Topic Line'].lower()))\n",
    "        topic_list.append(topic_vector)\n",
    "    return(np.array(topic_list))"
   ]
  },
  {
   "cell_type": "code",
   "execution_count": 27,
   "metadata": {},
   "outputs": [],
   "source": [
    "topic_array=topic_to_array(data)"
   ]
  },
  {
   "cell_type": "markdown",
   "metadata": {},
   "source": [
    "**When it comes the Nan values in the 'Area Income' column , we decided to  replace the Nan value with the Average value of 'Area Income'**"
   ]
  },
  {
   "cell_type": "code",
   "execution_count": 28,
   "metadata": {},
   "outputs": [
    {
     "name": "stdout",
     "output_type": "stream",
     "text": [
      "     Daily Time Spent on Site  Age   Area Income  Daily Internet Usage  gender\n",
      "0                       80.67   34  58909.360000                239.76       0\n",
      "1                       68.01   25  68357.960000                188.32       1\n",
      "2                       80.94   36  60803.000000                239.94       0\n",
      "3                       78.77   28  63497.620000                211.83       0\n",
      "4                       36.56   29  42838.290000                195.89       0\n",
      "..                        ...  ...           ...                   ...     ...\n",
      "995                     82.12   54  55343.014555                132.66       1\n",
      "996                     45.01   26  29875.800000                178.35       0\n",
      "997                     36.62   36  55343.014555                163.00       0\n",
      "998                     80.46   29  56909.300000                230.78       0\n",
      "999                     81.98   34  67432.490000                212.88       0\n",
      "\n",
      "[1000 rows x 5 columns]\n"
     ]
    }
   ],
   "source": [
    "m=np.mean(data.dropna()['Area Income'].to_numpy())\n",
    "data_avg=data[['Daily Time Spent on Site','Age','Area Income','Daily Internet Usage','gender']].fillna(m)\n",
    "print(data_avg)"
   ]
  },
  {
   "cell_type": "markdown",
   "metadata": {},
   "source": [
    "# Getting the Features Vectors 'X' and the Target Vectors 'Y' :"
   ]
  },
  {
   "cell_type": "code",
   "execution_count": 211,
   "metadata": {},
   "outputs": [
    {
     "name": "stdout",
     "output_type": "stream",
     "text": [
      "(1000, 13)\n",
      "(1000, 12)\n",
      "(1000,)\n"
     ]
    }
   ],
   "source": [
    "X1=np.concatenate([data_avg.to_numpy(),topic_array,timestamp_array[:,2:4],ctry_array],axis=1)\n",
    "print(X1.shape)\n",
    "data_avg_no_gender=data_avg[['Daily Time Spent on Site','Age','Area Income','Daily Internet Usage']]\n",
    "X2=np.concatenate([data_avg_no_gender.to_numpy(),topic_array,timestamp_array[:,2:4],ctry_array],axis=1)\n",
    "print(X2.shape)\n",
    "Y=data['Clicked'].to_numpy()\n",
    "print(Y.shape)"
   ]
  },
  {
   "cell_type": "markdown",
   "metadata": {},
   "source": [
    "# Using SVM from sklearn and Hold-out validation for model Assesment :"
   ]
  },
  {
   "cell_type": "code",
   "execution_count": 212,
   "metadata": {},
   "outputs": [],
   "source": [
    "def stand(X1,X):\n",
    "    \n",
    "    x_mean=np.mean(X1,axis=0)\n",
    "\n",
    "\n",
    "    x_std=np.std(X1,axis=0)\n",
    "\n",
    "    X_new=(X-x_mean)/x_std\n",
    "    return(X_new)"
   ]
  },
  {
   "cell_type": "code",
   "execution_count": 213,
   "metadata": {},
   "outputs": [],
   "source": [
    "X1_std=stand(X1,X1)\n",
    "X2_std=stand(X2,X2)"
   ]
  },
  {
   "cell_type": "code",
   "execution_count": 166,
   "metadata": {},
   "outputs": [],
   "source": [
    "#split first data to train and validation\n",
    "from sklearn.model_selection import train_test_split\n",
    "X_train1, X_val1, Y_train1, Y_val1 = train_test_split(X1_std, Y, test_size=0.33, random_state=40)"
   ]
  },
  {
   "cell_type": "code",
   "execution_count": 167,
   "metadata": {},
   "outputs": [],
   "source": [
    "#split second data to train and validation\n",
    "X_train2, X_val2, Y_train2, Y_val2 = train_test_split(X2_std, Y, test_size=0.33, random_state=40)"
   ]
  },
  {
   "cell_type": "code",
   "execution_count": 168,
   "metadata": {},
   "outputs": [
    {
     "data": {
      "text/plain": [
       "SVC(kernel='linear')"
      ]
     },
     "execution_count": 168,
     "metadata": {},
     "output_type": "execute_result"
    }
   ],
   "source": [
    "from sklearn import svm\n",
    "model_click11 = svm.SVC(kernel='linear')\n",
    "model_click11.fit(X_train1, Y_train1)"
   ]
  },
  {
   "cell_type": "code",
   "execution_count": 169,
   "metadata": {},
   "outputs": [
    {
     "data": {
      "text/plain": [
       "SVC(C=1.9, gamma=0.13)"
      ]
     },
     "execution_count": 169,
     "metadata": {},
     "output_type": "execute_result"
    }
   ],
   "source": [
    "model_click12 = svm.SVC(C=19e-1,gamma=13e-2,kernel='rbf')\n",
    "model_click12.fit(X_train1, Y_train1)"
   ]
  },
  {
   "cell_type": "code",
   "execution_count": 170,
   "metadata": {},
   "outputs": [
    {
     "data": {
      "text/plain": [
       "SVC(kernel='linear')"
      ]
     },
     "execution_count": 170,
     "metadata": {},
     "output_type": "execute_result"
    }
   ],
   "source": [
    "model_click21 = svm.SVC(kernel='linear')\n",
    "model_click21.fit(X_train2, Y_train2)"
   ]
  },
  {
   "cell_type": "code",
   "execution_count": 171,
   "metadata": {},
   "outputs": [
    {
     "data": {
      "text/plain": [
       "KNeighborsClassifier()"
      ]
     },
     "execution_count": 171,
     "metadata": {},
     "output_type": "execute_result"
    }
   ],
   "source": [
    "from sklearn.neighbors import KNeighborsClassifier\n",
    "model_click22 =  KNeighborsClassifier(n_neighbors=5)\n",
    "model_click22.fit(X_train2, Y_train2)"
   ]
  },
  {
   "cell_type": "code",
   "execution_count": 172,
   "metadata": {},
   "outputs": [],
   "source": [
    "def accuracy(model,X_val,Y_val):\n",
    "    acc=(model.predict(X_val)==Y_val).mean()\n",
    "    \n",
    "    return(acc)"
   ]
  },
  {
   "cell_type": "code",
   "execution_count": 173,
   "metadata": {},
   "outputs": [
    {
     "name": "stdout",
     "output_type": "stream",
     "text": [
      "first model with SVM linear kernel accuracy on train set : 0.86\n",
      "----------------------------------------------------------------------------------------------------\n",
      "first model with SVM linear kernel accuracy on validation set : 0.85\n"
     ]
    }
   ],
   "source": [
    "print(f'first model with SVM linear kernel accuracy on train set : {accuracy(model_click11,X_train1,Y_train1):.2f}')\n",
    "print('-'*100)\n",
    "print(f'first model with SVM linear kernel accuracy on validation set : {accuracy(model_click11,X_val1,Y_val1):.2f}')"
   ]
  },
  {
   "cell_type": "code",
   "execution_count": 174,
   "metadata": {},
   "outputs": [
    {
     "name": "stdout",
     "output_type": "stream",
     "text": [
      "second model with SVM linear kernel accuracy on train set : 0.87\n",
      "----------------------------------------------------------------------------------------------------\n",
      "second model with SVM linear kernel accuracy on validation set : 0.85\n"
     ]
    }
   ],
   "source": [
    "print(f'second model with SVM linear kernel accuracy on train set : {accuracy(model_click21,X_train2,Y_train2):.2f}')\n",
    "print('-'*100)\n",
    "print(f'second model with SVM linear kernel accuracy on validation set : {accuracy(model_click21,X_val2,Y_val2):.2f}')"
   ]
  },
  {
   "cell_type": "code",
   "execution_count": 175,
   "metadata": {},
   "outputs": [
    {
     "name": "stdout",
     "output_type": "stream",
     "text": [
      "first model with SVM rbf kernel accuracy on train set : 0.96\n",
      "----------------------------------------------------------------------------------------------------\n",
      "first model with SVM rbf kernel accuracy on validation set : 0.85\n"
     ]
    }
   ],
   "source": [
    "print(f'first model with SVM rbf kernel accuracy on train set : {accuracy(model_click12,X_train1,Y_train1):.2f}')\n",
    "print('-'*100)\n",
    "print(f'first model with SVM rbf kernel accuracy on validation set : {accuracy(model_click12,X_val1,Y_val1):.2f}')"
   ]
  },
  {
   "cell_type": "code",
   "execution_count": 176,
   "metadata": {},
   "outputs": [
    {
     "name": "stdout",
     "output_type": "stream",
     "text": [
      "second model with KNN method accuracy on train set : 0.88\n",
      "----------------------------------------------------------------------------------------------------\n",
      "second model with KNN method accuracy on validation set : 0.84\n"
     ]
    }
   ],
   "source": [
    "print(f'second model with KNN method accuracy on train set : {accuracy(model_click22,X_train2,Y_train2):.2f}')\n",
    "print('-'*100)\n",
    "print(f'second model with KNN method accuracy on validation set : {accuracy(model_click22,X_val2,Y_val2):.2f}')"
   ]
  },
  {
   "cell_type": "markdown",
   "metadata": {},
   "source": [
    "**the first model with SVM rbf kernel performs best on validation set therefore we will train it on the whole dataset and test it on the test set**"
   ]
  },
  {
   "cell_type": "code",
   "execution_count": 195,
   "metadata": {},
   "outputs": [
    {
     "data": {
      "text/plain": [
       "SVC(C=1.9, gamma=0.13)"
      ]
     },
     "execution_count": 195,
     "metadata": {},
     "output_type": "execute_result"
    }
   ],
   "source": [
    "model_final = svm.SVC(C=19e-1,gamma=13e-2,kernel='rbf')\n",
    "model_final.fit(X1_std, Y)"
   ]
  },
  {
   "cell_type": "markdown",
   "metadata": {
    "colab_type": "text",
    "id": "UFogmgYZIKTE"
   },
   "source": [
    "> #### Task:\n",
    "- **Submit the predictions on the test dataset using your optimized model** <br/>\n",
    "    For each record in the test set (`test.csv`), predict whether a consumer clicked on an ad or not. Submit a CSV file with a header row and one row per test entry. \n",
    "    \n",
    "The file (`submissions.csv`) should have exactly 2 columns:\n",
    "   - **id**\n",
    "   - **Clicked**"
   ]
  },
  {
   "cell_type": "code",
   "execution_count": 197,
   "metadata": {
    "colab": {},
    "colab_type": "code",
    "id": "7xgNg25MIKTG"
   },
   "outputs": [
    {
     "name": "stdout",
     "output_type": "stream",
     "text": [
      "(300, 1)\n"
     ]
    }
   ],
   "source": [
    "ctry_array_test=country_to_array(test_data)\n",
    "ctry_array_test=ctry_array_test.reshape((ctry_array_test.shape[0],1))\n",
    "print(ctry_array_test.shape)"
   ]
  },
  {
   "cell_type": "code",
   "execution_count": 198,
   "metadata": {
    "colab": {},
    "colab_type": "code",
    "id": "OaxN7BjwIKTL"
   },
   "outputs": [
    {
     "name": "stdout",
     "output_type": "stream",
     "text": [
      "(300, 5)\n"
     ]
    }
   ],
   "source": [
    "topic_array_test=topic_to_array(test_data)\n",
    "print(topic_array_test.shape)"
   ]
  },
  {
   "cell_type": "code",
   "execution_count": 181,
   "metadata": {},
   "outputs": [
    {
     "data": {
      "text/plain": [
       "(300, 6)"
      ]
     },
     "execution_count": 181,
     "metadata": {},
     "output_type": "execute_result"
    }
   ],
   "source": [
    "timestamp_array_test=timestamp_to_array(test_data)\n",
    "timestamp_array_test.shape"
   ]
  },
  {
   "cell_type": "code",
   "execution_count": 199,
   "metadata": {},
   "outputs": [
    {
     "name": "stdout",
     "output_type": "stream",
     "text": [
      "     Daily Time Spent on Site  Age   Area Income  Daily Internet Usage  gender\n",
      "0                       43.88   54  31523.090000                166.85       1\n",
      "1                       66.40   40  77567.850000                214.42       0\n",
      "2                       79.52   34  53818.505778                141.58       0\n",
      "3                       52.35   25  33293.780000                147.61       1\n",
      "4                       81.51   36  53818.505778                195.93       0\n",
      "..                        ...  ...           ...                   ...     ...\n",
      "295                     74.06   23  40345.490000                225.99       0\n",
      "296                     61.88   42  60223.520000                112.19       1\n",
      "297                     80.03   44  24030.060000                150.84       0\n",
      "298                     86.38   33  53818.505778                233.60       0\n",
      "299                     69.15   46  36424.940000                112.72       0\n",
      "\n",
      "[300 rows x 5 columns]\n"
     ]
    }
   ],
   "source": [
    "m=np.mean(test_data.dropna()['Area Income'].to_numpy())\n",
    "data_avg_test=test_data[['Daily Time Spent on Site','Age','Area Income','Daily Internet Usage','gender']].fillna(m)\n",
    "print(data_avg_test)"
   ]
  },
  {
   "cell_type": "code",
   "execution_count": 217,
   "metadata": {},
   "outputs": [
    {
     "name": "stdout",
     "output_type": "stream",
     "text": [
      "(300, 13)\n"
     ]
    }
   ],
   "source": [
    "X_test=np.concatenate([data_avg_test.to_numpy(),topic_array_test,timestamp_array_test[:,2:4],ctry_array_test],axis=1)\n",
    "X_test_std=stand(X1,X_test)\n",
    "print(X_test_std.shape)"
   ]
  },
  {
   "cell_type": "code",
   "execution_count": 218,
   "metadata": {},
   "outputs": [],
   "source": [
    "Y_test=model_final.predict(X_test_std)"
   ]
  },
  {
   "cell_type": "code",
   "execution_count": 219,
   "metadata": {},
   "outputs": [],
   "source": [
    "dict_test['id']=test_data['id'].to_list()\n",
    "dict_test['Clicked']=list(Y_test)"
   ]
  },
  {
   "cell_type": "code",
   "execution_count": 220,
   "metadata": {},
   "outputs": [
    {
     "name": "stdout",
     "output_type": "stream",
     "text": [
      "       id  Clicked\n",
      "0    2200        1\n",
      "1    2201        0\n",
      "2    2202        0\n",
      "3    2203        1\n",
      "4    2204        0\n",
      "..    ...      ...\n",
      "295  2495        0\n",
      "296  2496        1\n",
      "297  2497        1\n",
      "298  2498        0\n",
      "299  2499        1\n",
      "\n",
      "[300 rows x 2 columns]\n"
     ]
    }
   ],
   "source": [
    "submission_df=pd.DataFrame.from_dict(dict_test)\n",
    "print(submission_df)"
   ]
  },
  {
   "cell_type": "code",
   "execution_count": 221,
   "metadata": {
    "colab": {},
    "colab_type": "code",
    "id": "nBRVPrYbIKTQ"
   },
   "outputs": [],
   "source": [
    "#Submission\n",
    "submission_df.to_csv('submissions_v2.csv',index=False)"
   ]
  },
  {
   "cell_type": "markdown",
   "metadata": {
    "colab_type": "text",
    "id": "H_pB8zTcIKTW"
   },
   "source": [
    "---"
   ]
  }
 ],
 "metadata": {
  "colab": {
   "collapsed_sections": [],
   "name": "ads_questions_updated.ipynb",
   "provenance": [],
   "toc_visible": true
  },
  "interpreter": {
   "hash": "74ec93bccee811c650cabd8a679f27f24530bd23ec50915e0d76c126ae7ffac5"
  },
  "kernelspec": {
   "display_name": "Python 3",
   "language": "python",
   "name": "python3"
  },
  "language_info": {
   "codemirror_mode": {
    "name": "ipython",
    "version": 3
   },
   "file_extension": ".py",
   "mimetype": "text/x-python",
   "name": "python",
   "nbconvert_exporter": "python",
   "pygments_lexer": "ipython3",
   "version": "3.8.8"
  },
  "toc": {
   "base_numbering": 1,
   "nav_menu": {},
   "number_sections": true,
   "sideBar": true,
   "skip_h1_title": false,
   "title_cell": "Table of Contents",
   "title_sidebar": "Contents",
   "toc_cell": false,
   "toc_position": {},
   "toc_section_display": true,
   "toc_window_display": false
  }
 },
 "nbformat": 4,
 "nbformat_minor": 4
}
